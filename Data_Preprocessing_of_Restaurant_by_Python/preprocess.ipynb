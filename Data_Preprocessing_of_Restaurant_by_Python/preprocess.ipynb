{
 "cells": [
  {
   "cell_type": "code",
   "execution_count": 1,
   "id": "60a821af",
   "metadata": {
    "executionInfo": {
     "elapsed": 152,
     "status": "ok",
     "timestamp": 1678969611248,
     "user": {
      "displayName": "Mehrdad M. Dehghan",
      "userId": "08222177611817016206"
     },
     "user_tz": 240
    },
    "id": "60a821af"
   },
   "outputs": [],
   "source": [
    "#import pandas library\n",
    "import pandas as pd\n",
    "import numpy as np"
   ]
  },
  {
   "cell_type": "code",
   "execution_count": 4,
   "id": "c8cd9386",
   "metadata": {
    "executionInfo": {
     "elapsed": 159,
     "status": "ok",
     "timestamp": 1678969689711,
     "user": {
      "displayName": "Mehrdad M. Dehghan",
      "userId": "08222177611817016206"
     },
     "user_tz": 240
    },
    "id": "c8cd9386"
   },
   "outputs": [],
   "source": [
    "#import dataset\n",
    "df = pd.read_csv('data.csv')"
   ]
  },
  {
   "cell_type": "markdown",
   "id": "6f6c3e34",
   "metadata": {
    "id": "6f6c3e34"
   },
   "source": [
    "# Text Variables"
   ]
  },
  {
   "cell_type": "markdown",
   "id": "856b1399",
   "metadata": {
    "id": "856b1399"
   },
   "source": [
    "In this dataset, we have three text variables:</br>\n",
    "<li><b>name</b>: just check null value\n",
    "<li><b>address</b>: analyze according to regular expression\n",
    "<li><b>phone</b>: check null and fixed-length"
   ]
  },
  {
   "cell_type": "markdown",
   "id": "acc00751",
   "metadata": {
    "id": "acc00751"
   },
   "source": [
    "> ### name"
   ]
  },
  {
   "cell_type": "markdown",
   "id": "1aa5af74",
   "metadata": {
    "id": "1aa5af74"
   },
   "source": [
    "since, we may have all differenet names, and there is no specific rule about it, we just need to check the null values:"
   ]
  },
  {
   "cell_type": "code",
   "execution_count": 5,
   "id": "fef95882",
   "metadata": {
    "colab": {
     "base_uri": "https://localhost:8080/"
    },
    "executionInfo": {
     "elapsed": 123,
     "status": "ok",
     "timestamp": 1678969708854,
     "user": {
      "displayName": "Mehrdad M. Dehghan",
      "userId": "08222177611817016206"
     },
     "user_tz": 240
    },
    "id": "fef95882",
    "outputId": "b8fc107a-31bb-407c-d348-08aa1dffae1b"
   },
   "outputs": [
    {
     "name": "stdout",
     "output_type": "stream",
     "text": [
      "Int64Index([], dtype='int64')\n"
     ]
    }
   ],
   "source": [
    "print(df.loc[df['name'].isnull()].index)"
   ]
  },
  {
   "cell_type": "markdown",
   "id": "ab043207",
   "metadata": {
    "id": "ab043207"
   },
   "source": [
    "the result show there is no null value in this column"
   ]
  },
  {
   "cell_type": "markdown",
   "id": "e381d6fd",
   "metadata": {
    "id": "e381d6fd"
   },
   "source": [
    "> ### address"
   ]
  },
  {
   "cell_type": "markdown",
   "id": "04477f99",
   "metadata": {
    "id": "04477f99"
   },
   "source": [
    "first we must trim this column to remove all unneeded spaces:"
   ]
  },
  {
   "cell_type": "code",
   "execution_count": 6,
   "id": "a41f8f86",
   "metadata": {
    "executionInfo": {
     "elapsed": 2,
     "status": "ok",
     "timestamp": 1678969712499,
     "user": {
      "displayName": "Mehrdad M. Dehghan",
      "userId": "08222177611817016206"
     },
     "user_tz": 240
    },
    "id": "a41f8f86"
   },
   "outputs": [],
   "source": [
    "df['address'] = df['address'].str.strip()"
   ]
  },
  {
   "cell_type": "markdown",
   "id": "d08344a8",
   "metadata": {
    "id": "d08344a8"
   },
   "source": [
    "then we should separate the text from the numbers and put them into a new variable:"
   ]
  },
  {
   "cell_type": "code",
   "execution_count": 7,
   "id": "d7a825f8",
   "metadata": {
    "executionInfo": {
     "elapsed": 4,
     "status": "ok",
     "timestamp": 1678969715267,
     "user": {
      "displayName": "Mehrdad M. Dehghan",
      "userId": "08222177611817016206"
     },
     "user_tz": 240
    },
    "id": "d7a825f8"
   },
   "outputs": [],
   "source": [
    "df['number'] = df['address'].str.extract(r'^(\\d+)')"
   ]
  },
  {
   "cell_type": "markdown",
   "id": "aaec32bc",
   "metadata": {
    "id": "aaec32bc"
   },
   "source": [
    "now we have a column that shows the number of the address. so, there is no worry about the address content and it can contain number as well as adress."
   ]
  },
  {
   "cell_type": "markdown",
   "id": "DQoNYIv3abeY",
   "metadata": {
    "id": "DQoNYIv3abeY"
   },
   "source": [
    "> ### phone"
   ]
  },
  {
   "cell_type": "markdown",
   "id": "7GofaAbXalU1",
   "metadata": {
    "id": "7GofaAbXalU1"
   },
   "source": [
    "the phone is kind of text data type that should contain fixed-lenght value. But first we should check whether there is null value or not"
   ]
  },
  {
   "cell_type": "code",
   "execution_count": 8,
   "id": "ZcV5VSmtafzt",
   "metadata": {
    "colab": {
     "base_uri": "https://localhost:8080/"
    },
    "executionInfo": {
     "elapsed": 142,
     "status": "ok",
     "timestamp": 1678970225806,
     "user": {
      "displayName": "Mehrdad M. Dehghan",
      "userId": "08222177611817016206"
     },
     "user_tz": 240
    },
    "id": "ZcV5VSmtafzt",
    "outputId": "93ec50f0-b1b7-4d14-8dc5-dcdae2782ea2"
   },
   "outputs": [
    {
     "name": "stdout",
     "output_type": "stream",
     "text": [
      "Int64Index([], dtype='int64')\n"
     ]
    }
   ],
   "source": [
    "print(df.loc[df['phone'].isnull()].index)"
   ]
  },
  {
   "cell_type": "markdown",
   "id": "m3bmxVPubLae",
   "metadata": {
    "id": "m3bmxVPubLae"
   },
   "source": [
    "the result shows there is no null value in this column."
   ]
  },
  {
   "cell_type": "markdown",
   "id": "R4dyWSdwbU9m",
   "metadata": {
    "id": "R4dyWSdwbU9m"
   },
   "source": [
    "then we should make sure that whether the data have the same length or not. They must contain. But before that we should check its data type. It must be text and not integer"
   ]
  },
  {
   "cell_type": "code",
   "execution_count": 9,
   "id": "zDj3kfVFdsH3",
   "metadata": {
    "colab": {
     "base_uri": "https://localhost:8080/"
    },
    "executionInfo": {
     "elapsed": 138,
     "status": "ok",
     "timestamp": 1678971186928,
     "user": {
      "displayName": "Mehrdad M. Dehghan",
      "userId": "08222177611817016206"
     },
     "user_tz": 240
    },
    "id": "zDj3kfVFdsH3",
    "outputId": "e00936e6-9dd5-4acb-b81a-c31bd034451c"
   },
   "outputs": [
    {
     "data": {
      "text/plain": [
       "dtype('int64')"
      ]
     },
     "execution_count": 9,
     "metadata": {},
     "output_type": "execute_result"
    }
   ],
   "source": [
    "df['phone'].dtypes"
   ]
  },
  {
   "cell_type": "markdown",
   "id": "LiGsR6Z6e0uV",
   "metadata": {
    "id": "LiGsR6Z6e0uV"
   },
   "source": [
    "so, the result shows we should convert this data type to string"
   ]
  },
  {
   "cell_type": "code",
   "execution_count": 10,
   "id": "fL4uEEhZfG5X",
   "metadata": {
    "executionInfo": {
     "elapsed": 4,
     "status": "ok",
     "timestamp": 1678971333559,
     "user": {
      "displayName": "Mehrdad M. Dehghan",
      "userId": "08222177611817016206"
     },
     "user_tz": 240
    },
    "id": "fL4uEEhZfG5X"
   },
   "outputs": [],
   "source": [
    "df['phone'] = df['phone'].astype(str)"
   ]
  },
  {
   "cell_type": "markdown",
   "id": "3iWRSKOmfYQt",
   "metadata": {
    "id": "3iWRSKOmfYQt"
   },
   "source": [
    "then check the data type of this column again:"
   ]
  },
  {
   "cell_type": "code",
   "execution_count": 11,
   "id": "auu1ZG32fXhV",
   "metadata": {
    "colab": {
     "base_uri": "https://localhost:8080/"
    },
    "executionInfo": {
     "elapsed": 135,
     "status": "ok",
     "timestamp": 1678971372897,
     "user": {
      "displayName": "Mehrdad M. Dehghan",
      "userId": "08222177611817016206"
     },
     "user_tz": 240
    },
    "id": "auu1ZG32fXhV",
    "outputId": "ec932ce1-cd61-4b42-9604-6a6ce4226209"
   },
   "outputs": [
    {
     "data": {
      "text/plain": [
       "dtype('O')"
      ]
     },
     "execution_count": 11,
     "metadata": {},
     "output_type": "execute_result"
    }
   ],
   "source": [
    "df['phone'].dtypes"
   ]
  },
  {
   "cell_type": "markdown",
   "id": "8ohti1M9fl2O",
   "metadata": {
    "id": "8ohti1M9fl2O"
   },
   "source": [
    "now, we can check its value's length"
   ]
  },
  {
   "cell_type": "code",
   "execution_count": 12,
   "id": "28T_Oh_Jc8Ke",
   "metadata": {
    "executionInfo": {
     "elapsed": 166,
     "status": "ok",
     "timestamp": 1678971766629,
     "user": {
      "displayName": "Mehrdad M. Dehghan",
      "userId": "08222177611817016206"
     },
     "user_tz": 240
    },
    "id": "28T_Oh_Jc8Ke"
   },
   "outputs": [],
   "source": [
    "for i in range(len(df)):\n",
    "    if len(df.iloc[i,3]) == 10:\n",
    "        df['length phone'] = 'OK'\n",
    "    else:\n",
    "        df['length phone'] = 'Not'"
   ]
  },
  {
   "cell_type": "markdown",
   "id": "V_Rr14-XhIme",
   "metadata": {
    "id": "V_Rr14-XhIme"
   },
   "source": [
    "now we can see which rows are \"Not\""
   ]
  },
  {
   "cell_type": "code",
   "execution_count": 57,
   "id": "Xnv_lOsIha-P",
   "metadata": {
    "colab": {
     "base_uri": "https://localhost:8080/",
     "height": 49
    },
    "executionInfo": {
     "elapsed": 124,
     "status": "ok",
     "timestamp": 1678971968416,
     "user": {
      "displayName": "Mehrdad M. Dehghan",
      "userId": "08222177611817016206"
     },
     "user_tz": 240
    },
    "id": "Xnv_lOsIha-P",
    "outputId": "5437f2b3-a735-463a-8f2d-377cb2d18ed3"
   },
   "outputs": [
    {
     "data": {
      "text/html": [
       "\n",
       "  <div id=\"df-341cb0cc-13cf-46f4-87a1-8a7cc648cceb\">\n",
       "    <div class=\"colab-df-container\">\n",
       "      <div>\n",
       "<style scoped>\n",
       "    .dataframe tbody tr th:only-of-type {\n",
       "        vertical-align: middle;\n",
       "    }\n",
       "\n",
       "    .dataframe tbody tr th {\n",
       "        vertical-align: top;\n",
       "    }\n",
       "\n",
       "    .dataframe thead th {\n",
       "        text-align: right;\n",
       "    }\n",
       "</style>\n",
       "<table border=\"1\" class=\"dataframe\">\n",
       "  <thead>\n",
       "    <tr style=\"text-align: right;\">\n",
       "      <th></th>\n",
       "      <th>name</th>\n",
       "      <th>address</th>\n",
       "      <th>city</th>\n",
       "      <th>phone</th>\n",
       "      <th>type</th>\n",
       "      <th>number</th>\n",
       "      <th>length phone</th>\n",
       "    </tr>\n",
       "  </thead>\n",
       "  <tbody>\n",
       "  </tbody>\n",
       "</table>\n",
       "</div>\n",
       "      <button class=\"colab-df-convert\" onclick=\"convertToInteractive('df-341cb0cc-13cf-46f4-87a1-8a7cc648cceb')\"\n",
       "              title=\"Convert this dataframe to an interactive table.\"\n",
       "              style=\"display:none;\">\n",
       "        \n",
       "  <svg xmlns=\"http://www.w3.org/2000/svg\" height=\"24px\"viewBox=\"0 0 24 24\"\n",
       "       width=\"24px\">\n",
       "    <path d=\"M0 0h24v24H0V0z\" fill=\"none\"/>\n",
       "    <path d=\"M18.56 5.44l.94 2.06.94-2.06 2.06-.94-2.06-.94-.94-2.06-.94 2.06-2.06.94zm-11 1L8.5 8.5l.94-2.06 2.06-.94-2.06-.94L8.5 2.5l-.94 2.06-2.06.94zm10 10l.94 2.06.94-2.06 2.06-.94-2.06-.94-.94-2.06-.94 2.06-2.06.94z\"/><path d=\"M17.41 7.96l-1.37-1.37c-.4-.4-.92-.59-1.43-.59-.52 0-1.04.2-1.43.59L10.3 9.45l-7.72 7.72c-.78.78-.78 2.05 0 2.83L4 21.41c.39.39.9.59 1.41.59.51 0 1.02-.2 1.41-.59l7.78-7.78 2.81-2.81c.8-.78.8-2.07 0-2.86zM5.41 20L4 18.59l7.72-7.72 1.47 1.35L5.41 20z\"/>\n",
       "  </svg>\n",
       "      </button>\n",
       "      \n",
       "  <style>\n",
       "    .colab-df-container {\n",
       "      display:flex;\n",
       "      flex-wrap:wrap;\n",
       "      gap: 12px;\n",
       "    }\n",
       "\n",
       "    .colab-df-convert {\n",
       "      background-color: #E8F0FE;\n",
       "      border: none;\n",
       "      border-radius: 50%;\n",
       "      cursor: pointer;\n",
       "      display: none;\n",
       "      fill: #1967D2;\n",
       "      height: 32px;\n",
       "      padding: 0 0 0 0;\n",
       "      width: 32px;\n",
       "    }\n",
       "\n",
       "    .colab-df-convert:hover {\n",
       "      background-color: #E2EBFA;\n",
       "      box-shadow: 0px 1px 2px rgba(60, 64, 67, 0.3), 0px 1px 3px 1px rgba(60, 64, 67, 0.15);\n",
       "      fill: #174EA6;\n",
       "    }\n",
       "\n",
       "    [theme=dark] .colab-df-convert {\n",
       "      background-color: #3B4455;\n",
       "      fill: #D2E3FC;\n",
       "    }\n",
       "\n",
       "    [theme=dark] .colab-df-convert:hover {\n",
       "      background-color: #434B5C;\n",
       "      box-shadow: 0px 1px 3px 1px rgba(0, 0, 0, 0.15);\n",
       "      filter: drop-shadow(0px 1px 2px rgba(0, 0, 0, 0.3));\n",
       "      fill: #FFFFFF;\n",
       "    }\n",
       "  </style>\n",
       "\n",
       "      <script>\n",
       "        const buttonEl =\n",
       "          document.querySelector('#df-341cb0cc-13cf-46f4-87a1-8a7cc648cceb button.colab-df-convert');\n",
       "        buttonEl.style.display =\n",
       "          google.colab.kernel.accessAllowed ? 'block' : 'none';\n",
       "\n",
       "        async function convertToInteractive(key) {\n",
       "          const element = document.querySelector('#df-341cb0cc-13cf-46f4-87a1-8a7cc648cceb');\n",
       "          const dataTable =\n",
       "            await google.colab.kernel.invokeFunction('convertToInteractive',\n",
       "                                                     [key], {});\n",
       "          if (!dataTable) return;\n",
       "\n",
       "          const docLinkHtml = 'Like what you see? Visit the ' +\n",
       "            '<a target=\"_blank\" href=https://colab.research.google.com/notebooks/data_table.ipynb>data table notebook</a>'\n",
       "            + ' to learn more about interactive tables.';\n",
       "          element.innerHTML = '';\n",
       "          dataTable['output_type'] = 'display_data';\n",
       "          await google.colab.output.renderOutput(dataTable, element);\n",
       "          const docLink = document.createElement('div');\n",
       "          docLink.innerHTML = docLinkHtml;\n",
       "          element.appendChild(docLink);\n",
       "        }\n",
       "      </script>\n",
       "    </div>\n",
       "  </div>\n",
       "  "
      ],
      "text/plain": [
       "Empty DataFrame\n",
       "Columns: [name, address, city, phone, type, number, length phone]\n",
       "Index: []"
      ]
     },
     "execution_count": 57,
     "metadata": {},
     "output_type": "execute_result"
    }
   ],
   "source": [
    "filtered_df = df[df['length phone'].str.contains('Not')]\n",
    "filtered_df"
   ]
  },
  {
   "cell_type": "markdown",
   "id": "8slewAgdhy3H",
   "metadata": {
    "id": "8slewAgdhy3H"
   },
   "source": [
    "the result shows, there is no phone number that its value is not 10. now we can remove the check column"
   ]
  },
  {
   "cell_type": "code",
   "execution_count": 60,
   "id": "QFRZMXpMjt--",
   "metadata": {
    "executionInfo": {
     "elapsed": 134,
     "status": "ok",
     "timestamp": 1678972506215,
     "user": {
      "displayName": "Mehrdad M. Dehghan",
      "userId": "08222177611817016206"
     },
     "user_tz": 240
    },
    "id": "QFRZMXpMjt--"
   },
   "outputs": [],
   "source": [
    "df = df.drop('length phone' , axis = 1)"
   ]
  },
  {
   "cell_type": "markdown",
   "id": "Ems6CxqdjcZ4",
   "metadata": {
    "id": "Ems6CxqdjcZ4"
   },
   "source": [
    "# Categorical Variables"
   ]
  },
  {
   "cell_type": "markdown",
   "id": "7vv_AvHejjds",
   "metadata": {
    "id": "7vv_AvHejjds"
   },
   "source": [
    "In this dataset, we have two categorical variables:</br>\n",
    "<li><b>city</b>: check null value and all possible values\n",
    "<li><b>type</b>: check null value and all possible values"
   ]
  },
  {
   "cell_type": "markdown",
   "id": "ZKY_ObmfkOSm",
   "metadata": {
    "id": "ZKY_ObmfkOSm"
   },
   "source": [
    "> ### city"
   ]
  },
  {
   "cell_type": "markdown",
   "id": "fvTxdKatkScN",
   "metadata": {
    "id": "fvTxdKatkScN"
   },
   "source": [
    "first we should check if there is any null value"
   ]
  },
  {
   "cell_type": "code",
   "execution_count": 62,
   "id": "y_4AZ70KkbCg",
   "metadata": {
    "colab": {
     "base_uri": "https://localhost:8080/"
    },
    "executionInfo": {
     "elapsed": 128,
     "status": "ok",
     "timestamp": 1678972672575,
     "user": {
      "displayName": "Mehrdad M. Dehghan",
      "userId": "08222177611817016206"
     },
     "user_tz": 240
    },
    "id": "y_4AZ70KkbCg",
    "outputId": "02b2edd4-b36a-4b47-87ce-85a663cf6f91"
   },
   "outputs": [
    {
     "name": "stdout",
     "output_type": "stream",
     "text": [
      "Int64Index([], dtype='int64')\n"
     ]
    }
   ],
   "source": [
    "print(df.loc[df['city'].isnull()].index)"
   ]
  },
  {
   "cell_type": "markdown",
   "id": "Y5uYcby_keSX",
   "metadata": {
    "id": "Y5uYcby_keSX"
   },
   "source": [
    "we don't have any null value in this column. next we should check the all possible values. for doing this, let's see all unique values:"
   ]
  },
  {
   "cell_type": "code",
   "execution_count": 63,
   "id": "T8xseMX1k9iH",
   "metadata": {
    "colab": {
     "base_uri": "https://localhost:8080/"
    },
    "executionInfo": {
     "elapsed": 146,
     "status": "ok",
     "timestamp": 1678972835820,
     "user": {
      "displayName": "Mehrdad M. Dehghan",
      "userId": "08222177611817016206"
     },
     "user_tz": 240
    },
    "id": "T8xseMX1k9iH",
    "outputId": "b733f65b-daf5-4966-f87b-4705da98df99"
   },
   "outputs": [
    {
     "name": "stdout",
     "output_type": "stream",
     "text": [
      "['atlanta', 'beverly hills', 'brooklyn', 'hollywood', 'las vegas', 'los angeles', 'los feliz', 'new york', 'pacific palisades', 'san francisco', 'santa monica', 'sherman oaks', 'studio city', 'toluca lake']\n"
     ]
    }
   ],
   "source": [
    "print(sorted(df['city'].unique()))"
   ]
  },
  {
   "cell_type": "markdown",
   "id": "XQGKC_D2lKdP",
   "metadata": {
    "id": "XQGKC_D2lKdP"
   },
   "source": [
    "the result shows all possible values are correct and there is not inconsistency among them."
   ]
  },
  {
   "cell_type": "markdown",
   "id": "wBhUxpfulXz3",
   "metadata": {
    "id": "wBhUxpfulXz3"
   },
   "source": [
    "> ### type"
   ]
  },
  {
   "cell_type": "markdown",
   "id": "NpgS5zWilame",
   "metadata": {
    "id": "NpgS5zWilame"
   },
   "source": [
    "the process for this column is as same as the city. so, first see if we have null value or not"
   ]
  },
  {
   "cell_type": "code",
   "execution_count": 64,
   "id": "Rojw0C6dlka_",
   "metadata": {
    "colab": {
     "base_uri": "https://localhost:8080/"
    },
    "executionInfo": {
     "elapsed": 136,
     "status": "ok",
     "timestamp": 1678972970642,
     "user": {
      "displayName": "Mehrdad M. Dehghan",
      "userId": "08222177611817016206"
     },
     "user_tz": 240
    },
    "id": "Rojw0C6dlka_",
    "outputId": "98cb118d-cb59-4bd8-cd2c-46c395458610"
   },
   "outputs": [
    {
     "name": "stdout",
     "output_type": "stream",
     "text": [
      "Int64Index([], dtype='int64')\n"
     ]
    }
   ],
   "source": [
    "print(df.loc[df['type'].isnull()].index)"
   ]
  },
  {
   "cell_type": "markdown",
   "id": "l9nla9Cllm_H",
   "metadata": {
    "id": "l9nla9Cllm_H"
   },
   "source": [
    "we don't have null value. let's see the cardinality (uniquness) of this column:"
   ]
  },
  {
   "cell_type": "code",
   "execution_count": 65,
   "id": "0I0dXsqElwIn",
   "metadata": {
    "colab": {
     "base_uri": "https://localhost:8080/"
    },
    "executionInfo": {
     "elapsed": 164,
     "status": "ok",
     "timestamp": 1678973028482,
     "user": {
      "displayName": "Mehrdad M. Dehghan",
      "userId": "08222177611817016206"
     },
     "user_tz": 240
    },
    "id": "0I0dXsqElwIn",
    "outputId": "b4c38113-98c1-44bd-f104-f09d75ff450f"
   },
   "outputs": [
    {
     "name": "stdout",
     "output_type": "stream",
     "text": [
      "['american', 'asian', 'cajun', 'coffeebar', 'italian', 'mexican', 'southern', 'southwestern', 'steakhouses']\n"
     ]
    }
   ],
   "source": [
    "print(sorted(df['type'].unique()))"
   ]
  },
  {
   "cell_type": "markdown",
   "id": "qd3UBpImnQ9m",
   "metadata": {
    "id": "qd3UBpImnQ9m"
   },
   "source": [
    "so, all values of this column is consistent"
   ]
  }
 ],
 "metadata": {
  "colab": {
   "collapsed_sections": [
    "6f6c3e34",
    "e381d6fd",
    "Ems6CxqdjcZ4"
   ],
   "provenance": []
  },
  "kernelspec": {
   "display_name": "Python 3 (ipykernel)",
   "language": "python",
   "name": "python3"
  },
  "language_info": {
   "codemirror_mode": {
    "name": "ipython",
    "version": 3
   },
   "file_extension": ".py",
   "mimetype": "text/x-python",
   "name": "python",
   "nbconvert_exporter": "python",
   "pygments_lexer": "ipython3",
   "version": "3.9.13"
  }
 },
 "nbformat": 4,
 "nbformat_minor": 5
}
