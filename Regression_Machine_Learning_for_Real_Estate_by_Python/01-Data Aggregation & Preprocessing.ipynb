{
 "cells": [
  {
   "cell_type": "code",
   "execution_count": 1,
   "id": "9990a796",
   "metadata": {},
   "outputs": [],
   "source": [
    "import numpy as np\n",
    "import pandas as pd\n",
    "import glob"
   ]
  },
  {
   "cell_type": "code",
   "execution_count": 2,
   "id": "916f4c2d",
   "metadata": {
    "scrolled": true
   },
   "outputs": [],
   "source": [
    "df = pd.read_csv('Dataset/data.csv')"
   ]
  },
  {
   "cell_type": "markdown",
   "id": "deff70aa",
   "metadata": {},
   "source": [
    "<hr>"
   ]
  },
  {
   "cell_type": "markdown",
   "id": "82c3b61c",
   "metadata": {},
   "source": [
    "# Data Preprocessing"
   ]
  },
  {
   "cell_type": "markdown",
   "id": "04d7affd",
   "metadata": {},
   "source": [
    "## 1 - look at data"
   ]
  },
  {
   "cell_type": "markdown",
   "id": "7fb70ec8",
   "metadata": {},
   "source": [
    "Let’s see the dimensions of the dataframe."
   ]
  },
  {
   "cell_type": "code",
   "execution_count": 3,
   "id": "72608d15",
   "metadata": {
    "scrolled": true
   },
   "outputs": [
    {
     "data": {
      "text/plain": [
       "(20000, 35)"
      ]
     },
     "execution_count": 3,
     "metadata": {},
     "output_type": "execute_result"
    }
   ],
   "source": [
    "df.shape"
   ]
  },
  {
   "cell_type": "markdown",
   "id": "91368828",
   "metadata": {},
   "source": [
    "<hr>"
   ]
  },
  {
   "cell_type": "markdown",
   "id": "ff9b8728",
   "metadata": {},
   "source": [
    "## 2 - Remove Unnecessary Columns"
   ]
  },
  {
   "cell_type": "markdown",
   "id": "dc209517",
   "metadata": {},
   "source": [
    "Among all columns, we don’t need some of them. So, I drop them from dimension."
   ]
  },
  {
   "cell_type": "code",
   "execution_count": 4,
   "id": "6882ba67",
   "metadata": {},
   "outputs": [],
   "source": [
    "df = df.drop(['MunicipalityCode', 'Prefecture', 'Region', 'DistrictName', 'NearestStation','MinTimeToNearestStation', 'MaxTimeToNearestStation',\n",
    "              'AreaIsGreaterFlag', 'FrontageIsGreaterFlag', 'TotalFloorArea',\n",
    "              'TotalFloorAreaIsGreaterFlag', 'PrewarBuilding', 'Purpose', 'Classification', 'Breadth',\n",
    "              'CityPlanning', 'CoverageRatio', 'FloorAreaRatio', 'Period', 'Year','Quarter','Remarks'] , axis = 1)"
   ]
  },
  {
   "cell_type": "code",
   "execution_count": 5,
   "id": "1c11c52f",
   "metadata": {
    "scrolled": true
   },
   "outputs": [
    {
     "data": {
      "text/html": [
       "<div>\n",
       "<style scoped>\n",
       "    .dataframe tbody tr th:only-of-type {\n",
       "        vertical-align: middle;\n",
       "    }\n",
       "\n",
       "    .dataframe tbody tr th {\n",
       "        vertical-align: top;\n",
       "    }\n",
       "\n",
       "    .dataframe thead th {\n",
       "        text-align: right;\n",
       "    }\n",
       "</style>\n",
       "<table border=\"1\" class=\"dataframe\">\n",
       "  <thead>\n",
       "    <tr style=\"text-align: right;\">\n",
       "      <th></th>\n",
       "      <th>Type</th>\n",
       "      <th>Municipality</th>\n",
       "      <th>TimeToNearestStation</th>\n",
       "      <th>TradePrice</th>\n",
       "      <th>FloorPlan</th>\n",
       "      <th>Area</th>\n",
       "      <th>LandShape</th>\n",
       "      <th>Frontage</th>\n",
       "      <th>BuildingYear</th>\n",
       "      <th>Structure</th>\n",
       "      <th>Use</th>\n",
       "      <th>Direction</th>\n",
       "      <th>Renovation</th>\n",
       "    </tr>\n",
       "  </thead>\n",
       "  <tbody>\n",
       "    <tr>\n",
       "      <th>0</th>\n",
       "      <td>Pre-owned Condominiums, etc.</td>\n",
       "      <td>Chiyoda Ward</td>\n",
       "      <td>4</td>\n",
       "      <td>40000000</td>\n",
       "      <td>1LDK</td>\n",
       "      <td>30</td>\n",
       "      <td>NaN</td>\n",
       "      <td>NaN</td>\n",
       "      <td>2013.0</td>\n",
       "      <td>RC</td>\n",
       "      <td>House</td>\n",
       "      <td>NaN</td>\n",
       "      <td>Not yet</td>\n",
       "    </tr>\n",
       "    <tr>\n",
       "      <th>1</th>\n",
       "      <td>Pre-owned Condominiums, etc.</td>\n",
       "      <td>Chiyoda Ward</td>\n",
       "      <td>4</td>\n",
       "      <td>130000000</td>\n",
       "      <td>3LDK</td>\n",
       "      <td>80</td>\n",
       "      <td>NaN</td>\n",
       "      <td>NaN</td>\n",
       "      <td>2007.0</td>\n",
       "      <td>RC</td>\n",
       "      <td>NaN</td>\n",
       "      <td>NaN</td>\n",
       "      <td>Done</td>\n",
       "    </tr>\n",
       "  </tbody>\n",
       "</table>\n",
       "</div>"
      ],
      "text/plain": [
       "                           Type  Municipality TimeToNearestStation  \\\n",
       "0  Pre-owned Condominiums, etc.  Chiyoda Ward                    4   \n",
       "1  Pre-owned Condominiums, etc.  Chiyoda Ward                    4   \n",
       "\n",
       "   TradePrice FloorPlan  Area LandShape  Frontage  BuildingYear Structure  \\\n",
       "0    40000000      1LDK    30       NaN       NaN        2013.0        RC   \n",
       "1   130000000      3LDK    80       NaN       NaN        2007.0        RC   \n",
       "\n",
       "     Use Direction Renovation  \n",
       "0  House       NaN    Not yet  \n",
       "1    NaN       NaN       Done  "
      ]
     },
     "execution_count": 5,
     "metadata": {},
     "output_type": "execute_result"
    }
   ],
   "source": [
    "df.head(2)"
   ]
  },
  {
   "cell_type": "markdown",
   "id": "299d46d2",
   "metadata": {},
   "source": [
    "<hr>"
   ]
  },
  {
   "cell_type": "markdown",
   "id": "3bcd27d3",
   "metadata": {},
   "source": [
    "## 3 - Change Column’s Name"
   ]
  },
  {
   "cell_type": "markdown",
   "id": "026432b6",
   "metadata": {},
   "source": [
    "I change the name of the column based on the following:\n",
    "* TimeToNearestStation: NearStation\n",
    "* TradePrice: Price"
   ]
  },
  {
   "cell_type": "code",
   "execution_count": 6,
   "id": "97355be5",
   "metadata": {},
   "outputs": [
    {
     "name": "stdout",
     "output_type": "stream",
     "text": [
      "Index(['Type', 'Municipality', 'NearStation', 'Price', 'FloorPlan', 'Area',\n",
      "       'LandShape', 'Frontage', 'BuildingYear', 'Structure', 'Use',\n",
      "       'Direction', 'Renovation'],\n",
      "      dtype='object')\n"
     ]
    }
   ],
   "source": [
    "col_name = ['Type', 'Municipality','NearStation',\n",
    "       'Price', 'FloorPlan', 'Area', 'LandShape', 'Frontage',\n",
    "       'BuildingYear', 'Structure', 'Use', 'Direction', 'Renovation']\n",
    "\n",
    "df.columns = col_name\n",
    "\n",
    "print(df.columns)"
   ]
  },
  {
   "cell_type": "markdown",
   "id": "e61d9f0b",
   "metadata": {},
   "source": [
    "<hr>"
   ]
  },
  {
   "cell_type": "markdown",
   "id": "e15f54d1",
   "metadata": {},
   "source": [
    "## 4 - Handle Missing Values"
   ]
  },
  {
   "cell_type": "markdown",
   "id": "2dca775d",
   "metadata": {},
   "source": [
    "I create a for loop to iterate among all columns to realize whether they have null values or not. I’m looking for the number of null values in every single column as well as the percentage of null values."
   ]
  },
  {
   "cell_type": "code",
   "execution_count": 7,
   "id": "a2672ae9",
   "metadata": {},
   "outputs": [
    {
     "name": "stdout",
     "output_type": "stream",
     "text": [
      "Type - 0 - %0.0\n",
      "Municipality - 0 - %0.0\n",
      "NearStation - 137 - %0.685\n",
      "Price - 0 - %0.0\n",
      "FloorPlan - 3153 - %15.765\n",
      "Area - 0 - %0.0\n",
      "LandShape - 16848 - %84.24\n",
      "Frontage - 17053 - %85.265\n",
      "BuildingYear - 710 - %3.55\n",
      "Structure - 488 - %2.44\n",
      "Use - 2208 - %11.04\n",
      "Direction - 16847 - %84.235\n",
      "Renovation - 4917 - %24.585\n"
     ]
    }
   ],
   "source": [
    "for col in df.columns:\n",
    "    number_null = df.loc[: , col].isnull().sum()\n",
    "    perc_null = (number_null / df.shape[0]) * 100\n",
    "    print('{} - {} - %{}'.format(col, number_null, round(perc_null,3)))"
   ]
  },
  {
   "cell_type": "markdown",
   "id": "eb3f3f0e",
   "metadata": {},
   "source": [
    "The result shows we must have a different approach to handling null values. Since I have a large dataset:\n",
    "<br><br>\n",
    "Categorical:\n",
    "* less than 5%, I drop the rows.\n",
    "* between 5% and 30%, I impute with mode.\n",
    "* More than 30%, create a new label as “Other.”\n",
    "<br><br>\n",
    "\n",
    "Numerical:\n",
    "* between 0% and 30%, I impute with mean or median.\n",
    "* More than 30%, I drop the rows.\n",
    "\n",
    "<br>\n",
    "However, the best way is consulting with expert domain. "
   ]
  },
  {
   "cell_type": "markdown",
   "id": "e0bb5cab",
   "metadata": {},
   "source": [
    "<hr>"
   ]
  },
  {
   "cell_type": "markdown",
   "id": "dd11a0e8",
   "metadata": {},
   "source": [
    "Let’s begin with categorical variables. First, I impute “Renovation”, “FloorPlan” and \"Use\" with mode."
   ]
  },
  {
   "cell_type": "code",
   "execution_count": 8,
   "id": "a9b43f26",
   "metadata": {},
   "outputs": [
    {
     "name": "stdout",
     "output_type": "stream",
     "text": [
      "Not yet\n",
      "House\n",
      "1K\n"
     ]
    }
   ],
   "source": [
    "mode_Renovation = df['Renovation'].mode()[0]\n",
    "mode_Use = df['Use'].mode()[0]\n",
    "mode_FloorPlan = df['FloorPlan'].mode()[0]\n",
    "\n",
    "print(mode_Renovation)\n",
    "print(mode_Use)\n",
    "print(mode_FloorPlan)"
   ]
  },
  {
   "cell_type": "code",
   "execution_count": 9,
   "id": "84cd01c5",
   "metadata": {},
   "outputs": [],
   "source": [
    "df['Renovation'] = df['Renovation'].fillna('Not yet')\n",
    "df['Use'] = df['Use'].fillna('House')\n",
    "df['FloorPlan'] = df['FloorPlan'].fillna('1K')"
   ]
  },
  {
   "cell_type": "markdown",
   "id": "13c5679e",
   "metadata": {},
   "source": [
    "Then, I created a new label for missing values in “LandShape”, “Direction”."
   ]
  },
  {
   "cell_type": "code",
   "execution_count": 10,
   "id": "9277fe8e",
   "metadata": {},
   "outputs": [],
   "source": [
    "df['LandShape'] = df['LandShape'].fillna('Other LandShape')\n",
    "df['Direction'] = df['Direction'].fillna('Other Direction')"
   ]
  },
  {
   "cell_type": "markdown",
   "id": "3e396037",
   "metadata": {},
   "source": [
    "Finally, I drop “structure” null value."
   ]
  },
  {
   "cell_type": "code",
   "execution_count": 11,
   "id": "65f2adae",
   "metadata": {},
   "outputs": [],
   "source": [
    "df = df.dropna(subset = ['Structure'])"
   ]
  },
  {
   "cell_type": "markdown",
   "id": "6c8c01b5",
   "metadata": {},
   "source": [
    "<hr>"
   ]
  },
  {
   "cell_type": "markdown",
   "id": "ded62f00",
   "metadata": {},
   "source": [
    "And now, I work on numerical variables. First, I impute “NearStation” and “year. But before doing this, I must make sure about distribution shape of these columns to see whether they are right-skewed or left-skewed. It can be helpful when I want to decide choosing mean or median for imputing. Also, I should check the data type of theses variables to be sure about their numerical type."
   ]
  },
  {
   "cell_type": "code",
   "execution_count": 12,
   "id": "a3c4a076",
   "metadata": {},
   "outputs": [
    {
     "name": "stdout",
     "output_type": "stream",
     "text": [
      "object\n",
      "float64\n"
     ]
    }
   ],
   "source": [
    "print(df['NearStation'].dtypes)\n",
    "print(df['BuildingYear'].dtypes)"
   ]
  },
  {
   "cell_type": "markdown",
   "id": "eab2563e",
   "metadata": {},
   "source": [
    "\"NearStation\" is object and it means there are some values in this column that are not number. First, we should handle this issue. So, I check the unique values:"
   ]
  },
  {
   "cell_type": "code",
   "execution_count": 13,
   "id": "7a5e9116",
   "metadata": {},
   "outputs": [
    {
     "data": {
      "text/plain": [
       "array(['4', '2', '1', nan, '3', '5', '6', '0', '7', '11', '10', '8', '9',\n",
       "       '12', '30-60minutes', '13', '14', '16', '15', '19', '18', '21',\n",
       "       '2H-', '17'], dtype=object)"
      ]
     },
     "execution_count": 13,
     "metadata": {},
     "output_type": "execute_result"
    }
   ],
   "source": [
    "df['NearStation'].unique()"
   ]
  },
  {
   "cell_type": "markdown",
   "id": "173fb0f7",
   "metadata": {},
   "source": [
    "As we can see, there are some values that are not number, and they are range. So, I ignore those kinds of values from model."
   ]
  },
  {
   "cell_type": "code",
   "execution_count": 14,
   "id": "a2a801fa",
   "metadata": {},
   "outputs": [],
   "source": [
    "df['NearStation'] = pd.to_numeric(df['NearStation'], errors='coerce')"
   ]
  },
  {
   "cell_type": "code",
   "execution_count": 15,
   "id": "e7bbb3a9",
   "metadata": {},
   "outputs": [
    {
     "data": {
      "text/plain": [
       "array([ 4.,  2.,  1., nan,  3.,  5.,  6.,  0.,  7., 11., 10.,  8.,  9.,\n",
       "       12., 13., 14., 16., 15., 19., 18., 21., 17.])"
      ]
     },
     "execution_count": 15,
     "metadata": {},
     "output_type": "execute_result"
    }
   ],
   "source": [
    "df['NearStation'].unique()"
   ]
  },
  {
   "cell_type": "markdown",
   "id": "4d4067b8",
   "metadata": {},
   "source": [
    "Now we can see its distribution."
   ]
  },
  {
   "cell_type": "code",
   "execution_count": 16,
   "id": "5d36a062",
   "metadata": {},
   "outputs": [
    {
     "name": "stdout",
     "output_type": "stream",
     "text": [
      "Skewness : 1.103\n",
      "Mean is bigger than Median. Left Skewed. Median for imputing\n"
     ]
    }
   ],
   "source": [
    "print('Skewness :' , round(df['NearStation'].skew() ,3))\n",
    "\n",
    "mean_NearStation = df['NearStation'].mean()\n",
    "median_NearStation = df['NearStation'].median()\n",
    "\n",
    "if mean_NearStation > median_NearStation:\n",
    "    print('Mean is bigger than Median. Left Skewed. Median for imputing')\n",
    "else:\n",
    "    print('Mean is smaller than Median. Right Skewed. Mean for imputing')"
   ]
  },
  {
   "cell_type": "markdown",
   "id": "4d32e87f",
   "metadata": {},
   "source": [
    "The result shows that I should choose median for imputing."
   ]
  },
  {
   "cell_type": "code",
   "execution_count": 17,
   "id": "dde13850",
   "metadata": {},
   "outputs": [],
   "source": [
    "df['NearStation'] = df['NearStation'].fillna(median_NearStation).round(0)"
   ]
  },
  {
   "cell_type": "markdown",
   "id": "6b665c02",
   "metadata": {},
   "source": [
    "In the next, I drop null values for “Frontage”."
   ]
  },
  {
   "cell_type": "code",
   "execution_count": 18,
   "id": "70a5b4d1",
   "metadata": {},
   "outputs": [],
   "source": [
    "df = df.dropna(subset = ['Frontage'])"
   ]
  },
  {
   "cell_type": "markdown",
   "id": "9348a1f1",
   "metadata": {},
   "source": [
    "run the same process for \"BulidingYear\"."
   ]
  },
  {
   "cell_type": "code",
   "execution_count": 19,
   "id": "db15e222",
   "metadata": {},
   "outputs": [
    {
     "name": "stdout",
     "output_type": "stream",
     "text": [
      "Skewness : 0.098\n",
      "Mean is smaller than Median. Right Skewed. Mean for imputing\n"
     ]
    }
   ],
   "source": [
    "print('Skewness :' , round(df['BuildingYear'].skew() ,3))\n",
    "\n",
    "mean_BuildingYear = df['BuildingYear'].mean()\n",
    "median_BuildingYear = df['BuildingYear'].median()\n",
    "\n",
    "if mean_BuildingYear > median_BuildingYear:\n",
    "    print('Mean is bigger than Median. Left Skewed. Median for imputing')\n",
    "else:\n",
    "    print('Mean is smaller than Median. Right Skewed. Mean for imputing')"
   ]
  },
  {
   "cell_type": "markdown",
   "id": "a63ab438",
   "metadata": {},
   "source": [
    "The result shows that I should choose mean for imputing."
   ]
  },
  {
   "cell_type": "code",
   "execution_count": 20,
   "id": "95938020",
   "metadata": {},
   "outputs": [],
   "source": [
    "df['BuildingYear'] = df['BuildingYear'].fillna(mean_BuildingYear).round(0)"
   ]
  },
  {
   "cell_type": "markdown",
   "id": "69c7ab9d",
   "metadata": {},
   "source": [
    "Finally, we check the null values for dataset again."
   ]
  },
  {
   "cell_type": "code",
   "execution_count": 21,
   "id": "390bc4c2",
   "metadata": {},
   "outputs": [
    {
     "name": "stdout",
     "output_type": "stream",
     "text": [
      "Type - 0 - %0.0\n",
      "Municipality - 0 - %0.0\n",
      "NearStation - 0 - %0.0\n",
      "Price - 0 - %0.0\n",
      "FloorPlan - 0 - %0.0\n",
      "Area - 0 - %0.0\n",
      "LandShape - 0 - %0.0\n",
      "Frontage - 0 - %0.0\n",
      "BuildingYear - 0 - %0.0\n",
      "Structure - 0 - %0.0\n",
      "Use - 0 - %0.0\n",
      "Direction - 0 - %0.0\n",
      "Renovation - 0 - %0.0\n"
     ]
    }
   ],
   "source": [
    "for col in df.columns:\n",
    "    number_null = df.loc[: , col].isnull().sum()\n",
    "    perc_null = (number_null / df.shape[0]) * 100\n",
    "    print('{} - {} - %{}'.format(col, number_null, round(perc_null,3)))"
   ]
  },
  {
   "cell_type": "markdown",
   "id": "4c5a0f41",
   "metadata": {},
   "source": [
    "<hr>"
   ]
  },
  {
   "cell_type": "markdown",
   "id": "96966560",
   "metadata": {},
   "source": [
    "## 5 - Handle Duplicate Rows"
   ]
  },
  {
   "cell_type": "markdown",
   "id": "8e65fbba",
   "metadata": {},
   "source": [
    "Now we should handle duplicate rows. Since all values might be same, we just we need to check whether there are two rows that all values in all columns are the same or not."
   ]
  },
  {
   "cell_type": "code",
   "execution_count": 22,
   "id": "280b5085",
   "metadata": {},
   "outputs": [
    {
     "name": "stdout",
     "output_type": "stream",
     "text": [
      "The DataFrame has duplicate rows.\n"
     ]
    }
   ],
   "source": [
    "duplicate_rows = df.duplicated()\n",
    "\n",
    "if duplicate_rows.any():\n",
    "    print(\"The DataFrame has duplicate rows.\")\n",
    "else:\n",
    "    print(\"The DataFrame does not have duplicate rows.\")"
   ]
  },
  {
   "cell_type": "markdown",
   "id": "c2d72791",
   "metadata": {},
   "source": [
    "The result shows we have duplicated rows. Now, let’s see the duplicated rows:"
   ]
  },
  {
   "cell_type": "code",
   "execution_count": 23,
   "id": "0a3ef78d",
   "metadata": {},
   "outputs": [
    {
     "data": {
      "text/html": [
       "<div>\n",
       "<style scoped>\n",
       "    .dataframe tbody tr th:only-of-type {\n",
       "        vertical-align: middle;\n",
       "    }\n",
       "\n",
       "    .dataframe tbody tr th {\n",
       "        vertical-align: top;\n",
       "    }\n",
       "\n",
       "    .dataframe thead th {\n",
       "        text-align: right;\n",
       "    }\n",
       "</style>\n",
       "<table border=\"1\" class=\"dataframe\">\n",
       "  <thead>\n",
       "    <tr style=\"text-align: right;\">\n",
       "      <th></th>\n",
       "      <th>Type</th>\n",
       "      <th>Municipality</th>\n",
       "      <th>NearStation</th>\n",
       "      <th>Price</th>\n",
       "      <th>FloorPlan</th>\n",
       "      <th>Area</th>\n",
       "      <th>LandShape</th>\n",
       "      <th>Frontage</th>\n",
       "      <th>BuildingYear</th>\n",
       "      <th>Structure</th>\n",
       "      <th>Use</th>\n",
       "      <th>Direction</th>\n",
       "      <th>Renovation</th>\n",
       "    </tr>\n",
       "  </thead>\n",
       "  <tbody>\n",
       "    <tr>\n",
       "      <th>4986</th>\n",
       "      <td>Residential Land(Land and Building)</td>\n",
       "      <td>Chuo Ward</td>\n",
       "      <td>2.0</td>\n",
       "      <td>230000000</td>\n",
       "      <td>1K</td>\n",
       "      <td>80</td>\n",
       "      <td>Rectangular Shaped</td>\n",
       "      <td>7.0</td>\n",
       "      <td>1964.0</td>\n",
       "      <td>SRC</td>\n",
       "      <td>Office</td>\n",
       "      <td>Northeast</td>\n",
       "      <td>Not yet</td>\n",
       "    </tr>\n",
       "    <tr>\n",
       "      <th>4994</th>\n",
       "      <td>Residential Land(Land and Building)</td>\n",
       "      <td>Chuo Ward</td>\n",
       "      <td>2.0</td>\n",
       "      <td>230000000</td>\n",
       "      <td>1K</td>\n",
       "      <td>80</td>\n",
       "      <td>Rectangular Shaped</td>\n",
       "      <td>7.0</td>\n",
       "      <td>1964.0</td>\n",
       "      <td>SRC</td>\n",
       "      <td>Office</td>\n",
       "      <td>Northeast</td>\n",
       "      <td>Not yet</td>\n",
       "    </tr>\n",
       "    <tr>\n",
       "      <th>9353</th>\n",
       "      <td>Residential Land(Land and Building)</td>\n",
       "      <td>Minato Ward</td>\n",
       "      <td>1.0</td>\n",
       "      <td>360000000</td>\n",
       "      <td>1K</td>\n",
       "      <td>160</td>\n",
       "      <td>Rectangular Shaped</td>\n",
       "      <td>8.9</td>\n",
       "      <td>1991.0</td>\n",
       "      <td>RC</td>\n",
       "      <td>Housing Complex, Office, Shop</td>\n",
       "      <td>North</td>\n",
       "      <td>Not yet</td>\n",
       "    </tr>\n",
       "    <tr>\n",
       "      <th>9354</th>\n",
       "      <td>Residential Land(Land and Building)</td>\n",
       "      <td>Minato Ward</td>\n",
       "      <td>1.0</td>\n",
       "      <td>360000000</td>\n",
       "      <td>1K</td>\n",
       "      <td>160</td>\n",
       "      <td>Rectangular Shaped</td>\n",
       "      <td>8.9</td>\n",
       "      <td>1991.0</td>\n",
       "      <td>RC</td>\n",
       "      <td>Housing Complex, Office, Shop</td>\n",
       "      <td>North</td>\n",
       "      <td>Not yet</td>\n",
       "    </tr>\n",
       "    <tr>\n",
       "      <th>14686</th>\n",
       "      <td>Residential Land(Land and Building)</td>\n",
       "      <td>Shinjuku Ward</td>\n",
       "      <td>5.0</td>\n",
       "      <td>59000000</td>\n",
       "      <td>1K</td>\n",
       "      <td>50</td>\n",
       "      <td>Rectangular Shaped</td>\n",
       "      <td>7.2</td>\n",
       "      <td>2015.0</td>\n",
       "      <td>W</td>\n",
       "      <td>House</td>\n",
       "      <td>North</td>\n",
       "      <td>Not yet</td>\n",
       "    </tr>\n",
       "    <tr>\n",
       "      <th>14690</th>\n",
       "      <td>Residential Land(Land and Building)</td>\n",
       "      <td>Shinjuku Ward</td>\n",
       "      <td>5.0</td>\n",
       "      <td>59000000</td>\n",
       "      <td>1K</td>\n",
       "      <td>50</td>\n",
       "      <td>Rectangular Shaped</td>\n",
       "      <td>7.2</td>\n",
       "      <td>2015.0</td>\n",
       "      <td>W</td>\n",
       "      <td>House</td>\n",
       "      <td>North</td>\n",
       "      <td>Not yet</td>\n",
       "    </tr>\n",
       "    <tr>\n",
       "      <th>18342</th>\n",
       "      <td>Residential Land(Land and Building)</td>\n",
       "      <td>Shinjuku Ward</td>\n",
       "      <td>4.0</td>\n",
       "      <td>400000000</td>\n",
       "      <td>1K</td>\n",
       "      <td>145</td>\n",
       "      <td>Semi-rectangular Shaped</td>\n",
       "      <td>9.5</td>\n",
       "      <td>2014.0</td>\n",
       "      <td>RC</td>\n",
       "      <td>Housing Complex</td>\n",
       "      <td>North</td>\n",
       "      <td>Not yet</td>\n",
       "    </tr>\n",
       "    <tr>\n",
       "      <th>18343</th>\n",
       "      <td>Residential Land(Land and Building)</td>\n",
       "      <td>Shinjuku Ward</td>\n",
       "      <td>4.0</td>\n",
       "      <td>400000000</td>\n",
       "      <td>1K</td>\n",
       "      <td>145</td>\n",
       "      <td>Semi-rectangular Shaped</td>\n",
       "      <td>9.5</td>\n",
       "      <td>2014.0</td>\n",
       "      <td>RC</td>\n",
       "      <td>Housing Complex</td>\n",
       "      <td>North</td>\n",
       "      <td>Not yet</td>\n",
       "    </tr>\n",
       "  </tbody>\n",
       "</table>\n",
       "</div>"
      ],
      "text/plain": [
       "                                      Type   Municipality  NearStation  \\\n",
       "4986   Residential Land(Land and Building)      Chuo Ward          2.0   \n",
       "4994   Residential Land(Land and Building)      Chuo Ward          2.0   \n",
       "9353   Residential Land(Land and Building)    Minato Ward          1.0   \n",
       "9354   Residential Land(Land and Building)    Minato Ward          1.0   \n",
       "14686  Residential Land(Land and Building)  Shinjuku Ward          5.0   \n",
       "14690  Residential Land(Land and Building)  Shinjuku Ward          5.0   \n",
       "18342  Residential Land(Land and Building)  Shinjuku Ward          4.0   \n",
       "18343  Residential Land(Land and Building)  Shinjuku Ward          4.0   \n",
       "\n",
       "           Price FloorPlan  Area                LandShape  Frontage  \\\n",
       "4986   230000000        1K    80       Rectangular Shaped       7.0   \n",
       "4994   230000000        1K    80       Rectangular Shaped       7.0   \n",
       "9353   360000000        1K   160       Rectangular Shaped       8.9   \n",
       "9354   360000000        1K   160       Rectangular Shaped       8.9   \n",
       "14686   59000000        1K    50       Rectangular Shaped       7.2   \n",
       "14690   59000000        1K    50       Rectangular Shaped       7.2   \n",
       "18342  400000000        1K   145  Semi-rectangular Shaped       9.5   \n",
       "18343  400000000        1K   145  Semi-rectangular Shaped       9.5   \n",
       "\n",
       "       BuildingYear Structure                            Use  Direction  \\\n",
       "4986         1964.0       SRC                         Office  Northeast   \n",
       "4994         1964.0       SRC                         Office  Northeast   \n",
       "9353         1991.0        RC  Housing Complex, Office, Shop      North   \n",
       "9354         1991.0        RC  Housing Complex, Office, Shop      North   \n",
       "14686        2015.0         W                          House      North   \n",
       "14690        2015.0         W                          House      North   \n",
       "18342        2014.0        RC                Housing Complex      North   \n",
       "18343        2014.0        RC                Housing Complex      North   \n",
       "\n",
       "      Renovation  \n",
       "4986     Not yet  \n",
       "4994     Not yet  \n",
       "9353     Not yet  \n",
       "9354     Not yet  \n",
       "14686    Not yet  \n",
       "14690    Not yet  \n",
       "18342    Not yet  \n",
       "18343    Not yet  "
      ]
     },
     "execution_count": 23,
     "metadata": {},
     "output_type": "execute_result"
    }
   ],
   "source": [
    "duplicate_rows = df[df.duplicated(keep=False)]\n",
    "\n",
    "duplicate_rows = pd.DataFrame(duplicate_rows)\n",
    "duplicate_rows"
   ]
  },
  {
   "cell_type": "code",
   "execution_count": 24,
   "id": "2fb69e68",
   "metadata": {},
   "outputs": [
    {
     "name": "stdout",
     "output_type": "stream",
     "text": [
      "before:  (2765, 13)\n",
      "after:  (2761, 13)\n"
     ]
    }
   ],
   "source": [
    "print(\"before: \", df.shape)\n",
    "df = df.drop_duplicates(keep='first')\n",
    "print(\"after: \", df.shape)"
   ]
  },
  {
   "cell_type": "markdown",
   "id": "8430c99b",
   "metadata": {},
   "source": [
    "Then, we can check duplicate rows again."
   ]
  },
  {
   "cell_type": "code",
   "execution_count": 25,
   "id": "a74169f5",
   "metadata": {},
   "outputs": [
    {
     "name": "stdout",
     "output_type": "stream",
     "text": [
      "The DataFrame does not have duplicate rows.\n"
     ]
    }
   ],
   "source": [
    "duplicate_rows = df.duplicated()\n",
    "\n",
    "if duplicate_rows.any():\n",
    "    print(\"The DataFrame has duplicate rows.\")\n",
    "else:\n",
    "    print(\"The DataFrame does not have duplicate rows.\")"
   ]
  },
  {
   "cell_type": "markdown",
   "id": "5ed89478",
   "metadata": {},
   "source": [
    "<hr>"
   ]
  },
  {
   "cell_type": "markdown",
   "id": "e89d2db5",
   "metadata": {},
   "source": [
    "## 6 - Handle Number Variables"
   ]
  },
  {
   "cell_type": "markdown",
   "id": "a6a6e5d8",
   "metadata": {},
   "source": [
    "First of all, I declare all number variables. The number variables are: “Area”, “Frontage”, “NearStation”, “BuildingYear”, “Price”."
   ]
  },
  {
   "cell_type": "code",
   "execution_count": 26,
   "id": "a5768f4d",
   "metadata": {},
   "outputs": [],
   "source": [
    "num_list = ['Area', 'Frontage', 'NearStation', 'BuildingYear', 'Price']"
   ]
  },
  {
   "cell_type": "markdown",
   "id": "4fc82634",
   "metadata": {},
   "source": [
    "I must make sure about the data type of the number variable. Just because the column shows numbers, it doesn't mean that they are numbers.Thus, with regular expression I should clean them."
   ]
  },
  {
   "cell_type": "code",
   "execution_count": 27,
   "id": "4c14e783",
   "metadata": {},
   "outputs": [],
   "source": [
    "def non_numeric(x):\n",
    "    non_numeric_df = pd.DataFrame(df[df[x].astype(str).str.contains('[^\\d\\.]+')])\n",
    "    return non_numeric_df"
   ]
  },
  {
   "cell_type": "code",
   "execution_count": 28,
   "id": "61e1c785",
   "metadata": {},
   "outputs": [
    {
     "data": {
      "text/html": [
       "<div>\n",
       "<style scoped>\n",
       "    .dataframe tbody tr th:only-of-type {\n",
       "        vertical-align: middle;\n",
       "    }\n",
       "\n",
       "    .dataframe tbody tr th {\n",
       "        vertical-align: top;\n",
       "    }\n",
       "\n",
       "    .dataframe thead th {\n",
       "        text-align: right;\n",
       "    }\n",
       "</style>\n",
       "<table border=\"1\" class=\"dataframe\">\n",
       "  <thead>\n",
       "    <tr style=\"text-align: right;\">\n",
       "      <th></th>\n",
       "      <th>Type</th>\n",
       "      <th>Municipality</th>\n",
       "      <th>NearStation</th>\n",
       "      <th>Price</th>\n",
       "      <th>FloorPlan</th>\n",
       "      <th>Area</th>\n",
       "      <th>LandShape</th>\n",
       "      <th>Frontage</th>\n",
       "      <th>BuildingYear</th>\n",
       "      <th>Structure</th>\n",
       "      <th>Use</th>\n",
       "      <th>Direction</th>\n",
       "      <th>Renovation</th>\n",
       "    </tr>\n",
       "  </thead>\n",
       "  <tbody>\n",
       "  </tbody>\n",
       "</table>\n",
       "</div>"
      ],
      "text/plain": [
       "Empty DataFrame\n",
       "Columns: [Type, Municipality, NearStation, Price, FloorPlan, Area, LandShape, Frontage, BuildingYear, Structure, Use, Direction, Renovation]\n",
       "Index: []"
      ]
     },
     "execution_count": 28,
     "metadata": {},
     "output_type": "execute_result"
    }
   ],
   "source": [
    "non_numeric('Area')"
   ]
  },
  {
   "cell_type": "code",
   "execution_count": 29,
   "id": "922d5eec",
   "metadata": {},
   "outputs": [
    {
     "data": {
      "text/html": [
       "<div>\n",
       "<style scoped>\n",
       "    .dataframe tbody tr th:only-of-type {\n",
       "        vertical-align: middle;\n",
       "    }\n",
       "\n",
       "    .dataframe tbody tr th {\n",
       "        vertical-align: top;\n",
       "    }\n",
       "\n",
       "    .dataframe thead th {\n",
       "        text-align: right;\n",
       "    }\n",
       "</style>\n",
       "<table border=\"1\" class=\"dataframe\">\n",
       "  <thead>\n",
       "    <tr style=\"text-align: right;\">\n",
       "      <th></th>\n",
       "      <th>Type</th>\n",
       "      <th>Municipality</th>\n",
       "      <th>NearStation</th>\n",
       "      <th>Price</th>\n",
       "      <th>FloorPlan</th>\n",
       "      <th>Area</th>\n",
       "      <th>LandShape</th>\n",
       "      <th>Frontage</th>\n",
       "      <th>BuildingYear</th>\n",
       "      <th>Structure</th>\n",
       "      <th>Use</th>\n",
       "      <th>Direction</th>\n",
       "      <th>Renovation</th>\n",
       "    </tr>\n",
       "  </thead>\n",
       "  <tbody>\n",
       "  </tbody>\n",
       "</table>\n",
       "</div>"
      ],
      "text/plain": [
       "Empty DataFrame\n",
       "Columns: [Type, Municipality, NearStation, Price, FloorPlan, Area, LandShape, Frontage, BuildingYear, Structure, Use, Direction, Renovation]\n",
       "Index: []"
      ]
     },
     "execution_count": 29,
     "metadata": {},
     "output_type": "execute_result"
    }
   ],
   "source": [
    "non_numeric('Frontage')"
   ]
  },
  {
   "cell_type": "code",
   "execution_count": 30,
   "id": "dae8e2b4",
   "metadata": {},
   "outputs": [
    {
     "data": {
      "text/html": [
       "<div>\n",
       "<style scoped>\n",
       "    .dataframe tbody tr th:only-of-type {\n",
       "        vertical-align: middle;\n",
       "    }\n",
       "\n",
       "    .dataframe tbody tr th {\n",
       "        vertical-align: top;\n",
       "    }\n",
       "\n",
       "    .dataframe thead th {\n",
       "        text-align: right;\n",
       "    }\n",
       "</style>\n",
       "<table border=\"1\" class=\"dataframe\">\n",
       "  <thead>\n",
       "    <tr style=\"text-align: right;\">\n",
       "      <th></th>\n",
       "      <th>Type</th>\n",
       "      <th>Municipality</th>\n",
       "      <th>NearStation</th>\n",
       "      <th>Price</th>\n",
       "      <th>FloorPlan</th>\n",
       "      <th>Area</th>\n",
       "      <th>LandShape</th>\n",
       "      <th>Frontage</th>\n",
       "      <th>BuildingYear</th>\n",
       "      <th>Structure</th>\n",
       "      <th>Use</th>\n",
       "      <th>Direction</th>\n",
       "      <th>Renovation</th>\n",
       "    </tr>\n",
       "  </thead>\n",
       "  <tbody>\n",
       "  </tbody>\n",
       "</table>\n",
       "</div>"
      ],
      "text/plain": [
       "Empty DataFrame\n",
       "Columns: [Type, Municipality, NearStation, Price, FloorPlan, Area, LandShape, Frontage, BuildingYear, Structure, Use, Direction, Renovation]\n",
       "Index: []"
      ]
     },
     "execution_count": 30,
     "metadata": {},
     "output_type": "execute_result"
    }
   ],
   "source": [
    "non_numeric('NearStation')"
   ]
  },
  {
   "cell_type": "code",
   "execution_count": 31,
   "id": "d14e987e",
   "metadata": {},
   "outputs": [
    {
     "data": {
      "text/html": [
       "<div>\n",
       "<style scoped>\n",
       "    .dataframe tbody tr th:only-of-type {\n",
       "        vertical-align: middle;\n",
       "    }\n",
       "\n",
       "    .dataframe tbody tr th {\n",
       "        vertical-align: top;\n",
       "    }\n",
       "\n",
       "    .dataframe thead th {\n",
       "        text-align: right;\n",
       "    }\n",
       "</style>\n",
       "<table border=\"1\" class=\"dataframe\">\n",
       "  <thead>\n",
       "    <tr style=\"text-align: right;\">\n",
       "      <th></th>\n",
       "      <th>Type</th>\n",
       "      <th>Municipality</th>\n",
       "      <th>NearStation</th>\n",
       "      <th>Price</th>\n",
       "      <th>FloorPlan</th>\n",
       "      <th>Area</th>\n",
       "      <th>LandShape</th>\n",
       "      <th>Frontage</th>\n",
       "      <th>BuildingYear</th>\n",
       "      <th>Structure</th>\n",
       "      <th>Use</th>\n",
       "      <th>Direction</th>\n",
       "      <th>Renovation</th>\n",
       "    </tr>\n",
       "  </thead>\n",
       "  <tbody>\n",
       "  </tbody>\n",
       "</table>\n",
       "</div>"
      ],
      "text/plain": [
       "Empty DataFrame\n",
       "Columns: [Type, Municipality, NearStation, Price, FloorPlan, Area, LandShape, Frontage, BuildingYear, Structure, Use, Direction, Renovation]\n",
       "Index: []"
      ]
     },
     "execution_count": 31,
     "metadata": {},
     "output_type": "execute_result"
    }
   ],
   "source": [
    "non_numeric('BuildingYear')"
   ]
  },
  {
   "cell_type": "code",
   "execution_count": 32,
   "id": "656eed4f",
   "metadata": {
    "scrolled": true
   },
   "outputs": [
    {
     "data": {
      "text/html": [
       "<div>\n",
       "<style scoped>\n",
       "    .dataframe tbody tr th:only-of-type {\n",
       "        vertical-align: middle;\n",
       "    }\n",
       "\n",
       "    .dataframe tbody tr th {\n",
       "        vertical-align: top;\n",
       "    }\n",
       "\n",
       "    .dataframe thead th {\n",
       "        text-align: right;\n",
       "    }\n",
       "</style>\n",
       "<table border=\"1\" class=\"dataframe\">\n",
       "  <thead>\n",
       "    <tr style=\"text-align: right;\">\n",
       "      <th></th>\n",
       "      <th>Type</th>\n",
       "      <th>Municipality</th>\n",
       "      <th>NearStation</th>\n",
       "      <th>Price</th>\n",
       "      <th>FloorPlan</th>\n",
       "      <th>Area</th>\n",
       "      <th>LandShape</th>\n",
       "      <th>Frontage</th>\n",
       "      <th>BuildingYear</th>\n",
       "      <th>Structure</th>\n",
       "      <th>Use</th>\n",
       "      <th>Direction</th>\n",
       "      <th>Renovation</th>\n",
       "    </tr>\n",
       "  </thead>\n",
       "  <tbody>\n",
       "  </tbody>\n",
       "</table>\n",
       "</div>"
      ],
      "text/plain": [
       "Empty DataFrame\n",
       "Columns: [Type, Municipality, NearStation, Price, FloorPlan, Area, LandShape, Frontage, BuildingYear, Structure, Use, Direction, Renovation]\n",
       "Index: []"
      ]
     },
     "execution_count": 32,
     "metadata": {},
     "output_type": "execute_result"
    }
   ],
   "source": [
    "non_numeric('Price')"
   ]
  },
  {
   "cell_type": "markdown",
   "id": "035ad854",
   "metadata": {},
   "source": [
    "The results show fortunately in those variables, we just have number nothing else. However, we can see the sum of those variables for double check."
   ]
  },
  {
   "cell_type": "code",
   "execution_count": 33,
   "id": "6bade605",
   "metadata": {},
   "outputs": [
    {
     "name": "stdout",
     "output_type": "stream",
     "text": [
      "Area 470260\n",
      "Frontage 26427.699999999997\n",
      "NearStation 12597.0\n",
      "BuildingYear 5488313.0\n",
      "Price 1424412020000\n"
     ]
    }
   ],
   "source": [
    "for i in range(len(num_list)):\n",
    "    var_sum = df.loc[: , num_list[i]].sum()\n",
    "    print(num_list[i] , var_sum)"
   ]
  },
  {
   "cell_type": "markdown",
   "id": "15889476",
   "metadata": {},
   "source": [
    "<hr>"
   ]
  },
  {
   "cell_type": "markdown",
   "id": "4413d3fe",
   "metadata": {},
   "source": [
    "## 7 - Handle Categorical Variables"
   ]
  },
  {
   "cell_type": "markdown",
   "id": "ab275d6f",
   "metadata": {},
   "source": [
    "First of all, I declare all categorical variables. These variables are: “Province”, “City”, “Type”, “LandShape”, “Structure”, “FloorPlan”, ‘Direction”, “Use”, “Renovation”."
   ]
  },
  {
   "cell_type": "code",
   "execution_count": 34,
   "id": "2b270a3e",
   "metadata": {},
   "outputs": [],
   "source": [
    "cat_list = ['Type', 'Municipality', 'FloorPlan', 'LandShape', 'Structure', 'Direction', 'Use', 'Renovation']"
   ]
  },
  {
   "cell_type": "markdown",
   "id": "c9ae905e",
   "metadata": {},
   "source": [
    "Then, we must make sure about the possible range for each of them. They must be the same with data documentation. "
   ]
  },
  {
   "cell_type": "markdown",
   "id": "6dea456c",
   "metadata": {},
   "source": [
    "> ### Type"
   ]
  },
  {
   "cell_type": "code",
   "execution_count": 35,
   "id": "8f671c44",
   "metadata": {},
   "outputs": [
    {
     "name": "stdout",
     "output_type": "stream",
     "text": [
      "['Residential Land(Land and Building)']\n"
     ]
    }
   ],
   "source": [
    " print(df['Type'].unique())"
   ]
  },
  {
   "cell_type": "markdown",
   "id": "ba6bc534",
   "metadata": {},
   "source": [
    "> ### Municipality"
   ]
  },
  {
   "cell_type": "code",
   "execution_count": 36,
   "id": "b1fe9288",
   "metadata": {},
   "outputs": [
    {
     "name": "stdout",
     "output_type": "stream",
     "text": [
      "['Chiyoda Ward' 'Chuo Ward' 'Minato Ward' 'Shinjuku Ward' 'Bunkyo Ward']\n"
     ]
    }
   ],
   "source": [
    " print(df['Municipality'].unique())"
   ]
  },
  {
   "cell_type": "code",
   "execution_count": 37,
   "id": "d0ae89d8",
   "metadata": {},
   "outputs": [
    {
     "name": "stdout",
     "output_type": "stream",
     "text": [
      "Shinjuku Ward    1015\n",
      "Minato Ward       660\n",
      "Chuo Ward         581\n",
      "Chiyoda Ward      434\n",
      "Bunkyo Ward        71\n",
      "Name: Municipality, dtype: int64\n"
     ]
    }
   ],
   "source": [
    " print(df['Municipality'].value_counts())"
   ]
  },
  {
   "cell_type": "markdown",
   "id": "b8e04fec",
   "metadata": {},
   "source": [
    "> ### FloorPlan"
   ]
  },
  {
   "cell_type": "code",
   "execution_count": 38,
   "id": "99bf99f7",
   "metadata": {},
   "outputs": [
    {
     "name": "stdout",
     "output_type": "stream",
     "text": [
      "['1K']\n"
     ]
    }
   ],
   "source": [
    "print(df['FloorPlan'].unique())"
   ]
  },
  {
   "cell_type": "markdown",
   "id": "e48dee58",
   "metadata": {},
   "source": [
    "> ### LandShape"
   ]
  },
  {
   "cell_type": "code",
   "execution_count": 39,
   "id": "0f447b4e",
   "metadata": {},
   "outputs": [
    {
     "name": "stdout",
     "output_type": "stream",
     "text": [
      "['Trapezoidal Shaped' 'Rectangular Shaped' 'Semi-rectangular Shaped'\n",
      " 'Semi-trapezoidal Shaped' 'Irregular Shaped' 'Semi-shaped'\n",
      " 'Semi-square Shaped' 'Flag-shaped etc.' 'Square Shaped' 'Other LandShape']\n"
     ]
    }
   ],
   "source": [
    "print(df['LandShape'].unique())"
   ]
  },
  {
   "cell_type": "code",
   "execution_count": 40,
   "id": "d5324128",
   "metadata": {},
   "outputs": [
    {
     "name": "stdout",
     "output_type": "stream",
     "text": [
      "Semi-rectangular Shaped    1014\n",
      "Rectangular Shaped          731\n",
      "Irregular Shaped            423\n",
      "Semi-trapezoidal Shaped     197\n",
      "Semi-square Shaped          157\n",
      "Semi-shaped                 111\n",
      "Trapezoidal Shaped           78\n",
      "Flag-shaped etc.             28\n",
      "Square Shaped                21\n",
      "Other LandShape               1\n",
      "Name: LandShape, dtype: int64\n"
     ]
    }
   ],
   "source": [
    " print(df['LandShape'].value_counts())"
   ]
  },
  {
   "cell_type": "markdown",
   "id": "45b17197",
   "metadata": {},
   "source": [
    "> ### Structure"
   ]
  },
  {
   "cell_type": "code",
   "execution_count": 41,
   "id": "5e1eb6d1",
   "metadata": {},
   "outputs": [
    {
     "name": "stdout",
     "output_type": "stream",
     "text": [
      "['S' 'RC' 'SRC' 'W' 'LS' 'S, LS' 'B' 'SRC, RC' 'S, W' 'RC, W' 'RC, S'\n",
      " 'W, B']\n"
     ]
    }
   ],
   "source": [
    "print(df['Structure'].unique())"
   ]
  },
  {
   "cell_type": "markdown",
   "id": "7ac09245",
   "metadata": {},
   "source": [
    "All of them are correct and based on data documentation. However, some of them have two or more types of structure, and because of reduced-dimensionality, I just consider the first one."
   ]
  },
  {
   "cell_type": "code",
   "execution_count": 42,
   "id": "38936de8",
   "metadata": {},
   "outputs": [],
   "source": [
    "df['Structure'] = df['Structure'].apply(lambda x: x.split(',')[0])"
   ]
  },
  {
   "cell_type": "code",
   "execution_count": 43,
   "id": "790379e4",
   "metadata": {},
   "outputs": [
    {
     "name": "stdout",
     "output_type": "stream",
     "text": [
      "RC     1014\n",
      "W       795\n",
      "S       551\n",
      "SRC     348\n",
      "LS       50\n",
      "B         3\n",
      "Name: Structure, dtype: int64\n"
     ]
    }
   ],
   "source": [
    " print(df['Structure'].value_counts())"
   ]
  },
  {
   "cell_type": "markdown",
   "id": "c0fd5742",
   "metadata": {},
   "source": [
    "> ### Direction"
   ]
  },
  {
   "cell_type": "code",
   "execution_count": 44,
   "id": "f27574c1",
   "metadata": {},
   "outputs": [
    {
     "name": "stdout",
     "output_type": "stream",
     "text": [
      "['Northwest' 'Southwest' 'South' 'Northeast' 'East' 'Southeast' 'West'\n",
      " 'North' 'No facing road']\n"
     ]
    }
   ],
   "source": [
    "print(df['Direction'].unique())"
   ]
  },
  {
   "cell_type": "code",
   "execution_count": 45,
   "id": "47d96647",
   "metadata": {},
   "outputs": [
    {
     "name": "stdout",
     "output_type": "stream",
     "text": [
      "Northwest         382\n",
      "Southwest         373\n",
      "Southeast         371\n",
      "West              344\n",
      "Northeast         335\n",
      "South             329\n",
      "East              307\n",
      "North             304\n",
      "No facing road     16\n",
      "Name: Direction, dtype: int64\n"
     ]
    }
   ],
   "source": [
    " print(df['Direction'].value_counts())"
   ]
  },
  {
   "cell_type": "markdown",
   "id": "8cc6658c",
   "metadata": {},
   "source": [
    "> ### Use"
   ]
  },
  {
   "cell_type": "code",
   "execution_count": 46,
   "id": "37805e33",
   "metadata": {},
   "outputs": [
    {
     "name": "stdout",
     "output_type": "stream",
     "text": [
      "['Office, Shop' 'Housing Complex, Office' 'House, Office, Workshop'\n",
      " 'House, Office, Shop' 'Other' 'Office, Warehouse' 'Parking Lot'\n",
      " 'Office, Parking Lot' 'Housing Complex, Office, Shop' 'House' 'Office'\n",
      " 'Housing Complex' 'Housing Complex, Shop' 'House, Shop' 'Warehouse, Shop'\n",
      " 'Housing Complex, Office, Warehouse, Shop' 'House, Workshop, Shop'\n",
      " 'Warehouse' 'House, Office' 'Office, Warehouse, Parking Lot'\n",
      " 'House, Factory, Office, Shop' 'House, Office, Other' 'Shop'\n",
      " 'House, Office, Warehouse, Shop' 'Office, Other'\n",
      " 'Office, Warehouse, Shop' 'House, Warehouse, Shop, Other' 'Workshop'\n",
      " 'House, Office, Parking Lot' 'Office, Workshop, Warehouse' 'Factory'\n",
      " 'House, Warehouse' 'House, Housing Complex, Factory, Warehouse'\n",
      " 'Office, Parking Lot, Shop' 'House, Factory, Office'\n",
      " 'Housing Complex, Office, Warehouse, Parking Lot'\n",
      " 'House, Office, Warehouse' 'House, Workshop' 'House, Office, Shop, Other'\n",
      " 'House, Parking Lot' 'House, Parking Lot, Shop'\n",
      " 'Housing Complex, Parking Lot' 'Housing Complex, Warehouse'\n",
      " 'House, Factory' 'Warehouse, Parking Lot' 'Office, Warehouse, Other'\n",
      " 'Housing Complex, Office, Parking Lot, Shop'\n",
      " 'House, Office, Parking Lot, Shop' 'House, Other'\n",
      " 'House, Warehouse, Shop' 'Shop, Other' 'House, Workshop, Warehouse, Shop'\n",
      " 'House, Housing Complex, Office, Shop'\n",
      " 'Housing Complex, Office, Warehouse' 'Office, Shop, Other'\n",
      " 'House, Office, Warehouse, Parking Lot' 'Housing Complex, Other'\n",
      " 'Workshop, Warehouse, Parking Lot' 'Factory, Office, Warehouse'\n",
      " 'Factory, Office' 'House, Housing Complex, Factory, Office'\n",
      " 'House, Workshop, Warehouse' 'Office, Workshop, Shop'\n",
      " 'Housing Complex, Workshop' 'Office, Workshop' 'House, Shop, Other'\n",
      " 'House, Office, Workshop, Shop'\n",
      " 'House, Housing Complex, Office, Warehouse'\n",
      " 'Housing Complex, Office, Workshop' 'House, Housing Complex, Office'\n",
      " 'House, Warehouse, Other' 'House, Housing Complex, Shop'\n",
      " 'House, Housing Complex, Workshop'\n",
      " 'House, Housing Complex, Factory, Office, Workshop, Warehouse'\n",
      " 'Housing Complex, Factory, Office, Parking Lot'\n",
      " 'House, Housing Complex, Parking Lot'\n",
      " 'House, Warehouse, Parking Lot, Shop' 'Housing Complex, Factory, Office'\n",
      " 'Office, Parking Lot, Other' 'Housing Complex, Office, Parking Lot'\n",
      " 'Housing Complex, Parking Lot, Shop'\n",
      " 'Housing Complex, Workshop, Warehouse'\n",
      " 'Housing Complex, Office, Warehouse, Parking Lot, Shop'\n",
      " 'Housing Complex, Factory'\n",
      " 'Housing Complex, Office, Warehouse, Shop, Other'\n",
      " 'House, Housing Complex, Workshop, Shop'\n",
      " 'Housing Complex, Warehouse, Parking Lot' 'House, Housing Complex'\n",
      " 'Parking Lot, Shop' 'Housing Complex, Warehouse, Shop'\n",
      " 'House, Housing Complex, Office, Workshop' 'Parking Lot, Other'\n",
      " 'Workshop, Shop' 'House, Warehouse, Parking Lot'\n",
      " 'House, Office, Parking Lot, Shop, Other'\n",
      " 'House, Housing Complex, Parking Lot, Other'\n",
      " 'House, Parking Lot, Shop, Other' 'Office, Warehouse, Parking Lot, Shop'\n",
      " 'House, Office, Parking Lot, Other' 'Factory, Workshop'\n",
      " 'Housing Complex, Office, Other'\n",
      " 'House, Office, Warehouse, Parking Lot, Shop' 'Workshop, Warehouse'\n",
      " 'Housing Complex, Factory, Shop'\n",
      " 'House, Workshop, Warehouse, Parking Lot'\n",
      " 'House, Office, Warehouse, Shop, Other' 'Factory, Office, Other'\n",
      " 'Office, Workshop, Warehouse, Parking Lot'\n",
      " 'Housing Complex, Workshop, Shop' 'Office, Parking Lot, Shop, Other'\n",
      " 'House, Housing Complex, Office, Warehouse, Parking Lot']\n"
     ]
    }
   ],
   "source": [
    "print(df['Use'].unique())"
   ]
  },
  {
   "cell_type": "markdown",
   "id": "fb1a9dac",
   "metadata": {},
   "source": [
    "All of them are correct and based on data documentation. However, some of them have two or more types of use, and because of reduced-dimensionality, I just consider the first one."
   ]
  },
  {
   "cell_type": "code",
   "execution_count": 47,
   "id": "3ef9769c",
   "metadata": {},
   "outputs": [],
   "source": [
    "df['Use'] = df['Use'].apply(lambda x: x.split(',')[0])"
   ]
  },
  {
   "cell_type": "code",
   "execution_count": 48,
   "id": "20323ba3",
   "metadata": {},
   "outputs": [
    {
     "name": "stdout",
     "output_type": "stream",
     "text": [
      "House              1300\n",
      "Office              705\n",
      "Housing Complex     559\n",
      "Shop                117\n",
      "Other                43\n",
      "Warehouse            18\n",
      "Factory               9\n",
      "Parking Lot           6\n",
      "Workshop              4\n",
      "Name: Use, dtype: int64\n"
     ]
    }
   ],
   "source": [
    "print(df['Use'].value_counts())"
   ]
  },
  {
   "cell_type": "markdown",
   "id": "8d84addf",
   "metadata": {},
   "source": [
    "> ### Renovation"
   ]
  },
  {
   "cell_type": "code",
   "execution_count": 49,
   "id": "03169931",
   "metadata": {},
   "outputs": [
    {
     "name": "stdout",
     "output_type": "stream",
     "text": [
      "['Not yet']\n"
     ]
    }
   ],
   "source": [
    "print(df['Renovation'].unique())"
   ]
  },
  {
   "cell_type": "markdown",
   "id": "3d4e82a0",
   "metadata": {},
   "source": [
    "<hr>"
   ]
  },
  {
   "cell_type": "markdown",
   "id": "7f6a3425",
   "metadata": {},
   "source": [
    "# Check Point"
   ]
  },
  {
   "cell_type": "code",
   "execution_count": 52,
   "id": "e5ef46a5",
   "metadata": {},
   "outputs": [],
   "source": [
    "df = df.reset_index(drop=True)"
   ]
  },
  {
   "cell_type": "code",
   "execution_count": 55,
   "id": "2c5f6f97",
   "metadata": {},
   "outputs": [],
   "source": [
    "import pickle\n",
    "with open('Dataset/df_preprocessed.pickle', 'wb') as file:\n",
    "    pickle.dump(df, file)"
   ]
  }
 ],
 "metadata": {
  "kernelspec": {
   "display_name": "Python 3 (ipykernel)",
   "language": "python",
   "name": "python3"
  },
  "language_info": {
   "codemirror_mode": {
    "name": "ipython",
    "version": 3
   },
   "file_extension": ".py",
   "mimetype": "text/x-python",
   "name": "python",
   "nbconvert_exporter": "python",
   "pygments_lexer": "ipython3",
   "version": "3.9.13"
  }
 },
 "nbformat": 4,
 "nbformat_minor": 5
}
