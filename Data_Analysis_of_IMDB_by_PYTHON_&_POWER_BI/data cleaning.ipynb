{
 "cells": [
  {
   "cell_type": "markdown",
   "id": "82c3b61c",
   "metadata": {},
   "source": [
    "# Data Preprocessing"
   ]
  },
  {
   "cell_type": "markdown",
   "id": "d6d159a6",
   "metadata": {},
   "source": [
    ">## 1. import packages"
   ]
  },
  {
   "cell_type": "code",
   "execution_count": 1,
   "id": "3d9811c9",
   "metadata": {},
   "outputs": [],
   "source": [
    "import pandas as pd\n",
    "import numpy as np\n",
    "\n",
    "import seaborn as sns\n",
    "\n",
    "import matplotlib.pyplot as plt\n",
    "import matplotlib.mlab as mlab\n",
    "import matplotlib\n",
    "plt.style.use('ggplot')\n",
    "from matplotlib.pyplot import figure\n",
    "\n",
    "%matplotlib inline"
   ]
  },
  {
   "cell_type": "markdown",
   "id": "70b4b11e",
   "metadata": {},
   "source": [
    ">## 2. load dataset"
   ]
  },
  {
   "cell_type": "code",
   "execution_count": 2,
   "id": "f7c29c8c",
   "metadata": {},
   "outputs": [],
   "source": [
    "df = pd.read_csv('movie.csv')"
   ]
  },
  {
   "cell_type": "markdown",
   "id": "6f6956e5",
   "metadata": {},
   "source": [
    ">## 3. look at data"
   ]
  },
  {
   "cell_type": "code",
   "execution_count": 3,
   "id": "49339c1d",
   "metadata": {
    "scrolled": true
   },
   "outputs": [
    {
     "data": {
      "text/html": [
       "<div>\n",
       "<style scoped>\n",
       "    .dataframe tbody tr th:only-of-type {\n",
       "        vertical-align: middle;\n",
       "    }\n",
       "\n",
       "    .dataframe tbody tr th {\n",
       "        vertical-align: top;\n",
       "    }\n",
       "\n",
       "    .dataframe thead th {\n",
       "        text-align: right;\n",
       "    }\n",
       "</style>\n",
       "<table border=\"1\" class=\"dataframe\">\n",
       "  <thead>\n",
       "    <tr style=\"text-align: right;\">\n",
       "      <th></th>\n",
       "      <th>name</th>\n",
       "      <th>rating</th>\n",
       "      <th>genre</th>\n",
       "      <th>year</th>\n",
       "      <th>released</th>\n",
       "      <th>score</th>\n",
       "      <th>votes</th>\n",
       "      <th>director</th>\n",
       "      <th>writer</th>\n",
       "      <th>star</th>\n",
       "      <th>country</th>\n",
       "      <th>budget</th>\n",
       "      <th>gross</th>\n",
       "      <th>company</th>\n",
       "      <th>runtime</th>\n",
       "    </tr>\n",
       "  </thead>\n",
       "  <tbody>\n",
       "    <tr>\n",
       "      <th>0</th>\n",
       "      <td>The Shining</td>\n",
       "      <td>R</td>\n",
       "      <td>Drama</td>\n",
       "      <td>1980</td>\n",
       "      <td>June 13, 1980 (United States)</td>\n",
       "      <td>8.4</td>\n",
       "      <td>927000.0</td>\n",
       "      <td>Stanley Kubrick</td>\n",
       "      <td>Stephen King</td>\n",
       "      <td>Jack Nicholson</td>\n",
       "      <td>United Kingdom</td>\n",
       "      <td>19000000.0</td>\n",
       "      <td>46998772.0</td>\n",
       "      <td>Warner Bros.</td>\n",
       "      <td>146.0</td>\n",
       "    </tr>\n",
       "    <tr>\n",
       "      <th>1</th>\n",
       "      <td>The Blue Lagoon</td>\n",
       "      <td>R</td>\n",
       "      <td>Adventure</td>\n",
       "      <td>1980</td>\n",
       "      <td>July 2, 1980 (United States)</td>\n",
       "      <td>5.8</td>\n",
       "      <td>65000.0</td>\n",
       "      <td>Randal Kleiser</td>\n",
       "      <td>Henry De Vere Stacpoole</td>\n",
       "      <td>Brooke Shields</td>\n",
       "      <td>United States</td>\n",
       "      <td>4500000.0</td>\n",
       "      <td>58853106.0</td>\n",
       "      <td>Columbia Pictures</td>\n",
       "      <td>104.0</td>\n",
       "    </tr>\n",
       "    <tr>\n",
       "      <th>2</th>\n",
       "      <td>Star Wars: Episode V - The Empire Strikes Back</td>\n",
       "      <td>PG</td>\n",
       "      <td>Action</td>\n",
       "      <td>1980</td>\n",
       "      <td>June 20, 1980 (United States)</td>\n",
       "      <td>8.7</td>\n",
       "      <td>1200000.0</td>\n",
       "      <td>Irvin Kershner</td>\n",
       "      <td>Leigh Brackett</td>\n",
       "      <td>Mark Hamill</td>\n",
       "      <td>United States</td>\n",
       "      <td>18000000.0</td>\n",
       "      <td>538375067.0</td>\n",
       "      <td>Lucasfilm</td>\n",
       "      <td>124.0</td>\n",
       "    </tr>\n",
       "  </tbody>\n",
       "</table>\n",
       "</div>"
      ],
      "text/plain": [
       "                                             name rating      genre  year  \\\n",
       "0                                     The Shining      R      Drama  1980   \n",
       "1                                 The Blue Lagoon      R  Adventure  1980   \n",
       "2  Star Wars: Episode V - The Empire Strikes Back     PG     Action  1980   \n",
       "\n",
       "                        released  score      votes         director  \\\n",
       "0  June 13, 1980 (United States)    8.4   927000.0  Stanley Kubrick   \n",
       "1   July 2, 1980 (United States)    5.8    65000.0   Randal Kleiser   \n",
       "2  June 20, 1980 (United States)    8.7  1200000.0   Irvin Kershner   \n",
       "\n",
       "                    writer            star         country      budget  \\\n",
       "0             Stephen King  Jack Nicholson  United Kingdom  19000000.0   \n",
       "1  Henry De Vere Stacpoole  Brooke Shields   United States   4500000.0   \n",
       "2           Leigh Brackett     Mark Hamill   United States  18000000.0   \n",
       "\n",
       "         gross            company  runtime  \n",
       "0   46998772.0       Warner Bros.    146.0  \n",
       "1   58853106.0  Columbia Pictures    104.0  \n",
       "2  538375067.0          Lucasfilm    124.0  "
      ]
     },
     "execution_count": 3,
     "metadata": {},
     "output_type": "execute_result"
    }
   ],
   "source": [
    "df.head(3)"
   ]
  },
  {
   "cell_type": "markdown",
   "id": "05e01b73",
   "metadata": {},
   "source": [
    ">## 4. Handle missing values"
   ]
  },
  {
   "cell_type": "code",
   "execution_count": 4,
   "id": "30a8c66f",
   "metadata": {},
   "outputs": [
    {
     "name": "stdout",
     "output_type": "stream",
     "text": [
      "name - 0 - %0.0\n",
      "rating - 77 - %1.004\n",
      "genre - 0 - %0.0\n",
      "year - 0 - %0.0\n",
      "released - 2 - %0.026\n",
      "score - 3 - %0.039\n",
      "votes - 3 - %0.039\n",
      "director - 0 - %0.0\n",
      "writer - 3 - %0.039\n",
      "star - 1 - %0.013\n",
      "country - 3 - %0.039\n",
      "budget - 2171 - %28.312\n",
      "gross - 189 - %2.465\n",
      "company - 17 - %0.222\n",
      "runtime - 4 - %0.052\n"
     ]
    }
   ],
   "source": [
    "for col in df.columns:\n",
    "    number_null = df.loc[: , col].isnull().sum()\n",
    "    perc_null = (number_null / df.shape[0]) * 100\n",
    "    print('{} - {} - %{}'.format(col, number_null, round(perc_null,3)))"
   ]
  },
  {
   "cell_type": "code",
   "execution_count": 5,
   "id": "70a5b4d1",
   "metadata": {},
   "outputs": [
    {
     "name": "stdout",
     "output_type": "stream",
     "text": [
      "Dimension before:  (7668, 15)\n",
      "Dimension after:  (7412, 15)\n"
     ]
    }
   ],
   "source": [
    "#drop the null values\n",
    "print(\"Dimension before: \" , df.shape)\n",
    "df = df.dropna(subset = ['rating','released','score','votes','writer','star','country','gross','company','runtime'])\n",
    "print(\"Dimension after: \" , df.shape)"
   ]
  },
  {
   "cell_type": "code",
   "execution_count": 6,
   "id": "390bc4c2",
   "metadata": {},
   "outputs": [
    {
     "name": "stdout",
     "output_type": "stream",
     "text": [
      "Skewness : 2.443\n",
      "Mean is bigger than Median. Left Skewed. Median for imputing\n"
     ]
    }
   ],
   "source": [
    "#find distribution shape\n",
    "print('Skewness :' , round(df['budget'].skew() ,3))\n",
    "\n",
    "mean_budget = df['budget'].mean()\n",
    "median_budget = df['budget'].median()\n",
    "\n",
    "if mean_budget > median_budget:\n",
    "    print('Mean is bigger than Median. Left Skewed. Median for imputing')\n",
    "else:\n",
    "    print('Mean is smaller than Median. Right Skewed. Mean for imputing')"
   ]
  },
  {
   "cell_type": "code",
   "execution_count": 7,
   "id": "764e2794",
   "metadata": {},
   "outputs": [],
   "source": [
    "#impute with median\n",
    "df['budget'] = df['budget'].fillna(median_budget).round(0)"
   ]
  },
  {
   "cell_type": "code",
   "execution_count": 8,
   "id": "e84f1e41",
   "metadata": {
    "scrolled": true
   },
   "outputs": [
    {
     "name": "stdout",
     "output_type": "stream",
     "text": [
      "name - 0 - %0.0\n",
      "rating - 0 - %0.0\n",
      "genre - 0 - %0.0\n",
      "year - 0 - %0.0\n",
      "released - 0 - %0.0\n",
      "score - 0 - %0.0\n",
      "votes - 0 - %0.0\n",
      "director - 0 - %0.0\n",
      "writer - 0 - %0.0\n",
      "star - 0 - %0.0\n",
      "country - 0 - %0.0\n",
      "budget - 0 - %0.0\n",
      "gross - 0 - %0.0\n",
      "company - 0 - %0.0\n",
      "runtime - 0 - %0.0\n"
     ]
    }
   ],
   "source": [
    "#check null again\n",
    "for col in df.columns:\n",
    "    number_null = df.loc[: , col].isnull().sum()\n",
    "    perc_null = (number_null / df.shape[0]) * 100\n",
    "    print('{} - {} - %{}'.format(col, number_null, round(perc_null,3)))"
   ]
  },
  {
   "cell_type": "markdown",
   "id": "fc60b8fe",
   "metadata": {},
   "source": [
    ">## 5. Sanity checks on “Year”"
   ]
  },
  {
   "cell_type": "code",
   "execution_count": 9,
   "id": "a4f4852c",
   "metadata": {},
   "outputs": [],
   "source": [
    "import re\n",
    "\n",
    "# Create a new column 'year' in the DataFrame\n",
    "df['Years'] = ''\n",
    "df = df.reset_index(drop=True)\n",
    "\n",
    "# Define a regular expression pattern to match the year\n",
    "pattern = r\"\\b\\d{4}\\b\"\n",
    "\n",
    "# Iterate over the rows in the DataFrame\n",
    "for i in range(df.shape[0]):\n",
    "    date_string = df.iloc[i, 4]  # Assuming the date is in the 5th column (index 4)\n",
    "    # Search for the year using the regular expression pattern\n",
    "    match = re.search(pattern, date_string)\n",
    "    if match:\n",
    "        year = match.group(0)\n",
    "        df.at[i, 'Years'] = year  # Assign the extracted year to the 'year' column\n",
    "    else:\n",
    "        df.at[i, 'Years'] = 'Year not found'  # Assign a default value when year is not found"
   ]
  },
  {
   "cell_type": "code",
   "execution_count": 10,
   "id": "7efb4349",
   "metadata": {},
   "outputs": [],
   "source": [
    "df = df.drop('year',axis=1)"
   ]
  },
  {
   "cell_type": "markdown",
   "id": "4cb2eca7",
   "metadata": {},
   "source": [
    ">## 6. Handle duplicate rows"
   ]
  },
  {
   "cell_type": "code",
   "execution_count": 11,
   "id": "edab9ab8",
   "metadata": {},
   "outputs": [
    {
     "data": {
      "text/plain": [
       "False"
      ]
     },
     "execution_count": 11,
     "metadata": {},
     "output_type": "execute_result"
    }
   ],
   "source": [
    "def has_duplicate_rows(data):\n",
    "    df = pd.DataFrame(data)\n",
    "    duplicate_rows = df.duplicated()\n",
    "    return any(duplicate_rows)\n",
    "\n",
    "has_duplicate_rows(df)"
   ]
  },
  {
   "cell_type": "markdown",
   "id": "af1a1e39",
   "metadata": {},
   "source": [
    "<hr>"
   ]
  },
  {
   "cell_type": "markdown",
   "id": "99b821f2",
   "metadata": {},
   "source": [
    "# Exploratory Data Analysis"
   ]
  },
  {
   "cell_type": "code",
   "execution_count": 69,
   "id": "a7c2f036",
   "metadata": {},
   "outputs": [
    {
     "name": "stdout",
     "output_type": "stream",
     "text": [
      "Collecting sweetviz\n",
      "  Downloading sweetviz-2.1.4-py3-none-any.whl (15.1 MB)\n",
      "     --------------------------------------- 15.1/15.1 MB 29.7 MB/s eta 0:00:00\n",
      "Collecting importlib-resources>=1.2.0\n",
      "  Downloading importlib_resources-5.12.0-py3-none-any.whl (36 kB)\n",
      "Requirement already satisfied: pandas!=1.0.0,!=1.0.1,!=1.0.2,>=0.25.3 in c:\\users\\mehrdad\\anaconda3\\lib\\site-packages (from sweetviz) (1.4.4)\n",
      "Requirement already satisfied: numpy>=1.16.0 in c:\\users\\mehrdad\\anaconda3\\lib\\site-packages (from sweetviz) (1.21.5)\n",
      "Requirement already satisfied: scipy>=1.3.2 in c:\\users\\mehrdad\\anaconda3\\lib\\site-packages (from sweetviz) (1.9.1)\n",
      "Requirement already satisfied: matplotlib>=3.1.3 in c:\\users\\mehrdad\\anaconda3\\lib\\site-packages (from sweetviz) (3.5.2)\n",
      "Requirement already satisfied: tqdm>=4.43.0 in c:\\users\\mehrdad\\anaconda3\\lib\\site-packages (from sweetviz) (4.64.1)\n",
      "Requirement already satisfied: jinja2>=2.11.1 in c:\\users\\mehrdad\\anaconda3\\lib\\site-packages (from sweetviz) (2.11.3)\n",
      "Requirement already satisfied: zipp>=3.1.0 in c:\\users\\mehrdad\\anaconda3\\lib\\site-packages (from importlib-resources>=1.2.0->sweetviz) (3.8.0)\n",
      "Requirement already satisfied: MarkupSafe>=0.23 in c:\\users\\mehrdad\\anaconda3\\lib\\site-packages (from jinja2>=2.11.1->sweetviz) (2.0.1)\n",
      "Requirement already satisfied: kiwisolver>=1.0.1 in c:\\users\\mehrdad\\anaconda3\\lib\\site-packages (from matplotlib>=3.1.3->sweetviz) (1.4.2)\n",
      "Requirement already satisfied: pyparsing>=2.2.1 in c:\\users\\mehrdad\\anaconda3\\lib\\site-packages (from matplotlib>=3.1.3->sweetviz) (3.0.9)\n",
      "Requirement already satisfied: cycler>=0.10 in c:\\users\\mehrdad\\anaconda3\\lib\\site-packages (from matplotlib>=3.1.3->sweetviz) (0.11.0)\n",
      "Requirement already satisfied: packaging>=20.0 in c:\\users\\mehrdad\\anaconda3\\lib\\site-packages (from matplotlib>=3.1.3->sweetviz) (21.3)\n",
      "Requirement already satisfied: fonttools>=4.22.0 in c:\\users\\mehrdad\\anaconda3\\lib\\site-packages (from matplotlib>=3.1.3->sweetviz) (4.25.0)\n",
      "Requirement already satisfied: pillow>=6.2.0 in c:\\users\\mehrdad\\anaconda3\\lib\\site-packages (from matplotlib>=3.1.3->sweetviz) (9.2.0)\n",
      "Requirement already satisfied: python-dateutil>=2.7 in c:\\users\\mehrdad\\anaconda3\\lib\\site-packages (from matplotlib>=3.1.3->sweetviz) (2.8.2)\n",
      "Requirement already satisfied: pytz>=2020.1 in c:\\users\\mehrdad\\anaconda3\\lib\\site-packages (from pandas!=1.0.0,!=1.0.1,!=1.0.2,>=0.25.3->sweetviz) (2022.1)\n",
      "Requirement already satisfied: colorama in c:\\users\\mehrdad\\anaconda3\\lib\\site-packages (from tqdm>=4.43.0->sweetviz) (0.4.5)\n",
      "Requirement already satisfied: six>=1.5 in c:\\users\\mehrdad\\anaconda3\\lib\\site-packages (from python-dateutil>=2.7->matplotlib>=3.1.3->sweetviz) (1.16.0)\n",
      "Installing collected packages: importlib-resources, sweetviz\n",
      "Successfully installed importlib-resources-5.12.0 sweetviz-2.1.4\n"
     ]
    }
   ],
   "source": [
    "! pip install sweetviz"
   ]
  },
  {
   "cell_type": "code",
   "execution_count": 73,
   "id": "4cb66c38",
   "metadata": {},
   "outputs": [
    {
     "data": {
      "application/vnd.jupyter.widget-view+json": {
       "model_id": "afcd4b4049084993a3619e003f264f8c",
       "version_major": 2,
       "version_minor": 0
      },
      "text/plain": [
       "                                             |          | [  0%]   00:00 -> (? left)"
      ]
     },
     "metadata": {},
     "output_type": "display_data"
    },
    {
     "name": "stdout",
     "output_type": "stream",
     "text": [
      "Report Statistical_Analysis.html was generated.\n"
     ]
    }
   ],
   "source": [
    "import sweetviz as sv\n",
    "analyze_report = sv.analyze(df)\n",
    "analyze_report.show_html('Statistical_Analysis.html', open_browser=False)"
   ]
  },
  {
   "cell_type": "markdown",
   "id": "f55c5d65",
   "metadata": {},
   "source": [
    ">## 1. Qualitative Variables"
   ]
  },
  {
   "cell_type": "markdown",
   "id": "b5d606d5",
   "metadata": {},
   "source": [
    "Please read the report file."
   ]
  },
  {
   "cell_type": "markdown",
   "id": "3d389ea4",
   "metadata": {},
   "source": [
    ">## 2. Quantitative Variables"
   ]
  },
  {
   "cell_type": "code",
   "execution_count": 118,
   "id": "4cbfb023",
   "metadata": {},
   "outputs": [],
   "source": [
    "def kde_plot(x):\n",
    "    import seaborn as sns\n",
    "    import matplotlib.pyplot as plt\n",
    "    \n",
    "    plt.figure(figsize = (8,3))\n",
    "    sns.distplot(df[x], kde_kws={\"lw\": 5}, hist_kws = {'alpha': 0.25})\n",
    "    sns.despine(left = True)\n",
    "    \n",
    "    mean_age = df[x].mean()\n",
    "    median_age = df[x].median()\n",
    "    \n",
    "    plt.axvline(mean_age, color ='black', linestyle ='dashed')\n",
    "    plt.axvline(median_age, color ='green', linestyle ='solid')\n",
    "    plt.xlabel('')\n",
    "    plt.ylabel('')\n",
    "    \n",
    "    return plt.show()"
   ]
  },
  {
   "cell_type": "code",
   "execution_count": 121,
   "id": "69af5faf",
   "metadata": {
    "scrolled": true
   },
   "outputs": [
    {
     "name": "stderr",
     "output_type": "stream",
     "text": [
      "C:\\Users\\Mehrdad\\anaconda3\\lib\\site-packages\\seaborn\\distributions.py:2619: FutureWarning: `distplot` is a deprecated function and will be removed in a future version. Please adapt your code to use either `displot` (a figure-level function with similar flexibility) or `histplot` (an axes-level function for histograms).\n",
      "  warnings.warn(msg, FutureWarning)\n"
     ]
    },
    {
     "data": {
      "image/png": "[encoded data removed]",
      "text/plain": [
       "<Figure size 800x300 with 1 Axes>"
      ]
     },
     "metadata": {},
     "output_type": "display_data"
    }
   ],
   "source": [
    "kde_plot('score')"
   ]
  },
  {
   "cell_type": "code",
   "execution_count": 122,
   "id": "68eba453",
   "metadata": {},
   "outputs": [
    {
     "name": "stderr",
     "output_type": "stream",
     "text": [
      "C:\\Users\\Mehrdad\\anaconda3\\lib\\site-packages\\seaborn\\distributions.py:2619: FutureWarning: `distplot` is a deprecated function and will be removed in a future version. Please adapt your code to use either `displot` (a figure-level function with similar flexibility) or `histplot` (an axes-level function for histograms).\n",
      "  warnings.warn(msg, FutureWarning)\n"
     ]
    },
    {
     "data": {
      "image/png": "[encoded data removed]",
      "text/plain": [
       "<Figure size 800x300 with 1 Axes>"
      ]
     },
     "metadata": {},
     "output_type": "display_data"
    }
   ],
   "source": [
    "kde_plot('votes')"
   ]
  },
  {
   "cell_type": "code",
   "execution_count": 123,
   "id": "bfe716a5",
   "metadata": {},
   "outputs": [
    {
     "name": "stderr",
     "output_type": "stream",
     "text": [
      "C:\\Users\\Mehrdad\\anaconda3\\lib\\site-packages\\seaborn\\distributions.py:2619: FutureWarning: `distplot` is a deprecated function and will be removed in a future version. Please adapt your code to use either `displot` (a figure-level function with similar flexibility) or `histplot` (an axes-level function for histograms).\n",
      "  warnings.warn(msg, FutureWarning)\n"
     ]
    },
    {
     "data": {
      "image/png": "[encoded data removed]",
      "text/plain": [
       "<Figure size 800x300 with 1 Axes>"
      ]
     },
     "metadata": {},
     "output_type": "display_data"
    }
   ],
   "source": [
    "kde_plot('budget')"
   ]
  },
  {
   "cell_type": "code",
   "execution_count": 124,
   "id": "1887d7bd",
   "metadata": {},
   "outputs": [
    {
     "name": "stderr",
     "output_type": "stream",
     "text": [
      "C:\\Users\\Mehrdad\\anaconda3\\lib\\site-packages\\seaborn\\distributions.py:2619: FutureWarning: `distplot` is a deprecated function and will be removed in a future version. Please adapt your code to use either `displot` (a figure-level function with similar flexibility) or `histplot` (an axes-level function for histograms).\n",
      "  warnings.warn(msg, FutureWarning)\n"
     ]
    },
    {
     "data": {
      "image/png": "[encoded data removed]",
      "text/plain": [
       "<Figure size 800x300 with 1 Axes>"
      ]
     },
     "metadata": {},
     "output_type": "display_data"
    }
   ],
   "source": [
    "kde_plot('gross')"
   ]
  },
  {
   "cell_type": "code",
   "execution_count": 125,
   "id": "6e191fd6",
   "metadata": {
    "scrolled": true
   },
   "outputs": [
    {
     "name": "stderr",
     "output_type": "stream",
     "text": [
      "C:\\Users\\Mehrdad\\anaconda3\\lib\\site-packages\\seaborn\\distributions.py:2619: FutureWarning: `distplot` is a deprecated function and will be removed in a future version. Please adapt your code to use either `displot` (a figure-level function with similar flexibility) or `histplot` (an axes-level function for histograms).\n",
      "  warnings.warn(msg, FutureWarning)\n"
     ]
    },
    {
     "data": {
      "image/png": "[encoded data removed]",
      "text/plain": [
       "<Figure size 800x300 with 1 Axes>"
      ]
     },
     "metadata": {},
     "output_type": "display_data"
    }
   ],
   "source": [
    "kde_plot('runtime')"
   ]
  },
  {
   "cell_type": "markdown",
   "id": "9093542c",
   "metadata": {},
   "source": [
    "<hr>"
   ]
  },
  {
   "cell_type": "code",
   "execution_count": 149,
   "id": "c7ff00b7",
   "metadata": {},
   "outputs": [
    {
     "data": {
      "text/html": [
       "<div>\n",
       "<style scoped>\n",
       "    .dataframe tbody tr th:only-of-type {\n",
       "        vertical-align: middle;\n",
       "    }\n",
       "\n",
       "    .dataframe tbody tr th {\n",
       "        vertical-align: top;\n",
       "    }\n",
       "\n",
       "    .dataframe thead th {\n",
       "        text-align: right;\n",
       "    }\n",
       "</style>\n",
       "<table border=\"1\" class=\"dataframe\">\n",
       "  <thead>\n",
       "    <tr style=\"text-align: right;\">\n",
       "      <th></th>\n",
       "      <th>name</th>\n",
       "      <th>rating</th>\n",
       "      <th>genre</th>\n",
       "      <th>released</th>\n",
       "      <th>score</th>\n",
       "      <th>votes</th>\n",
       "      <th>director</th>\n",
       "      <th>writer</th>\n",
       "      <th>star</th>\n",
       "      <th>country</th>\n",
       "      <th>budget</th>\n",
       "      <th>gross</th>\n",
       "      <th>company</th>\n",
       "      <th>runtime</th>\n",
       "      <th>Years</th>\n",
       "    </tr>\n",
       "  </thead>\n",
       "  <tbody>\n",
       "    <tr>\n",
       "      <th>4386</th>\n",
       "      <td>Superbabies: Baby Geniuses 2</td>\n",
       "      <td>PG</td>\n",
       "      <td>Comedy</td>\n",
       "      <td>August 27, 2004 (United States)</td>\n",
       "      <td>1.9</td>\n",
       "      <td>30000.0</td>\n",
       "      <td>Bob Clark</td>\n",
       "      <td>Robert Grasmere</td>\n",
       "      <td>Jon Voight</td>\n",
       "      <td>Germany</td>\n",
       "      <td>20000000.0</td>\n",
       "      <td>9448644.0</td>\n",
       "      <td>ApolloMedia Distribution</td>\n",
       "      <td>88.0</td>\n",
       "      <td>2004</td>\n",
       "    </tr>\n",
       "    <tr>\n",
       "      <th>5094</th>\n",
       "      <td>Disaster Movie</td>\n",
       "      <td>PG-13</td>\n",
       "      <td>Comedy</td>\n",
       "      <td>August 29, 2008 (United States)</td>\n",
       "      <td>1.9</td>\n",
       "      <td>88000.0</td>\n",
       "      <td>Jason Friedberg</td>\n",
       "      <td>Jason Friedberg</td>\n",
       "      <td>Carmen Electra</td>\n",
       "      <td>United States</td>\n",
       "      <td>20000000.0</td>\n",
       "      <td>34816824.0</td>\n",
       "      <td>Lionsgate</td>\n",
       "      <td>87.0</td>\n",
       "      <td>2008</td>\n",
       "    </tr>\n",
       "    <tr>\n",
       "      <th>5142</th>\n",
       "      <td>The Hottie &amp; the Nottie</td>\n",
       "      <td>PG-13</td>\n",
       "      <td>Comedy</td>\n",
       "      <td>February 21, 2008 (Russia)</td>\n",
       "      <td>1.9</td>\n",
       "      <td>36000.0</td>\n",
       "      <td>Tom Putnam</td>\n",
       "      <td>Heidi Ferrer</td>\n",
       "      <td>Paris Hilton</td>\n",
       "      <td>United States</td>\n",
       "      <td>21800000.0</td>\n",
       "      <td>1596232.0</td>\n",
       "      <td>Purple Pictures</td>\n",
       "      <td>91.0</td>\n",
       "      <td>2008</td>\n",
       "    </tr>\n",
       "  </tbody>\n",
       "</table>\n",
       "</div>"
      ],
      "text/plain": [
       "                              name rating   genre  \\\n",
       "4386  Superbabies: Baby Geniuses 2     PG  Comedy   \n",
       "5094                Disaster Movie  PG-13  Comedy   \n",
       "5142       The Hottie & the Nottie  PG-13  Comedy   \n",
       "\n",
       "                             released  score    votes         director  \\\n",
       "4386  August 27, 2004 (United States)    1.9  30000.0        Bob Clark   \n",
       "5094  August 29, 2008 (United States)    1.9  88000.0  Jason Friedberg   \n",
       "5142       February 21, 2008 (Russia)    1.9  36000.0       Tom Putnam   \n",
       "\n",
       "               writer            star        country      budget       gross  \\\n",
       "4386  Robert Grasmere      Jon Voight        Germany  20000000.0   9448644.0   \n",
       "5094  Jason Friedberg  Carmen Electra  United States  20000000.0  34816824.0   \n",
       "5142     Heidi Ferrer    Paris Hilton  United States  21800000.0   1596232.0   \n",
       "\n",
       "                       company  runtime Years  \n",
       "4386  ApolloMedia Distribution     88.0  2004  \n",
       "5094                 Lionsgate     87.0  2008  \n",
       "5142           Purple Pictures     91.0  2008  "
      ]
     },
     "execution_count": 149,
     "metadata": {},
     "output_type": "execute_result"
    }
   ],
   "source": [
    "#minimum score\n",
    "df[df['score'] == df['score'].min()]"
   ]
  },
  {
   "cell_type": "code",
   "execution_count": 150,
   "id": "99bb2ead",
   "metadata": {},
   "outputs": [
    {
     "data": {
      "text/html": [
       "<div>\n",
       "<style scoped>\n",
       "    .dataframe tbody tr th:only-of-type {\n",
       "        vertical-align: middle;\n",
       "    }\n",
       "\n",
       "    .dataframe tbody tr th {\n",
       "        vertical-align: top;\n",
       "    }\n",
       "\n",
       "    .dataframe thead th {\n",
       "        text-align: right;\n",
       "    }\n",
       "</style>\n",
       "<table border=\"1\" class=\"dataframe\">\n",
       "  <thead>\n",
       "    <tr style=\"text-align: right;\">\n",
       "      <th></th>\n",
       "      <th>name</th>\n",
       "      <th>rating</th>\n",
       "      <th>genre</th>\n",
       "      <th>released</th>\n",
       "      <th>score</th>\n",
       "      <th>votes</th>\n",
       "      <th>director</th>\n",
       "      <th>writer</th>\n",
       "      <th>star</th>\n",
       "      <th>country</th>\n",
       "      <th>budget</th>\n",
       "      <th>gross</th>\n",
       "      <th>company</th>\n",
       "      <th>runtime</th>\n",
       "      <th>Years</th>\n",
       "    </tr>\n",
       "  </thead>\n",
       "  <tbody>\n",
       "    <tr>\n",
       "      <th>2273</th>\n",
       "      <td>The Shawshank Redemption</td>\n",
       "      <td>R</td>\n",
       "      <td>Drama</td>\n",
       "      <td>October 14, 1994 (United States)</td>\n",
       "      <td>9.3</td>\n",
       "      <td>2400000.0</td>\n",
       "      <td>Frank Darabont</td>\n",
       "      <td>Stephen King</td>\n",
       "      <td>Tim Robbins</td>\n",
       "      <td>United States</td>\n",
       "      <td>25000000.0</td>\n",
       "      <td>28817291.0</td>\n",
       "      <td>Castle Rock Entertainment</td>\n",
       "      <td>142.0</td>\n",
       "      <td>1994</td>\n",
       "    </tr>\n",
       "  </tbody>\n",
       "</table>\n",
       "</div>"
      ],
      "text/plain": [
       "                          name rating  genre  \\\n",
       "2273  The Shawshank Redemption      R  Drama   \n",
       "\n",
       "                              released  score      votes        director  \\\n",
       "2273  October 14, 1994 (United States)    9.3  2400000.0  Frank Darabont   \n",
       "\n",
       "            writer         star        country      budget       gross  \\\n",
       "2273  Stephen King  Tim Robbins  United States  25000000.0  28817291.0   \n",
       "\n",
       "                        company  runtime Years  \n",
       "2273  Castle Rock Entertainment    142.0  1994  "
      ]
     },
     "execution_count": 150,
     "metadata": {},
     "output_type": "execute_result"
    }
   ],
   "source": [
    "#maximum score\n",
    "df[df['score'] == df['score'].max()]"
   ]
  },
  {
   "cell_type": "markdown",
   "id": "52f83e33",
   "metadata": {},
   "source": [
    "<hr>"
   ]
  },
  {
   "cell_type": "code",
   "execution_count": 151,
   "id": "51792207",
   "metadata": {},
   "outputs": [
    {
     "data": {
      "text/html": [
       "<div>\n",
       "<style scoped>\n",
       "    .dataframe tbody tr th:only-of-type {\n",
       "        vertical-align: middle;\n",
       "    }\n",
       "\n",
       "    .dataframe tbody tr th {\n",
       "        vertical-align: top;\n",
       "    }\n",
       "\n",
       "    .dataframe thead th {\n",
       "        text-align: right;\n",
       "    }\n",
       "</style>\n",
       "<table border=\"1\" class=\"dataframe\">\n",
       "  <thead>\n",
       "    <tr style=\"text-align: right;\">\n",
       "      <th></th>\n",
       "      <th>name</th>\n",
       "      <th>rating</th>\n",
       "      <th>genre</th>\n",
       "      <th>released</th>\n",
       "      <th>score</th>\n",
       "      <th>votes</th>\n",
       "      <th>director</th>\n",
       "      <th>writer</th>\n",
       "      <th>star</th>\n",
       "      <th>country</th>\n",
       "      <th>budget</th>\n",
       "      <th>gross</th>\n",
       "      <th>company</th>\n",
       "      <th>runtime</th>\n",
       "      <th>Years</th>\n",
       "    </tr>\n",
       "  </thead>\n",
       "  <tbody>\n",
       "    <tr>\n",
       "      <th>582</th>\n",
       "      <td>Petit Con</td>\n",
       "      <td>R</td>\n",
       "      <td>Comedy</td>\n",
       "      <td>April 19, 1985 (United States)</td>\n",
       "      <td>6.2</td>\n",
       "      <td>105.0</td>\n",
       "      <td>Gérard Lauzier</td>\n",
       "      <td>Gérard Lauzier</td>\n",
       "      <td>Guy Marchand</td>\n",
       "      <td>France</td>\n",
       "      <td>21800000.0</td>\n",
       "      <td>127426.0</td>\n",
       "      <td>Gaumont International</td>\n",
       "      <td>90.0</td>\n",
       "      <td>1985</td>\n",
       "    </tr>\n",
       "  </tbody>\n",
       "</table>\n",
       "</div>"
      ],
      "text/plain": [
       "          name rating   genre                        released  score  votes  \\\n",
       "582  Petit Con      R  Comedy  April 19, 1985 (United States)    6.2  105.0   \n",
       "\n",
       "           director          writer          star country      budget  \\\n",
       "582  Gérard Lauzier  Gérard Lauzier  Guy Marchand  France  21800000.0   \n",
       "\n",
       "        gross                company  runtime Years  \n",
       "582  127426.0  Gaumont International     90.0  1985  "
      ]
     },
     "execution_count": 151,
     "metadata": {},
     "output_type": "execute_result"
    }
   ],
   "source": [
    "#minimum votes\n",
    "df[df['votes'] == df['votes'].min()]"
   ]
  },
  {
   "cell_type": "code",
   "execution_count": 152,
   "id": "3f26285c",
   "metadata": {},
   "outputs": [
    {
     "data": {
      "text/html": [
       "<div>\n",
       "<style scoped>\n",
       "    .dataframe tbody tr th:only-of-type {\n",
       "        vertical-align: middle;\n",
       "    }\n",
       "\n",
       "    .dataframe tbody tr th {\n",
       "        vertical-align: top;\n",
       "    }\n",
       "\n",
       "    .dataframe thead th {\n",
       "        text-align: right;\n",
       "    }\n",
       "</style>\n",
       "<table border=\"1\" class=\"dataframe\">\n",
       "  <thead>\n",
       "    <tr style=\"text-align: right;\">\n",
       "      <th></th>\n",
       "      <th>name</th>\n",
       "      <th>rating</th>\n",
       "      <th>genre</th>\n",
       "      <th>released</th>\n",
       "      <th>score</th>\n",
       "      <th>votes</th>\n",
       "      <th>director</th>\n",
       "      <th>writer</th>\n",
       "      <th>star</th>\n",
       "      <th>country</th>\n",
       "      <th>budget</th>\n",
       "      <th>gross</th>\n",
       "      <th>company</th>\n",
       "      <th>runtime</th>\n",
       "      <th>Years</th>\n",
       "    </tr>\n",
       "  </thead>\n",
       "  <tbody>\n",
       "    <tr>\n",
       "      <th>2273</th>\n",
       "      <td>The Shawshank Redemption</td>\n",
       "      <td>R</td>\n",
       "      <td>Drama</td>\n",
       "      <td>October 14, 1994 (United States)</td>\n",
       "      <td>9.3</td>\n",
       "      <td>2400000.0</td>\n",
       "      <td>Frank Darabont</td>\n",
       "      <td>Stephen King</td>\n",
       "      <td>Tim Robbins</td>\n",
       "      <td>United States</td>\n",
       "      <td>25000000.0</td>\n",
       "      <td>2.881729e+07</td>\n",
       "      <td>Castle Rock Entertainment</td>\n",
       "      <td>142.0</td>\n",
       "      <td>1994</td>\n",
       "    </tr>\n",
       "    <tr>\n",
       "      <th>5032</th>\n",
       "      <td>The Dark Knight</td>\n",
       "      <td>PG-13</td>\n",
       "      <td>Action</td>\n",
       "      <td>July 18, 2008 (United States)</td>\n",
       "      <td>9.0</td>\n",
       "      <td>2400000.0</td>\n",
       "      <td>Christopher Nolan</td>\n",
       "      <td>Jonathan Nolan</td>\n",
       "      <td>Christian Bale</td>\n",
       "      <td>United States</td>\n",
       "      <td>185000000.0</td>\n",
       "      <td>1.005974e+09</td>\n",
       "      <td>Warner Bros.</td>\n",
       "      <td>152.0</td>\n",
       "      <td>2008</td>\n",
       "    </tr>\n",
       "  </tbody>\n",
       "</table>\n",
       "</div>"
      ],
      "text/plain": [
       "                          name rating   genre  \\\n",
       "2273  The Shawshank Redemption      R   Drama   \n",
       "5032           The Dark Knight  PG-13  Action   \n",
       "\n",
       "                              released  score      votes           director  \\\n",
       "2273  October 14, 1994 (United States)    9.3  2400000.0     Frank Darabont   \n",
       "5032     July 18, 2008 (United States)    9.0  2400000.0  Christopher Nolan   \n",
       "\n",
       "              writer            star        country       budget  \\\n",
       "2273    Stephen King     Tim Robbins  United States   25000000.0   \n",
       "5032  Jonathan Nolan  Christian Bale  United States  185000000.0   \n",
       "\n",
       "             gross                    company  runtime Years  \n",
       "2273  2.881729e+07  Castle Rock Entertainment    142.0  1994  \n",
       "5032  1.005974e+09               Warner Bros.    152.0  2008  "
      ]
     },
     "execution_count": 152,
     "metadata": {},
     "output_type": "execute_result"
    }
   ],
   "source": [
    "#maximum votes\n",
    "df[df['votes'] == df['votes'].max()]"
   ]
  },
  {
   "cell_type": "markdown",
   "id": "aa0d8704",
   "metadata": {},
   "source": [
    "<hr>"
   ]
  },
  {
   "cell_type": "code",
   "execution_count": 153,
   "id": "66cba072",
   "metadata": {},
   "outputs": [
    {
     "data": {
      "text/html": [
       "<div>\n",
       "<style scoped>\n",
       "    .dataframe tbody tr th:only-of-type {\n",
       "        vertical-align: middle;\n",
       "    }\n",
       "\n",
       "    .dataframe tbody tr th {\n",
       "        vertical-align: top;\n",
       "    }\n",
       "\n",
       "    .dataframe thead th {\n",
       "        text-align: right;\n",
       "    }\n",
       "</style>\n",
       "<table border=\"1\" class=\"dataframe\">\n",
       "  <thead>\n",
       "    <tr style=\"text-align: right;\">\n",
       "      <th></th>\n",
       "      <th>name</th>\n",
       "      <th>rating</th>\n",
       "      <th>genre</th>\n",
       "      <th>released</th>\n",
       "      <th>score</th>\n",
       "      <th>votes</th>\n",
       "      <th>director</th>\n",
       "      <th>writer</th>\n",
       "      <th>star</th>\n",
       "      <th>country</th>\n",
       "      <th>budget</th>\n",
       "      <th>gross</th>\n",
       "      <th>company</th>\n",
       "      <th>runtime</th>\n",
       "      <th>Years</th>\n",
       "    </tr>\n",
       "  </thead>\n",
       "  <tbody>\n",
       "    <tr>\n",
       "      <th>3136</th>\n",
       "      <td>Following</td>\n",
       "      <td>R</td>\n",
       "      <td>Crime</td>\n",
       "      <td>November 5, 1999 (United Kingdom)</td>\n",
       "      <td>7.5</td>\n",
       "      <td>89000.0</td>\n",
       "      <td>Christopher Nolan</td>\n",
       "      <td>Christopher Nolan</td>\n",
       "      <td>Jeremy Theobald</td>\n",
       "      <td>United Kingdom</td>\n",
       "      <td>6000.0</td>\n",
       "      <td>48482.0</td>\n",
       "      <td>Next Wave Films</td>\n",
       "      <td>69.0</td>\n",
       "      <td>1999</td>\n",
       "    </tr>\n",
       "  </tbody>\n",
       "</table>\n",
       "</div>"
      ],
      "text/plain": [
       "           name rating  genre                           released  score  \\\n",
       "3136  Following      R  Crime  November 5, 1999 (United Kingdom)    7.5   \n",
       "\n",
       "        votes           director             writer             star  \\\n",
       "3136  89000.0  Christopher Nolan  Christopher Nolan  Jeremy Theobald   \n",
       "\n",
       "             country  budget    gross          company  runtime Years  \n",
       "3136  United Kingdom  6000.0  48482.0  Next Wave Films     69.0  1999  "
      ]
     },
     "execution_count": 153,
     "metadata": {},
     "output_type": "execute_result"
    }
   ],
   "source": [
    "#minimum budget\n",
    "df[df['budget'] == df['budget'].min()]"
   ]
  },
  {
   "cell_type": "code",
   "execution_count": 154,
   "id": "1cc557d1",
   "metadata": {},
   "outputs": [
    {
     "data": {
      "text/html": [
       "<div>\n",
       "<style scoped>\n",
       "    .dataframe tbody tr th:only-of-type {\n",
       "        vertical-align: middle;\n",
       "    }\n",
       "\n",
       "    .dataframe tbody tr th {\n",
       "        vertical-align: top;\n",
       "    }\n",
       "\n",
       "    .dataframe thead th {\n",
       "        text-align: right;\n",
       "    }\n",
       "</style>\n",
       "<table border=\"1\" class=\"dataframe\">\n",
       "  <thead>\n",
       "    <tr style=\"text-align: right;\">\n",
       "      <th></th>\n",
       "      <th>name</th>\n",
       "      <th>rating</th>\n",
       "      <th>genre</th>\n",
       "      <th>released</th>\n",
       "      <th>score</th>\n",
       "      <th>votes</th>\n",
       "      <th>director</th>\n",
       "      <th>writer</th>\n",
       "      <th>star</th>\n",
       "      <th>country</th>\n",
       "      <th>budget</th>\n",
       "      <th>gross</th>\n",
       "      <th>company</th>\n",
       "      <th>runtime</th>\n",
       "      <th>Years</th>\n",
       "    </tr>\n",
       "  </thead>\n",
       "  <tbody>\n",
       "    <tr>\n",
       "      <th>7221</th>\n",
       "      <td>Avengers: Endgame</td>\n",
       "      <td>PG-13</td>\n",
       "      <td>Action</td>\n",
       "      <td>April 26, 2019 (United States)</td>\n",
       "      <td>8.4</td>\n",
       "      <td>903000.0</td>\n",
       "      <td>Anthony Russo</td>\n",
       "      <td>Christopher Markus</td>\n",
       "      <td>Robert Downey Jr.</td>\n",
       "      <td>United States</td>\n",
       "      <td>356000000.0</td>\n",
       "      <td>2.797501e+09</td>\n",
       "      <td>Marvel Studios</td>\n",
       "      <td>181.0</td>\n",
       "      <td>2019</td>\n",
       "    </tr>\n",
       "  </tbody>\n",
       "</table>\n",
       "</div>"
      ],
      "text/plain": [
       "                   name rating   genre                        released  score  \\\n",
       "7221  Avengers: Endgame  PG-13  Action  April 26, 2019 (United States)    8.4   \n",
       "\n",
       "         votes       director              writer               star  \\\n",
       "7221  903000.0  Anthony Russo  Christopher Markus  Robert Downey Jr.   \n",
       "\n",
       "            country       budget         gross         company  runtime Years  \n",
       "7221  United States  356000000.0  2.797501e+09  Marvel Studios    181.0  2019  "
      ]
     },
     "execution_count": 154,
     "metadata": {},
     "output_type": "execute_result"
    }
   ],
   "source": [
    "#maximum budget\n",
    "df[df['budget'] == df['budget'].max()]"
   ]
  },
  {
   "cell_type": "markdown",
   "id": "febda44f",
   "metadata": {},
   "source": [
    "<hr>"
   ]
  },
  {
   "cell_type": "code",
   "execution_count": 155,
   "id": "e4918ae1",
   "metadata": {},
   "outputs": [
    {
     "data": {
      "text/html": [
       "<div>\n",
       "<style scoped>\n",
       "    .dataframe tbody tr th:only-of-type {\n",
       "        vertical-align: middle;\n",
       "    }\n",
       "\n",
       "    .dataframe tbody tr th {\n",
       "        vertical-align: top;\n",
       "    }\n",
       "\n",
       "    .dataframe thead th {\n",
       "        text-align: right;\n",
       "    }\n",
       "</style>\n",
       "<table border=\"1\" class=\"dataframe\">\n",
       "  <thead>\n",
       "    <tr style=\"text-align: right;\">\n",
       "      <th></th>\n",
       "      <th>name</th>\n",
       "      <th>rating</th>\n",
       "      <th>genre</th>\n",
       "      <th>released</th>\n",
       "      <th>score</th>\n",
       "      <th>votes</th>\n",
       "      <th>director</th>\n",
       "      <th>writer</th>\n",
       "      <th>star</th>\n",
       "      <th>country</th>\n",
       "      <th>budget</th>\n",
       "      <th>gross</th>\n",
       "      <th>company</th>\n",
       "      <th>runtime</th>\n",
       "      <th>Years</th>\n",
       "    </tr>\n",
       "  </thead>\n",
       "  <tbody>\n",
       "    <tr>\n",
       "      <th>3021</th>\n",
       "      <td>Trojan War</td>\n",
       "      <td>PG-13</td>\n",
       "      <td>Comedy</td>\n",
       "      <td>October 1, 1997 (Brazil)</td>\n",
       "      <td>5.7</td>\n",
       "      <td>5800.0</td>\n",
       "      <td>George Huang</td>\n",
       "      <td>Andy Burg</td>\n",
       "      <td>Will Friedle</td>\n",
       "      <td>United States</td>\n",
       "      <td>15000000.0</td>\n",
       "      <td>309.0</td>\n",
       "      <td>Daybreak</td>\n",
       "      <td>85.0</td>\n",
       "      <td>1997</td>\n",
       "    </tr>\n",
       "  </tbody>\n",
       "</table>\n",
       "</div>"
      ],
      "text/plain": [
       "            name rating   genre                  released  score   votes  \\\n",
       "3021  Trojan War  PG-13  Comedy  October 1, 1997 (Brazil)    5.7  5800.0   \n",
       "\n",
       "          director     writer          star        country      budget  gross  \\\n",
       "3021  George Huang  Andy Burg  Will Friedle  United States  15000000.0  309.0   \n",
       "\n",
       "       company  runtime Years  \n",
       "3021  Daybreak     85.0  1997  "
      ]
     },
     "execution_count": 155,
     "metadata": {},
     "output_type": "execute_result"
    }
   ],
   "source": [
    "#minimum gross\n",
    "df[df['gross'] == df['gross'].min()]"
   ]
  },
  {
   "cell_type": "code",
   "execution_count": 156,
   "id": "b1cec1d0",
   "metadata": {},
   "outputs": [
    {
     "data": {
      "text/html": [
       "<div>\n",
       "<style scoped>\n",
       "    .dataframe tbody tr th:only-of-type {\n",
       "        vertical-align: middle;\n",
       "    }\n",
       "\n",
       "    .dataframe tbody tr th {\n",
       "        vertical-align: top;\n",
       "    }\n",
       "\n",
       "    .dataframe thead th {\n",
       "        text-align: right;\n",
       "    }\n",
       "</style>\n",
       "<table border=\"1\" class=\"dataframe\">\n",
       "  <thead>\n",
       "    <tr style=\"text-align: right;\">\n",
       "      <th></th>\n",
       "      <th>name</th>\n",
       "      <th>rating</th>\n",
       "      <th>genre</th>\n",
       "      <th>released</th>\n",
       "      <th>score</th>\n",
       "      <th>votes</th>\n",
       "      <th>director</th>\n",
       "      <th>writer</th>\n",
       "      <th>star</th>\n",
       "      <th>country</th>\n",
       "      <th>budget</th>\n",
       "      <th>gross</th>\n",
       "      <th>company</th>\n",
       "      <th>runtime</th>\n",
       "      <th>Years</th>\n",
       "    </tr>\n",
       "  </thead>\n",
       "  <tbody>\n",
       "    <tr>\n",
       "      <th>5233</th>\n",
       "      <td>Avatar</td>\n",
       "      <td>PG-13</td>\n",
       "      <td>Action</td>\n",
       "      <td>December 18, 2009 (United States)</td>\n",
       "      <td>7.8</td>\n",
       "      <td>1100000.0</td>\n",
       "      <td>James Cameron</td>\n",
       "      <td>James Cameron</td>\n",
       "      <td>Sam Worthington</td>\n",
       "      <td>United States</td>\n",
       "      <td>237000000.0</td>\n",
       "      <td>2.847246e+09</td>\n",
       "      <td>Twentieth Century Fox</td>\n",
       "      <td>162.0</td>\n",
       "      <td>2009</td>\n",
       "    </tr>\n",
       "  </tbody>\n",
       "</table>\n",
       "</div>"
      ],
      "text/plain": [
       "        name rating   genre                           released  score  \\\n",
       "5233  Avatar  PG-13  Action  December 18, 2009 (United States)    7.8   \n",
       "\n",
       "          votes       director         writer             star        country  \\\n",
       "5233  1100000.0  James Cameron  James Cameron  Sam Worthington  United States   \n",
       "\n",
       "           budget         gross                company  runtime Years  \n",
       "5233  237000000.0  2.847246e+09  Twentieth Century Fox    162.0  2009  "
      ]
     },
     "execution_count": 156,
     "metadata": {},
     "output_type": "execute_result"
    }
   ],
   "source": [
    "#maximum gross\n",
    "df[df['gross'] == df['gross'].max()]"
   ]
  },
  {
   "cell_type": "markdown",
   "id": "cda1bd55",
   "metadata": {},
   "source": [
    "<hr>"
   ]
  },
  {
   "cell_type": "markdown",
   "id": "51017ed4",
   "metadata": {},
   "source": [
    "# Correlation Analysis"
   ]
  },
  {
   "cell_type": "markdown",
   "id": "09f82c09",
   "metadata": {},
   "source": [
    ">## 1. Pearson Correlation"
   ]
  },
  {
   "cell_type": "code",
   "execution_count": 12,
   "id": "65d76c95",
   "metadata": {},
   "outputs": [
    {
     "data": {
      "image/png": "[encoded data removed]",
      "text/plain": [
       "<Figure size 2500x600 with 4 Axes>"
      ]
     },
     "metadata": {},
     "output_type": "display_data"
    }
   ],
   "source": [
    "#declare numeric variable\n",
    "numeric = ['score','votes','budget','runtime']\n",
    "\n",
    "# Create a grid of subplots\n",
    "fig, axes = plt.subplots(1, 4, figsize=(25, 6))\n",
    "\n",
    "# Flatten the axes array to make it 1D\n",
    "axes = axes.ravel()\n",
    "\n",
    "# Loop through each subplot and plot sns.regplot\n",
    "for i, col in enumerate(numeric):\n",
    "    sns.regplot(x=col, y='gross', data=df, ax=axes[i], scatter_kws={\"color\": \"red\"}, line_kws={\"color\":\"black\"})\n",
    "    axes[i].set_xlabel(col)\n",
    "    axes[i].set_ylabel('')\n",
    "\n",
    "# Adjust spacing between subplots\n",
    "plt.tight_layout()\n",
    "\n",
    "# Show the plot\n",
    "plt.show()"
   ]
  },
  {
   "cell_type": "code",
   "execution_count": 13,
   "id": "e3983d02",
   "metadata": {},
   "outputs": [
    {
     "data": {
      "image/png": "[encoded data removed]",
      "text/plain": [
       "<Figure size 1800x300 with 2 Axes>"
      ]
     },
     "metadata": {},
     "output_type": "display_data"
    }
   ],
   "source": [
    "pearson_cor = df[['gross','score','votes','budget','runtime']].corr(method = 'pearson')\n",
    "\n",
    "plt.figure(figsize = (18,3))\n",
    "\n",
    "sns.heatmap(pearson_cor,\n",
    "            vmin = -1,\n",
    "            vmax = 1,\n",
    "            cmap = \"GnBu\",\n",
    "            annot = True)\n",
    "plt.show()"
   ]
  },
  {
   "cell_type": "markdown",
   "id": "5f8aeb44",
   "metadata": {},
   "source": [
    ">## 2. ANOVA Correlation"
   ]
  },
  {
   "cell_type": "code",
   "execution_count": null,
   "id": "1c91a38c",
   "metadata": {},
   "outputs": [],
   "source": [
    "cat_list = ['name', 'rating', 'genre','director', 'writer', 'star', 'country', 'company', 'Years']\n",
    "\n",
    "import statsmodels.api as sm\n",
    "from statsmodels.formula.api import ols\n",
    "\n",
    "for i in cat_list:\n",
    "    formula = 'gross ~ {}'.format(i)\n",
    "    model = ols(formula, data=df).fit()\n",
    "    anova = sm.stats.anova_lm(model, typ=2)\n",
    "    p_value = anova.iloc[0,3]\n",
    "\n",
    "    print('P-value for gross ~ {}: {}'.format(i , p_value))"
   ]
  },
  {
   "cell_type": "code",
   "execution_count": 36,
   "id": "77086951",
   "metadata": {},
   "outputs": [],
   "source": [
    "def mean_pairwise(cat_var):\n",
    "    mean_by = df.groupby(cat_var)['gross'].mean()\n",
    "    mean_by = pd.DataFrame(mean_by)\n",
    "    mean_by = mean_by.sort_values(by=['gross'], inplace=False, ascending=False)\n",
    "    \n",
    "    return mean_by.head(5)"
   ]
  },
  {
   "cell_type": "code",
   "execution_count": 37,
   "id": "a9b2fc37",
   "metadata": {},
   "outputs": [
    {
     "data": {
      "text/html": [
       "<div>\n",
       "<style scoped>\n",
       "    .dataframe tbody tr th:only-of-type {\n",
       "        vertical-align: middle;\n",
       "    }\n",
       "\n",
       "    .dataframe tbody tr th {\n",
       "        vertical-align: top;\n",
       "    }\n",
       "\n",
       "    .dataframe thead th {\n",
       "        text-align: right;\n",
       "    }\n",
       "</style>\n",
       "<table border=\"1\" class=\"dataframe\">\n",
       "  <thead>\n",
       "    <tr style=\"text-align: right;\">\n",
       "      <th></th>\n",
       "      <th>gross</th>\n",
       "    </tr>\n",
       "    <tr>\n",
       "      <th>rating</th>\n",
       "      <th></th>\n",
       "    </tr>\n",
       "  </thead>\n",
       "  <tbody>\n",
       "    <tr>\n",
       "      <th>G</th>\n",
       "      <td>1.420433e+08</td>\n",
       "    </tr>\n",
       "    <tr>\n",
       "      <th>PG-13</th>\n",
       "      <td>1.309839e+08</td>\n",
       "    </tr>\n",
       "    <tr>\n",
       "      <th>TV-PG</th>\n",
       "      <td>1.202498e+08</td>\n",
       "    </tr>\n",
       "    <tr>\n",
       "      <th>PG</th>\n",
       "      <td>1.066129e+08</td>\n",
       "    </tr>\n",
       "    <tr>\n",
       "      <th>TV-MA</th>\n",
       "      <td>7.917078e+07</td>\n",
       "    </tr>\n",
       "  </tbody>\n",
       "</table>\n",
       "</div>"
      ],
      "text/plain": [
       "               gross\n",
       "rating              \n",
       "G       1.420433e+08\n",
       "PG-13   1.309839e+08\n",
       "TV-PG   1.202498e+08\n",
       "PG      1.066129e+08\n",
       "TV-MA   7.917078e+07"
      ]
     },
     "execution_count": 37,
     "metadata": {},
     "output_type": "execute_result"
    }
   ],
   "source": [
    "mean_pairwise('rating')"
   ]
  },
  {
   "cell_type": "code",
   "execution_count": 38,
   "id": "8a82bee4",
   "metadata": {},
   "outputs": [
    {
     "data": {
      "text/html": [
       "<div>\n",
       "<style scoped>\n",
       "    .dataframe tbody tr th:only-of-type {\n",
       "        vertical-align: middle;\n",
       "    }\n",
       "\n",
       "    .dataframe tbody tr th {\n",
       "        vertical-align: top;\n",
       "    }\n",
       "\n",
       "    .dataframe thead th {\n",
       "        text-align: right;\n",
       "    }\n",
       "</style>\n",
       "<table border=\"1\" class=\"dataframe\">\n",
       "  <thead>\n",
       "    <tr style=\"text-align: right;\">\n",
       "      <th></th>\n",
       "      <th>gross</th>\n",
       "    </tr>\n",
       "    <tr>\n",
       "      <th>genre</th>\n",
       "      <th></th>\n",
       "    </tr>\n",
       "  </thead>\n",
       "  <tbody>\n",
       "    <tr>\n",
       "      <th>Animation</th>\n",
       "      <td>2.413567e+08</td>\n",
       "    </tr>\n",
       "    <tr>\n",
       "      <th>Family</th>\n",
       "      <td>2.157876e+08</td>\n",
       "    </tr>\n",
       "    <tr>\n",
       "      <th>Action</th>\n",
       "      <td>1.458350e+08</td>\n",
       "    </tr>\n",
       "    <tr>\n",
       "      <th>Adventure</th>\n",
       "      <td>1.095587e+08</td>\n",
       "    </tr>\n",
       "    <tr>\n",
       "      <th>Mystery</th>\n",
       "      <td>1.011835e+08</td>\n",
       "    </tr>\n",
       "  </tbody>\n",
       "</table>\n",
       "</div>"
      ],
      "text/plain": [
       "                  gross\n",
       "genre                  \n",
       "Animation  2.413567e+08\n",
       "Family     2.157876e+08\n",
       "Action     1.458350e+08\n",
       "Adventure  1.095587e+08\n",
       "Mystery    1.011835e+08"
      ]
     },
     "execution_count": 38,
     "metadata": {},
     "output_type": "execute_result"
    }
   ],
   "source": [
    "mean_pairwise('genre')"
   ]
  },
  {
   "cell_type": "code",
   "execution_count": 39,
   "id": "00affcbf",
   "metadata": {},
   "outputs": [
    {
     "data": {
      "text/html": [
       "<div>\n",
       "<style scoped>\n",
       "    .dataframe tbody tr th:only-of-type {\n",
       "        vertical-align: middle;\n",
       "    }\n",
       "\n",
       "    .dataframe tbody tr th {\n",
       "        vertical-align: top;\n",
       "    }\n",
       "\n",
       "    .dataframe thead th {\n",
       "        text-align: right;\n",
       "    }\n",
       "</style>\n",
       "<table border=\"1\" class=\"dataframe\">\n",
       "  <thead>\n",
       "    <tr style=\"text-align: right;\">\n",
       "      <th></th>\n",
       "      <th>gross</th>\n",
       "    </tr>\n",
       "    <tr>\n",
       "      <th>director</th>\n",
       "      <th></th>\n",
       "    </tr>\n",
       "  </thead>\n",
       "  <tbody>\n",
       "    <tr>\n",
       "      <th>Anthony Russo</th>\n",
       "      <td>1.368850e+09</td>\n",
       "    </tr>\n",
       "    <tr>\n",
       "      <th>Kyle Balda</th>\n",
       "      <td>1.097122e+09</td>\n",
       "    </tr>\n",
       "    <tr>\n",
       "      <th>Josh Cooley</th>\n",
       "      <td>1.073395e+09</td>\n",
       "    </tr>\n",
       "    <tr>\n",
       "      <th>Chris Buck</th>\n",
       "      <td>1.059909e+09</td>\n",
       "    </tr>\n",
       "    <tr>\n",
       "      <th>Lee Unkrich</th>\n",
       "      <td>9.373943e+08</td>\n",
       "    </tr>\n",
       "  </tbody>\n",
       "</table>\n",
       "</div>"
      ],
      "text/plain": [
       "                      gross\n",
       "director                   \n",
       "Anthony Russo  1.368850e+09\n",
       "Kyle Balda     1.097122e+09\n",
       "Josh Cooley    1.073395e+09\n",
       "Chris Buck     1.059909e+09\n",
       "Lee Unkrich    9.373943e+08"
      ]
     },
     "execution_count": 39,
     "metadata": {},
     "output_type": "execute_result"
    }
   ],
   "source": [
    "mean_pairwise('director')"
   ]
  },
  {
   "cell_type": "code",
   "execution_count": 40,
   "id": "68c185c2",
   "metadata": {},
   "outputs": [
    {
     "data": {
      "text/html": [
       "<div>\n",
       "<style scoped>\n",
       "    .dataframe tbody tr th:only-of-type {\n",
       "        vertical-align: middle;\n",
       "    }\n",
       "\n",
       "    .dataframe tbody tr th {\n",
       "        vertical-align: top;\n",
       "    }\n",
       "\n",
       "    .dataframe thead th {\n",
       "        text-align: right;\n",
       "    }\n",
       "</style>\n",
       "<table border=\"1\" class=\"dataframe\">\n",
       "  <thead>\n",
       "    <tr style=\"text-align: right;\">\n",
       "      <th></th>\n",
       "      <th>gross</th>\n",
       "    </tr>\n",
       "    <tr>\n",
       "      <th>writer</th>\n",
       "      <th></th>\n",
       "    </tr>\n",
       "  </thead>\n",
       "  <tbody>\n",
       "    <tr>\n",
       "      <th>Christopher Markus</th>\n",
       "      <td>1.083883e+09</td>\n",
       "    </tr>\n",
       "    <tr>\n",
       "      <th>Irene Mecchi</th>\n",
       "      <td>1.083721e+09</td>\n",
       "    </tr>\n",
       "    <tr>\n",
       "      <th>Rick Jaffa</th>\n",
       "      <td>1.076159e+09</td>\n",
       "    </tr>\n",
       "    <tr>\n",
       "      <th>Byron Howard</th>\n",
       "      <td>1.024121e+09</td>\n",
       "    </tr>\n",
       "    <tr>\n",
       "      <th>J.R.R. Tolkien</th>\n",
       "      <td>9.970720e+08</td>\n",
       "    </tr>\n",
       "  </tbody>\n",
       "</table>\n",
       "</div>"
      ],
      "text/plain": [
       "                           gross\n",
       "writer                          \n",
       "Christopher Markus  1.083883e+09\n",
       "Irene Mecchi        1.083721e+09\n",
       "Rick Jaffa          1.076159e+09\n",
       "Byron Howard        1.024121e+09\n",
       "J.R.R. Tolkien      9.970720e+08"
      ]
     },
     "execution_count": 40,
     "metadata": {},
     "output_type": "execute_result"
    }
   ],
   "source": [
    "mean_pairwise('writer')"
   ]
  },
  {
   "cell_type": "code",
   "execution_count": 41,
   "id": "173f75d5",
   "metadata": {},
   "outputs": [
    {
     "data": {
      "text/html": [
       "<div>\n",
       "<style scoped>\n",
       "    .dataframe tbody tr th:only-of-type {\n",
       "        vertical-align: middle;\n",
       "    }\n",
       "\n",
       "    .dataframe tbody tr th {\n",
       "        vertical-align: top;\n",
       "    }\n",
       "\n",
       "    .dataframe thead th {\n",
       "        text-align: right;\n",
       "    }\n",
       "</style>\n",
       "<table border=\"1\" class=\"dataframe\">\n",
       "  <thead>\n",
       "    <tr style=\"text-align: right;\">\n",
       "      <th></th>\n",
       "      <th>gross</th>\n",
       "    </tr>\n",
       "    <tr>\n",
       "      <th>star</th>\n",
       "      <th></th>\n",
       "    </tr>\n",
       "  </thead>\n",
       "  <tbody>\n",
       "    <tr>\n",
       "      <th>Donald Glover</th>\n",
       "      <td>1.670728e+09</td>\n",
       "    </tr>\n",
       "    <tr>\n",
       "      <th>Daisy Ridley</th>\n",
       "      <td>1.120174e+09</td>\n",
       "    </tr>\n",
       "    <tr>\n",
       "      <th>Neel Sethi</th>\n",
       "      <td>9.665549e+08</td>\n",
       "    </tr>\n",
       "    <tr>\n",
       "      <th>Craig T. Nelson</th>\n",
       "      <td>9.381233e+08</td>\n",
       "    </tr>\n",
       "    <tr>\n",
       "      <th>Chris Pratt</th>\n",
       "      <td>8.797427e+08</td>\n",
       "    </tr>\n",
       "  </tbody>\n",
       "</table>\n",
       "</div>"
      ],
      "text/plain": [
       "                        gross\n",
       "star                         \n",
       "Donald Glover    1.670728e+09\n",
       "Daisy Ridley     1.120174e+09\n",
       "Neel Sethi       9.665549e+08\n",
       "Craig T. Nelson  9.381233e+08\n",
       "Chris Pratt      8.797427e+08"
      ]
     },
     "execution_count": 41,
     "metadata": {},
     "output_type": "execute_result"
    }
   ],
   "source": [
    "mean_pairwise('star')"
   ]
  },
  {
   "cell_type": "code",
   "execution_count": 42,
   "id": "4337b715",
   "metadata": {},
   "outputs": [
    {
     "data": {
      "text/html": [
       "<div>\n",
       "<style scoped>\n",
       "    .dataframe tbody tr th:only-of-type {\n",
       "        vertical-align: middle;\n",
       "    }\n",
       "\n",
       "    .dataframe tbody tr th {\n",
       "        vertical-align: top;\n",
       "    }\n",
       "\n",
       "    .dataframe thead th {\n",
       "        text-align: right;\n",
       "    }\n",
       "</style>\n",
       "<table border=\"1\" class=\"dataframe\">\n",
       "  <thead>\n",
       "    <tr style=\"text-align: right;\">\n",
       "      <th></th>\n",
       "      <th>gross</th>\n",
       "    </tr>\n",
       "    <tr>\n",
       "      <th>country</th>\n",
       "      <th></th>\n",
       "    </tr>\n",
       "  </thead>\n",
       "  <tbody>\n",
       "    <tr>\n",
       "      <th>Malta</th>\n",
       "      <td>3.527941e+08</td>\n",
       "    </tr>\n",
       "    <tr>\n",
       "      <th>New Zealand</th>\n",
       "      <td>2.647805e+08</td>\n",
       "    </tr>\n",
       "    <tr>\n",
       "      <th>China</th>\n",
       "      <td>2.177334e+08</td>\n",
       "    </tr>\n",
       "    <tr>\n",
       "      <th>Finland</th>\n",
       "      <td>1.691938e+08</td>\n",
       "    </tr>\n",
       "    <tr>\n",
       "      <th>United States</th>\n",
       "      <td>9.020570e+07</td>\n",
       "    </tr>\n",
       "  </tbody>\n",
       "</table>\n",
       "</div>"
      ],
      "text/plain": [
       "                      gross\n",
       "country                    \n",
       "Malta          3.527941e+08\n",
       "New Zealand    2.647805e+08\n",
       "China          2.177334e+08\n",
       "Finland        1.691938e+08\n",
       "United States  9.020570e+07"
      ]
     },
     "execution_count": 42,
     "metadata": {},
     "output_type": "execute_result"
    }
   ],
   "source": [
    "mean_pairwise('country')"
   ]
  },
  {
   "cell_type": "code",
   "execution_count": 52,
   "id": "ab7bbcd3",
   "metadata": {},
   "outputs": [
    {
     "data": {
      "text/html": [
       "<div>\n",
       "<style scoped>\n",
       "    .dataframe tbody tr th:only-of-type {\n",
       "        vertical-align: middle;\n",
       "    }\n",
       "\n",
       "    .dataframe tbody tr th {\n",
       "        vertical-align: top;\n",
       "    }\n",
       "\n",
       "    .dataframe thead th {\n",
       "        text-align: right;\n",
       "    }\n",
       "</style>\n",
       "<table border=\"1\" class=\"dataframe\">\n",
       "  <thead>\n",
       "    <tr style=\"text-align: right;\">\n",
       "      <th></th>\n",
       "      <th>gross</th>\n",
       "    </tr>\n",
       "    <tr>\n",
       "      <th>company</th>\n",
       "      <th></th>\n",
       "    </tr>\n",
       "  </thead>\n",
       "  <tbody>\n",
       "    <tr>\n",
       "      <th>Marvel Studios</th>\n",
       "      <td>1.255466e+09</td>\n",
       "    </tr>\n",
       "    <tr>\n",
       "      <th>Illumination Entertainment</th>\n",
       "      <td>1.097122e+09</td>\n",
       "    </tr>\n",
       "    <tr>\n",
       "      <th>Fairview Entertainment</th>\n",
       "      <td>9.665549e+08</td>\n",
       "    </tr>\n",
       "    <tr>\n",
       "      <th>B24</th>\n",
       "      <td>8.806815e+08</td>\n",
       "    </tr>\n",
       "    <tr>\n",
       "      <th>Avi Arad Productions</th>\n",
       "      <td>8.560852e+08</td>\n",
       "    </tr>\n",
       "  </tbody>\n",
       "</table>\n",
       "</div>"
      ],
      "text/plain": [
       "                                   gross\n",
       "company                                 \n",
       "Marvel Studios              1.255466e+09\n",
       "Illumination Entertainment  1.097122e+09\n",
       "Fairview Entertainment      9.665549e+08\n",
       "B24                         8.806815e+08\n",
       "Avi Arad Productions        8.560852e+08"
      ]
     },
     "execution_count": 52,
     "metadata": {},
     "output_type": "execute_result"
    }
   ],
   "source": [
    "mean_pairwise('company')"
   ]
  },
  {
   "cell_type": "code",
   "execution_count": 53,
   "id": "4dd24f9d",
   "metadata": {},
   "outputs": [
    {
     "data": {
      "text/html": [
       "<div>\n",
       "<style scoped>\n",
       "    .dataframe tbody tr th:only-of-type {\n",
       "        vertical-align: middle;\n",
       "    }\n",
       "\n",
       "    .dataframe tbody tr th {\n",
       "        vertical-align: top;\n",
       "    }\n",
       "\n",
       "    .dataframe thead th {\n",
       "        text-align: right;\n",
       "    }\n",
       "</style>\n",
       "<table border=\"1\" class=\"dataframe\">\n",
       "  <thead>\n",
       "    <tr style=\"text-align: right;\">\n",
       "      <th></th>\n",
       "      <th>gross</th>\n",
       "    </tr>\n",
       "    <tr>\n",
       "      <th>Years</th>\n",
       "      <th></th>\n",
       "    </tr>\n",
       "  </thead>\n",
       "  <tbody>\n",
       "    <tr>\n",
       "      <th>2020</th>\n",
       "      <td>1.668662e+08</td>\n",
       "    </tr>\n",
       "    <tr>\n",
       "      <th>2017</th>\n",
       "      <td>1.475836e+08</td>\n",
       "    </tr>\n",
       "    <tr>\n",
       "      <th>2016</th>\n",
       "      <td>1.410022e+08</td>\n",
       "    </tr>\n",
       "    <tr>\n",
       "      <th>2018</th>\n",
       "      <td>1.407065e+08</td>\n",
       "    </tr>\n",
       "    <tr>\n",
       "      <th>2019</th>\n",
       "      <td>1.402180e+08</td>\n",
       "    </tr>\n",
       "  </tbody>\n",
       "</table>\n",
       "</div>"
      ],
      "text/plain": [
       "              gross\n",
       "Years              \n",
       "2020   1.668662e+08\n",
       "2017   1.475836e+08\n",
       "2016   1.410022e+08\n",
       "2018   1.407065e+08\n",
       "2019   1.402180e+08"
      ]
     },
     "execution_count": 53,
     "metadata": {},
     "output_type": "execute_result"
    }
   ],
   "source": [
    "mean_pairwise('Years')"
   ]
  }
 ],
 "metadata": {
  "kernelspec": {
   "display_name": "Python 3 (ipykernel)",
   "language": "python",
   "name": "python3"
  },
  "language_info": {
   "codemirror_mode": {
    "name": "ipython",
    "version": 3
   },
   "file_extension": ".py",
   "mimetype": "text/x-python",
   "name": "python",
   "nbconvert_exporter": "python",
   "pygments_lexer": "ipython3",
   "version": "3.9.13"
  }
 },
 "nbformat": 4,
 "nbformat_minor": 5
}
