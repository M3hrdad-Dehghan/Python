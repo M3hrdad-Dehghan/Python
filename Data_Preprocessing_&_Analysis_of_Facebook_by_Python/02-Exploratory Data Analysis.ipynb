{
 "cells": [
  {
   "cell_type": "code",
   "execution_count": 5,
   "id": "3d9811c9",
   "metadata": {
    "executionInfo": {
     "elapsed": 3539,
     "status": "ok",
     "timestamp": 1682901718718,
     "user": {
      "displayName": "Mehrdad M. Dehghan",
      "userId": "08222177611817016206"
     },
     "user_tz": 240
    },
    "id": "3d9811c9"
   },
   "outputs": [],
   "source": [
    "import pandas as pd\n",
    "import numpy as np\n",
    "import pickle\n",
    "\n",
    "import seaborn as sns\n",
    "\n",
    "import matplotlib.pyplot as plt\n",
    "import matplotlib.mlab as mlab\n",
    "import matplotlib\n",
    "plt.style.use('ggplot')\n",
    "from matplotlib.pyplot import figure\n",
    "\n",
    "%matplotlib inline"
   ]
  },
  {
   "cell_type": "code",
   "execution_count": 3,
   "id": "25fa9d62",
   "metadata": {
    "colab": {
     "base_uri": "https://localhost:8080/",
     "height": 112
    },
    "executionInfo": {
     "elapsed": 290,
     "status": "ok",
     "timestamp": 1682901721302,
     "user": {
      "displayName": "Mehrdad M. Dehghan",
      "userId": "08222177611817016206"
     },
     "user_tz": 240
    },
    "id": "25fa9d62",
    "outputId": "1b8e34dc-4c4f-4e2b-d5db-b4a7ba99ed5b"
   },
   "outputs": [
    {
     "data": {
      "text/html": [
       "<div>\n",
       "<style scoped>\n",
       "    .dataframe tbody tr th:only-of-type {\n",
       "        vertical-align: middle;\n",
       "    }\n",
       "\n",
       "    .dataframe tbody tr th {\n",
       "        vertical-align: top;\n",
       "    }\n",
       "\n",
       "    .dataframe thead th {\n",
       "        text-align: right;\n",
       "    }\n",
       "</style>\n",
       "<table border=\"1\" class=\"dataframe\">\n",
       "  <thead>\n",
       "    <tr style=\"text-align: right;\">\n",
       "      <th></th>\n",
       "      <th>userid</th>\n",
       "      <th>age</th>\n",
       "      <th>gender</th>\n",
       "      <th>tenure</th>\n",
       "      <th>friends</th>\n",
       "      <th>request</th>\n",
       "      <th>g_likes</th>\n",
       "      <th>r_likes</th>\n",
       "    </tr>\n",
       "  </thead>\n",
       "  <tbody>\n",
       "    <tr>\n",
       "      <th>0</th>\n",
       "      <td>2094382</td>\n",
       "      <td>14</td>\n",
       "      <td>male</td>\n",
       "      <td>266.0</td>\n",
       "      <td>0</td>\n",
       "      <td>0</td>\n",
       "      <td>0</td>\n",
       "      <td>0</td>\n",
       "    </tr>\n",
       "    <tr>\n",
       "      <th>1</th>\n",
       "      <td>1192601</td>\n",
       "      <td>14</td>\n",
       "      <td>female</td>\n",
       "      <td>6.0</td>\n",
       "      <td>0</td>\n",
       "      <td>0</td>\n",
       "      <td>0</td>\n",
       "      <td>0</td>\n",
       "    </tr>\n",
       "  </tbody>\n",
       "</table>\n",
       "</div>"
      ],
      "text/plain": [
       "    userid  age  gender  tenure  friends  request  g_likes  r_likes\n",
       "0  2094382   14    male   266.0        0        0        0        0\n",
       "1  1192601   14  female     6.0        0        0        0        0"
      ]
     },
     "execution_count": 8,
     "metadata": {},
     "output_type": "execute_result"
    }
   ],
   "source": [
    "with open('dataset/df_preprocessed.pickle', 'rb') as file:\n",
    "    df = pickle.load(file)\n",
    "\n",
    "df.head(2)"
   ]
  },
  {
   "cell_type": "markdown",
   "id": "beff313e",
   "metadata": {
    "id": "beff313e"
   },
   "source": [
    "<hr>"
   ]
  },
  {
   "cell_type": "markdown",
   "id": "0afdb29f",
   "metadata": {
    "id": "0afdb29f"
   },
   "source": [
    "## 2. Run PandasProfilling package"
   ]
  },
  {
   "cell_type": "markdown",
   "id": "a39cd610",
   "metadata": {
    "id": "a39cd610"
   },
   "source": [
    "Then I activated the PandasProfilling library and prepared the environment for statistical analysis.  This library gives us all important information about descriptive statistics analysis."
   ]
  },
  {
   "cell_type": "code",
   "execution_count": 11,
   "id": "49e7f4d0-84e7-4926-95ed-96d05e110712",
   "metadata": {},
   "outputs": [],
   "source": [
    "from pandas_profiling import ProfileReport"
   ]
  },
  {
   "cell_type": "code",
   "execution_count": 13,
   "id": "d7a7d707",
   "metadata": {
    "colab": {
     "base_uri": "https://localhost:8080/",
     "height": 281
    },
    "executionInfo": {
     "elapsed": 3566,
     "status": "error",
     "timestamp": 1682901391269,
     "user": {
      "displayName": "Mehrdad M. Dehghan",
      "userId": "08222177611817016206"
     },
     "user_tz": 240
    },
    "id": "d7a7d707",
    "outputId": "bdcaee1e-77b5-461b-ed14-facf7e7eb1a0"
   },
   "outputs": [
    {
     "data": {
      "application/vnd.jupyter.widget-view+json": {
       "model_id": "3e855ee40f1a42e3bb6a0e2168985153",
       "version_major": 2,
       "version_minor": 0
      },
      "text/plain": [
       "Summarize dataset:   0%|          | 0/5 [00:00<?, ?it/s]"
      ]
     },
     "metadata": {},
     "output_type": "display_data"
    },
    {
     "data": {
      "application/vnd.jupyter.widget-view+json": {
       "model_id": "98f354c9585f4eae896356e5b5c9539c",
       "version_major": 2,
       "version_minor": 0
      },
      "text/plain": [
       "Generate report structure:   0%|          | 0/1 [00:00<?, ?it/s]"
      ]
     },
     "metadata": {},
     "output_type": "display_data"
    },
    {
     "data": {
      "application/vnd.jupyter.widget-view+json": {
       "model_id": "0958f2c4911647f1ae9c5d5035b17de1",
       "version_major": 2,
       "version_minor": 0
      },
      "text/plain": [
       "Render HTML:   0%|          | 0/1 [00:00<?, ?it/s]"
      ]
     },
     "metadata": {},
     "output_type": "display_data"
    },
    {
     "data": {
      "application/vnd.jupyter.widget-view+json": {
       "model_id": "c6bdc2dcaba345a383f55530427a06f0",
       "version_major": 2,
       "version_minor": 0
      },
      "text/plain": [
       "Export report to file:   0%|          | 0/1 [00:00<?, ?it/s]"
      ]
     },
     "metadata": {},
     "output_type": "display_data"
    }
   ],
   "source": [
    "profile = ProfileReport(df, minimal=True)\n",
    "profile.to_file('Statistical Analysis.html')"
   ]
  },
  {
   "cell_type": "markdown",
   "id": "ea4ad452",
   "metadata": {
    "id": "ea4ad452"
   },
   "source": [
    "<hr>"
   ]
  },
  {
   "cell_type": "markdown",
   "id": "f55c5d65",
   "metadata": {
    "id": "f55c5d65"
   },
   "source": [
    "## 3. Qualitative Variables"
   ]
  },
  {
   "cell_type": "markdown",
   "id": "b5d606d5",
   "metadata": {
    "id": "b5d606d5"
   },
   "source": [
    "Here we analyze qualitative variables, and we see each label in every single variable account for the highest frequency. Then, we can see the statistical interpretation for categorical variables:\n",
    "<br><br>\n",
    "Please read the report file."
   ]
  },
  {
   "cell_type": "markdown",
   "id": "8f1219b5",
   "metadata": {
    "id": "8f1219b5"
   },
   "source": [
    "<hr>"
   ]
  },
  {
   "cell_type": "markdown",
   "id": "3d389ea4",
   "metadata": {
    "id": "3d389ea4"
   },
   "source": [
    "## 4. Quantitative Variables"
   ]
  },
  {
   "cell_type": "markdown",
   "id": "e41a9927",
   "metadata": {
    "id": "e41a9927"
   },
   "source": [
    "Now, let’s analyze descriptive statics for quantitative variables. In this section we can find central tendency, dispersion, and shape measurements. Then we draw the distribution plot to compare with normal distribution. "
   ]
  },
  {
   "cell_type": "code",
   "execution_count": 14,
   "id": "4cbfb023",
   "metadata": {
    "executionInfo": {
     "elapsed": 199,
     "status": "ok",
     "timestamp": 1682902090456,
     "user": {
      "displayName": "Mehrdad M. Dehghan",
      "userId": "08222177611817016206"
     },
     "user_tz": 240
    },
    "id": "4cbfb023"
   },
   "outputs": [],
   "source": [
    "def kde_plot(x):\n",
    "    import seaborn as sns\n",
    "    import matplotlib.pyplot as plt\n",
    "    \n",
    "    plt.figure(figsize = (8,3))\n",
    "    sns.distplot(df[x], kde_kws={\"lw\": 5}, hist_kws = {'alpha': 0.25})\n",
    "    sns.despine(left = True)\n",
    "    \n",
    "    mean = df[x].mean()\n",
    "    median = df[x].median()\n",
    "    \n",
    "    plt.axvline(mean, color ='black', linestyle ='dashed')\n",
    "    plt.axvline(median, color ='green', linestyle ='solid')\n",
    "    plt.xlabel('')\n",
    "    plt.ylabel('')\n",
    "    \n",
    "    return plt.show()"
   ]
  },
  {
   "cell_type": "markdown",
   "id": "0bac2ef1",
   "metadata": {
    "id": "0bac2ef1"
   },
   "source": [
    "Now we can see the statistical interpretation for quantitative variables:"
   ]
  },
  {
   "cell_type": "code",
   "execution_count": 15,
   "id": "f777c215",
   "metadata": {
    "colab": {
     "base_uri": "https://localhost:8080/",
     "height": 490
    },
    "executionInfo": {
     "elapsed": 1558,
     "status": "ok",
     "timestamp": 1682901460767,
     "user": {
      "displayName": "Mehrdad M. Dehghan",
      "userId": "08222177611817016206"
     },
     "user_tz": 240
    },
    "id": "f777c215",
    "outputId": "f963530b-33ac-4431-a7d0-393fde1fcef7"
   },
   "outputs": [
    {
     "name": "stderr",
     "output_type": "stream",
     "text": [
      "C:\\Users\\Mehrdad\\AppData\\Local\\Temp\\ipykernel_27028\\1803219001.py:6: UserWarning: \n",
      "\n",
      "`distplot` is a deprecated function and will be removed in seaborn v0.14.0.\n",
      "\n",
      "Please adapt your code to use either `displot` (a figure-level function with\n",
      "similar flexibility) or `histplot` (an axes-level function for histograms).\n",
      "\n",
      "For a guide to updating your code to use the new functions, please see\n",
      "https://gist.github.com/mwaskom/de44147ed2974457ad6372750bbe5751\n",
      "\n",
      "  sns.distplot(df[x], kde_kws={\"lw\": 5}, hist_kws = {'alpha': 0.25})\n"
     ]
    },
    {
     "data": {
      "image/png": "[encoded data removed]",
      "text/plain": [
       "<Figure size 800x300 with 1 Axes>"
      ]
     },
     "metadata": {},
     "output_type": "display_data"
    }
   ],
   "source": [
    "kde_plot('age')"
   ]
  },
  {
   "cell_type": "code",
   "execution_count": 16,
   "id": "b824de13",
   "metadata": {
    "colab": {
     "base_uri": "https://localhost:8080/",
     "height": 490
    },
    "executionInfo": {
     "elapsed": 2850,
     "status": "ok",
     "timestamp": 1682901477818,
     "user": {
      "displayName": "Mehrdad M. Dehghan",
      "userId": "08222177611817016206"
     },
     "user_tz": 240
    },
    "id": "b824de13",
    "outputId": "a0f193de-9b91-459c-fc01-5bfc509c9684"
   },
   "outputs": [
    {
     "name": "stderr",
     "output_type": "stream",
     "text": [
      "C:\\Users\\Mehrdad\\AppData\\Local\\Temp\\ipykernel_27028\\1803219001.py:6: UserWarning: \n",
      "\n",
      "`distplot` is a deprecated function and will be removed in seaborn v0.14.0.\n",
      "\n",
      "Please adapt your code to use either `displot` (a figure-level function with\n",
      "similar flexibility) or `histplot` (an axes-level function for histograms).\n",
      "\n",
      "For a guide to updating your code to use the new functions, please see\n",
      "https://gist.github.com/mwaskom/de44147ed2974457ad6372750bbe5751\n",
      "\n",
      "  sns.distplot(df[x], kde_kws={\"lw\": 5}, hist_kws = {'alpha': 0.25})\n"
     ]
    },
    {
     "data": {
      "image/png": "[encoded data removed]",
      "text/plain": [
       "<Figure size 800x300 with 1 Axes>"
      ]
     },
     "metadata": {},
     "output_type": "display_data"
    }
   ],
   "source": [
    "kde_plot('tenure')"
   ]
  },
  {
   "cell_type": "code",
   "execution_count": 17,
   "id": "2154da83",
   "metadata": {
    "colab": {
     "base_uri": "https://localhost:8080/",
     "height": 490
    },
    "executionInfo": {
     "elapsed": 1534,
     "status": "ok",
     "timestamp": 1682901483079,
     "user": {
      "displayName": "Mehrdad M. Dehghan",
      "userId": "08222177611817016206"
     },
     "user_tz": 240
    },
    "id": "2154da83",
    "outputId": "ee0902ca-2dd9-4757-aa90-0249c8529f63"
   },
   "outputs": [
    {
     "name": "stderr",
     "output_type": "stream",
     "text": [
      "C:\\Users\\Mehrdad\\AppData\\Local\\Temp\\ipykernel_27028\\1803219001.py:6: UserWarning: \n",
      "\n",
      "`distplot` is a deprecated function and will be removed in seaborn v0.14.0.\n",
      "\n",
      "Please adapt your code to use either `displot` (a figure-level function with\n",
      "similar flexibility) or `histplot` (an axes-level function for histograms).\n",
      "\n",
      "For a guide to updating your code to use the new functions, please see\n",
      "https://gist.github.com/mwaskom/de44147ed2974457ad6372750bbe5751\n",
      "\n",
      "  sns.distplot(df[x], kde_kws={\"lw\": 5}, hist_kws = {'alpha': 0.25})\n"
     ]
    },
    {
     "data": {
      "image/png": "[encoded data removed]",
      "text/plain": [
       "<Figure size 800x300 with 1 Axes>"
      ]
     },
     "metadata": {},
     "output_type": "display_data"
    }
   ],
   "source": [
    "kde_plot('friends')"
   ]
  },
  {
   "cell_type": "code",
   "execution_count": 18,
   "id": "7425da1a",
   "metadata": {
    "colab": {
     "base_uri": "https://localhost:8080/",
     "height": 490
    },
    "executionInfo": {
     "elapsed": 970,
     "status": "ok",
     "timestamp": 1682901488981,
     "user": {
      "displayName": "Mehrdad M. Dehghan",
      "userId": "08222177611817016206"
     },
     "user_tz": 240
    },
    "id": "7425da1a",
    "outputId": "e8e0e0ae-66e1-4b2e-dfbd-8c13cb469b21"
   },
   "outputs": [
    {
     "name": "stderr",
     "output_type": "stream",
     "text": [
      "C:\\Users\\Mehrdad\\AppData\\Local\\Temp\\ipykernel_27028\\1803219001.py:6: UserWarning: \n",
      "\n",
      "`distplot` is a deprecated function and will be removed in seaborn v0.14.0.\n",
      "\n",
      "Please adapt your code to use either `displot` (a figure-level function with\n",
      "similar flexibility) or `histplot` (an axes-level function for histograms).\n",
      "\n",
      "For a guide to updating your code to use the new functions, please see\n",
      "https://gist.github.com/mwaskom/de44147ed2974457ad6372750bbe5751\n",
      "\n",
      "  sns.distplot(df[x], kde_kws={\"lw\": 5}, hist_kws = {'alpha': 0.25})\n"
     ]
    },
    {
     "data": {
      "image/png": "[encoded data removed]",
      "text/plain": [
       "<Figure size 800x300 with 1 Axes>"
      ]
     },
     "metadata": {},
     "output_type": "display_data"
    }
   ],
   "source": [
    "kde_plot('request')"
   ]
  },
  {
   "cell_type": "code",
   "execution_count": 19,
   "id": "3344c831",
   "metadata": {
    "colab": {
     "base_uri": "https://localhost:8080/",
     "height": 490
    },
    "executionInfo": {
     "elapsed": 1199,
     "status": "ok",
     "timestamp": 1682901505758,
     "user": {
      "displayName": "Mehrdad M. Dehghan",
      "userId": "08222177611817016206"
     },
     "user_tz": 240
    },
    "id": "3344c831",
    "outputId": "98275f30-4b0b-44ec-f6d6-8605c5c62f56"
   },
   "outputs": [
    {
     "name": "stderr",
     "output_type": "stream",
     "text": [
      "C:\\Users\\Mehrdad\\AppData\\Local\\Temp\\ipykernel_27028\\1803219001.py:6: UserWarning: \n",
      "\n",
      "`distplot` is a deprecated function and will be removed in seaborn v0.14.0.\n",
      "\n",
      "Please adapt your code to use either `displot` (a figure-level function with\n",
      "similar flexibility) or `histplot` (an axes-level function for histograms).\n",
      "\n",
      "For a guide to updating your code to use the new functions, please see\n",
      "https://gist.github.com/mwaskom/de44147ed2974457ad6372750bbe5751\n",
      "\n",
      "  sns.distplot(df[x], kde_kws={\"lw\": 5}, hist_kws = {'alpha': 0.25})\n"
     ]
    },
    {
     "data": {
      "image/png": "[encoded data removed]",
      "text/plain": [
       "<Figure size 800x300 with 1 Axes>"
      ]
     },
     "metadata": {},
     "output_type": "display_data"
    }
   ],
   "source": [
    "kde_plot('g_likes')"
   ]
  },
  {
   "cell_type": "code",
   "execution_count": 20,
   "id": "ba934cd5",
   "metadata": {
    "colab": {
     "base_uri": "https://localhost:8080/",
     "height": 495
    },
    "executionInfo": {
     "elapsed": 836,
     "status": "ok",
     "timestamp": 1682901509917,
     "user": {
      "displayName": "Mehrdad M. Dehghan",
      "userId": "08222177611817016206"
     },
     "user_tz": 240
    },
    "id": "ba934cd5",
    "outputId": "09febf71-8c0e-4027-a0e3-0d8da1e3e01a"
   },
   "outputs": [
    {
     "name": "stderr",
     "output_type": "stream",
     "text": [
      "C:\\Users\\Mehrdad\\AppData\\Local\\Temp\\ipykernel_27028\\1803219001.py:6: UserWarning: \n",
      "\n",
      "`distplot` is a deprecated function and will be removed in seaborn v0.14.0.\n",
      "\n",
      "Please adapt your code to use either `displot` (a figure-level function with\n",
      "similar flexibility) or `histplot` (an axes-level function for histograms).\n",
      "\n",
      "For a guide to updating your code to use the new functions, please see\n",
      "https://gist.github.com/mwaskom/de44147ed2974457ad6372750bbe5751\n",
      "\n",
      "  sns.distplot(df[x], kde_kws={\"lw\": 5}, hist_kws = {'alpha': 0.25})\n"
     ]
    },
    {
     "data": {
      "image/png": "[encoded data removed]",
      "text/plain": [
       "<Figure size 800x300 with 1 Axes>"
      ]
     },
     "metadata": {},
     "output_type": "display_data"
    }
   ],
   "source": [
    "kde_plot('r_likes')"
   ]
  },
  {
   "cell_type": "markdown",
   "id": "9093542c",
   "metadata": {
    "id": "9093542c"
   },
   "source": [
    "<hr>"
   ]
  },
  {
   "cell_type": "markdown",
   "id": "999e0b06",
   "metadata": {
    "id": "999e0b06"
   },
   "source": [
    "## 5. Maximum & Minimum Values"
   ]
  },
  {
   "cell_type": "markdown",
   "id": "55498f83",
   "metadata": {
    "id": "55498f83"
   },
   "source": [
    "We can also, see the minimum and maximum values for each quantitative variable:"
   ]
  },
  {
   "cell_type": "code",
   "execution_count": 21,
   "id": "c7ff00b7",
   "metadata": {
    "id": "c7ff00b7"
   },
   "outputs": [
    {
     "data": {
      "text/html": [
       "<div>\n",
       "<style scoped>\n",
       "    .dataframe tbody tr th:only-of-type {\n",
       "        vertical-align: middle;\n",
       "    }\n",
       "\n",
       "    .dataframe tbody tr th {\n",
       "        vertical-align: top;\n",
       "    }\n",
       "\n",
       "    .dataframe thead th {\n",
       "        text-align: right;\n",
       "    }\n",
       "</style>\n",
       "<table border=\"1\" class=\"dataframe\">\n",
       "  <thead>\n",
       "    <tr style=\"text-align: right;\">\n",
       "      <th></th>\n",
       "      <th>userid</th>\n",
       "      <th>age</th>\n",
       "      <th>gender</th>\n",
       "      <th>tenure</th>\n",
       "      <th>friends</th>\n",
       "      <th>request</th>\n",
       "      <th>g_likes</th>\n",
       "      <th>r_likes</th>\n",
       "    </tr>\n",
       "  </thead>\n",
       "  <tbody>\n",
       "    <tr>\n",
       "      <th>6</th>\n",
       "      <td>1136133</td>\n",
       "      <td>13</td>\n",
       "      <td>male</td>\n",
       "      <td>12.0</td>\n",
       "      <td>0</td>\n",
       "      <td>0</td>\n",
       "      <td>0</td>\n",
       "      <td>0</td>\n",
       "    </tr>\n",
       "  </tbody>\n",
       "</table>\n",
       "</div>"
      ],
      "text/plain": [
       "    userid  age gender  tenure  friends  request  g_likes  r_likes\n",
       "6  1136133   13   male    12.0        0        0        0        0"
      ]
     },
     "execution_count": 21,
     "metadata": {},
     "output_type": "execute_result"
    }
   ],
   "source": [
    "#minimum age\n",
    "df[df['age'] == df['age'].min()].head(1)"
   ]
  },
  {
   "cell_type": "code",
   "execution_count": 22,
   "id": "99bb2ead",
   "metadata": {
    "id": "99bb2ead"
   },
   "outputs": [
    {
     "data": {
      "text/html": [
       "<div>\n",
       "<style scoped>\n",
       "    .dataframe tbody tr th:only-of-type {\n",
       "        vertical-align: middle;\n",
       "    }\n",
       "\n",
       "    .dataframe tbody tr th {\n",
       "        vertical-align: top;\n",
       "    }\n",
       "\n",
       "    .dataframe thead th {\n",
       "        text-align: right;\n",
       "    }\n",
       "</style>\n",
       "<table border=\"1\" class=\"dataframe\">\n",
       "  <thead>\n",
       "    <tr style=\"text-align: right;\">\n",
       "      <th></th>\n",
       "      <th>userid</th>\n",
       "      <th>age</th>\n",
       "      <th>gender</th>\n",
       "      <th>tenure</th>\n",
       "      <th>friends</th>\n",
       "      <th>request</th>\n",
       "      <th>g_likes</th>\n",
       "      <th>r_likes</th>\n",
       "    </tr>\n",
       "  </thead>\n",
       "  <tbody>\n",
       "    <tr>\n",
       "      <th>11097</th>\n",
       "      <td>1536088</td>\n",
       "      <td>113</td>\n",
       "      <td>female</td>\n",
       "      <td>1133.0</td>\n",
       "      <td>11</td>\n",
       "      <td>10</td>\n",
       "      <td>0</td>\n",
       "      <td>0</td>\n",
       "    </tr>\n",
       "  </tbody>\n",
       "</table>\n",
       "</div>"
      ],
      "text/plain": [
       "        userid  age  gender  tenure  friends  request  g_likes  r_likes\n",
       "11097  1536088  113  female  1133.0       11       10        0        0"
      ]
     },
     "execution_count": 22,
     "metadata": {},
     "output_type": "execute_result"
    }
   ],
   "source": [
    "#maximum age\n",
    "df[df['age'] == df['age'].max()].head(1)"
   ]
  },
  {
   "cell_type": "markdown",
   "id": "52f83e33",
   "metadata": {
    "id": "52f83e33"
   },
   "source": [
    "<hr>"
   ]
  },
  {
   "cell_type": "code",
   "execution_count": 23,
   "id": "51792207",
   "metadata": {
    "id": "51792207"
   },
   "outputs": [
    {
     "data": {
      "text/html": [
       "<div>\n",
       "<style scoped>\n",
       "    .dataframe tbody tr th:only-of-type {\n",
       "        vertical-align: middle;\n",
       "    }\n",
       "\n",
       "    .dataframe tbody tr th {\n",
       "        vertical-align: top;\n",
       "    }\n",
       "\n",
       "    .dataframe thead th {\n",
       "        text-align: right;\n",
       "    }\n",
       "</style>\n",
       "<table border=\"1\" class=\"dataframe\">\n",
       "  <thead>\n",
       "    <tr style=\"text-align: right;\">\n",
       "      <th></th>\n",
       "      <th>userid</th>\n",
       "      <th>age</th>\n",
       "      <th>gender</th>\n",
       "      <th>tenure</th>\n",
       "      <th>friends</th>\n",
       "      <th>request</th>\n",
       "      <th>g_likes</th>\n",
       "      <th>r_likes</th>\n",
       "    </tr>\n",
       "  </thead>\n",
       "  <tbody>\n",
       "    <tr>\n",
       "      <th>7</th>\n",
       "      <td>1680361</td>\n",
       "      <td>13</td>\n",
       "      <td>female</td>\n",
       "      <td>0.0</td>\n",
       "      <td>0</td>\n",
       "      <td>0</td>\n",
       "      <td>0</td>\n",
       "      <td>0</td>\n",
       "    </tr>\n",
       "  </tbody>\n",
       "</table>\n",
       "</div>"
      ],
      "text/plain": [
       "    userid  age  gender  tenure  friends  request  g_likes  r_likes\n",
       "7  1680361   13  female     0.0        0        0        0        0"
      ]
     },
     "execution_count": 23,
     "metadata": {},
     "output_type": "execute_result"
    }
   ],
   "source": [
    "#minimum tenure\n",
    "df[df['tenure'] == df['tenure'].min()].head(1)"
   ]
  },
  {
   "cell_type": "code",
   "execution_count": 24,
   "id": "3f26285c",
   "metadata": {
    "id": "3f26285c"
   },
   "outputs": [
    {
     "data": {
      "text/html": [
       "<div>\n",
       "<style scoped>\n",
       "    .dataframe tbody tr th:only-of-type {\n",
       "        vertical-align: middle;\n",
       "    }\n",
       "\n",
       "    .dataframe tbody tr th {\n",
       "        vertical-align: top;\n",
       "    }\n",
       "\n",
       "    .dataframe thead th {\n",
       "        text-align: right;\n",
       "    }\n",
       "</style>\n",
       "<table border=\"1\" class=\"dataframe\">\n",
       "  <thead>\n",
       "    <tr style=\"text-align: right;\">\n",
       "      <th></th>\n",
       "      <th>userid</th>\n",
       "      <th>age</th>\n",
       "      <th>gender</th>\n",
       "      <th>tenure</th>\n",
       "      <th>friends</th>\n",
       "      <th>request</th>\n",
       "      <th>g_likes</th>\n",
       "      <th>r_likes</th>\n",
       "    </tr>\n",
       "  </thead>\n",
       "  <tbody>\n",
       "    <tr>\n",
       "      <th>86234</th>\n",
       "      <td>1419799</td>\n",
       "      <td>111</td>\n",
       "      <td>male</td>\n",
       "      <td>3139.0</td>\n",
       "      <td>372</td>\n",
       "      <td>40</td>\n",
       "      <td>11</td>\n",
       "      <td>21</td>\n",
       "    </tr>\n",
       "  </tbody>\n",
       "</table>\n",
       "</div>"
      ],
      "text/plain": [
       "        userid  age gender  tenure  friends  request  g_likes  r_likes\n",
       "86234  1419799  111   male  3139.0      372       40       11       21"
      ]
     },
     "execution_count": 24,
     "metadata": {},
     "output_type": "execute_result"
    }
   ],
   "source": [
    "#maximum tenure\n",
    "df[df['tenure'] == df['tenure'].max()].head(1)"
   ]
  },
  {
   "cell_type": "markdown",
   "id": "aa0d8704",
   "metadata": {
    "id": "aa0d8704"
   },
   "source": [
    "<hr>"
   ]
  },
  {
   "cell_type": "code",
   "execution_count": 25,
   "id": "66cba072",
   "metadata": {
    "id": "66cba072"
   },
   "outputs": [
    {
     "data": {
      "text/html": [
       "<div>\n",
       "<style scoped>\n",
       "    .dataframe tbody tr th:only-of-type {\n",
       "        vertical-align: middle;\n",
       "    }\n",
       "\n",
       "    .dataframe tbody tr th {\n",
       "        vertical-align: top;\n",
       "    }\n",
       "\n",
       "    .dataframe thead th {\n",
       "        text-align: right;\n",
       "    }\n",
       "</style>\n",
       "<table border=\"1\" class=\"dataframe\">\n",
       "  <thead>\n",
       "    <tr style=\"text-align: right;\">\n",
       "      <th></th>\n",
       "      <th>userid</th>\n",
       "      <th>age</th>\n",
       "      <th>gender</th>\n",
       "      <th>tenure</th>\n",
       "      <th>friends</th>\n",
       "      <th>request</th>\n",
       "      <th>g_likes</th>\n",
       "      <th>r_likes</th>\n",
       "    </tr>\n",
       "  </thead>\n",
       "  <tbody>\n",
       "    <tr>\n",
       "      <th>0</th>\n",
       "      <td>2094382</td>\n",
       "      <td>14</td>\n",
       "      <td>male</td>\n",
       "      <td>266.0</td>\n",
       "      <td>0</td>\n",
       "      <td>0</td>\n",
       "      <td>0</td>\n",
       "      <td>0</td>\n",
       "    </tr>\n",
       "  </tbody>\n",
       "</table>\n",
       "</div>"
      ],
      "text/plain": [
       "    userid  age gender  tenure  friends  request  g_likes  r_likes\n",
       "0  2094382   14   male   266.0        0        0        0        0"
      ]
     },
     "execution_count": 25,
     "metadata": {},
     "output_type": "execute_result"
    }
   ],
   "source": [
    "#minimum friends\n",
    "df[df['friends'] == df['friends'].min()].head(1)"
   ]
  },
  {
   "cell_type": "code",
   "execution_count": 26,
   "id": "1cc557d1",
   "metadata": {
    "id": "1cc557d1"
   },
   "outputs": [
    {
     "data": {
      "text/html": [
       "<div>\n",
       "<style scoped>\n",
       "    .dataframe tbody tr th:only-of-type {\n",
       "        vertical-align: middle;\n",
       "    }\n",
       "\n",
       "    .dataframe tbody tr th {\n",
       "        vertical-align: top;\n",
       "    }\n",
       "\n",
       "    .dataframe thead th {\n",
       "        text-align: right;\n",
       "    }\n",
       "</style>\n",
       "<table border=\"1\" class=\"dataframe\">\n",
       "  <thead>\n",
       "    <tr style=\"text-align: right;\">\n",
       "      <th></th>\n",
       "      <th>userid</th>\n",
       "      <th>age</th>\n",
       "      <th>gender</th>\n",
       "      <th>tenure</th>\n",
       "      <th>friends</th>\n",
       "      <th>request</th>\n",
       "      <th>g_likes</th>\n",
       "      <th>r_likes</th>\n",
       "    </tr>\n",
       "  </thead>\n",
       "  <tbody>\n",
       "    <tr>\n",
       "      <th>97985</th>\n",
       "      <td>2090699</td>\n",
       "      <td>103</td>\n",
       "      <td>female</td>\n",
       "      <td>783.0</td>\n",
       "      <td>4923</td>\n",
       "      <td>96</td>\n",
       "      <td>26</td>\n",
       "      <td>80</td>\n",
       "    </tr>\n",
       "  </tbody>\n",
       "</table>\n",
       "</div>"
      ],
      "text/plain": [
       "        userid  age  gender  tenure  friends  request  g_likes  r_likes\n",
       "97985  2090699  103  female   783.0     4923       96       26       80"
      ]
     },
     "execution_count": 26,
     "metadata": {},
     "output_type": "execute_result"
    }
   ],
   "source": [
    "#maximum friends\n",
    "df[df['friends'] == df['friends'].max()].head(1)"
   ]
  },
  {
   "cell_type": "markdown",
   "id": "febda44f",
   "metadata": {
    "id": "febda44f"
   },
   "source": [
    "<hr>"
   ]
  },
  {
   "cell_type": "code",
   "execution_count": 27,
   "id": "e4918ae1",
   "metadata": {
    "id": "e4918ae1"
   },
   "outputs": [
    {
     "data": {
      "text/html": [
       "<div>\n",
       "<style scoped>\n",
       "    .dataframe tbody tr th:only-of-type {\n",
       "        vertical-align: middle;\n",
       "    }\n",
       "\n",
       "    .dataframe tbody tr th {\n",
       "        vertical-align: top;\n",
       "    }\n",
       "\n",
       "    .dataframe thead th {\n",
       "        text-align: right;\n",
       "    }\n",
       "</style>\n",
       "<table border=\"1\" class=\"dataframe\">\n",
       "  <thead>\n",
       "    <tr style=\"text-align: right;\">\n",
       "      <th></th>\n",
       "      <th>userid</th>\n",
       "      <th>age</th>\n",
       "      <th>gender</th>\n",
       "      <th>tenure</th>\n",
       "      <th>friends</th>\n",
       "      <th>request</th>\n",
       "      <th>g_likes</th>\n",
       "      <th>r_likes</th>\n",
       "    </tr>\n",
       "  </thead>\n",
       "  <tbody>\n",
       "    <tr>\n",
       "      <th>0</th>\n",
       "      <td>2094382</td>\n",
       "      <td>14</td>\n",
       "      <td>male</td>\n",
       "      <td>266.0</td>\n",
       "      <td>0</td>\n",
       "      <td>0</td>\n",
       "      <td>0</td>\n",
       "      <td>0</td>\n",
       "    </tr>\n",
       "  </tbody>\n",
       "</table>\n",
       "</div>"
      ],
      "text/plain": [
       "    userid  age gender  tenure  friends  request  g_likes  r_likes\n",
       "0  2094382   14   male   266.0        0        0        0        0"
      ]
     },
     "execution_count": 27,
     "metadata": {},
     "output_type": "execute_result"
    }
   ],
   "source": [
    "#minimum request\n",
    "df[df['request'] == df['request'].min()].head(1)"
   ]
  },
  {
   "cell_type": "code",
   "execution_count": 28,
   "id": "b1cec1d0",
   "metadata": {
    "id": "b1cec1d0"
   },
   "outputs": [
    {
     "data": {
      "text/html": [
       "<div>\n",
       "<style scoped>\n",
       "    .dataframe tbody tr th:only-of-type {\n",
       "        vertical-align: middle;\n",
       "    }\n",
       "\n",
       "    .dataframe tbody tr th {\n",
       "        vertical-align: top;\n",
       "    }\n",
       "\n",
       "    .dataframe thead th {\n",
       "        text-align: right;\n",
       "    }\n",
       "</style>\n",
       "<table border=\"1\" class=\"dataframe\">\n",
       "  <thead>\n",
       "    <tr style=\"text-align: right;\">\n",
       "      <th></th>\n",
       "      <th>userid</th>\n",
       "      <th>age</th>\n",
       "      <th>gender</th>\n",
       "      <th>tenure</th>\n",
       "      <th>friends</th>\n",
       "      <th>request</th>\n",
       "      <th>g_likes</th>\n",
       "      <th>r_likes</th>\n",
       "    </tr>\n",
       "  </thead>\n",
       "  <tbody>\n",
       "    <tr>\n",
       "      <th>98818</th>\n",
       "      <td>1654565</td>\n",
       "      <td>19</td>\n",
       "      <td>male</td>\n",
       "      <td>394.0</td>\n",
       "      <td>4538</td>\n",
       "      <td>4144</td>\n",
       "      <td>4501</td>\n",
       "      <td>15088</td>\n",
       "    </tr>\n",
       "  </tbody>\n",
       "</table>\n",
       "</div>"
      ],
      "text/plain": [
       "        userid  age gender  tenure  friends  request  g_likes  r_likes\n",
       "98818  1654565   19   male   394.0     4538     4144     4501    15088"
      ]
     },
     "execution_count": 28,
     "metadata": {},
     "output_type": "execute_result"
    }
   ],
   "source": [
    "#maximum request\n",
    "df[df['request'] == df['request'].max()].head(1)"
   ]
  },
  {
   "cell_type": "markdown",
   "id": "cda1bd55",
   "metadata": {
    "id": "cda1bd55"
   },
   "source": [
    "<hr>"
   ]
  },
  {
   "cell_type": "code",
   "execution_count": 29,
   "id": "850c0daf",
   "metadata": {
    "id": "850c0daf"
   },
   "outputs": [
    {
     "data": {
      "text/html": [
       "<div>\n",
       "<style scoped>\n",
       "    .dataframe tbody tr th:only-of-type {\n",
       "        vertical-align: middle;\n",
       "    }\n",
       "\n",
       "    .dataframe tbody tr th {\n",
       "        vertical-align: top;\n",
       "    }\n",
       "\n",
       "    .dataframe thead th {\n",
       "        text-align: right;\n",
       "    }\n",
       "</style>\n",
       "<table border=\"1\" class=\"dataframe\">\n",
       "  <thead>\n",
       "    <tr style=\"text-align: right;\">\n",
       "      <th></th>\n",
       "      <th>userid</th>\n",
       "      <th>age</th>\n",
       "      <th>gender</th>\n",
       "      <th>tenure</th>\n",
       "      <th>friends</th>\n",
       "      <th>request</th>\n",
       "      <th>g_likes</th>\n",
       "      <th>r_likes</th>\n",
       "    </tr>\n",
       "  </thead>\n",
       "  <tbody>\n",
       "    <tr>\n",
       "      <th>0</th>\n",
       "      <td>2094382</td>\n",
       "      <td>14</td>\n",
       "      <td>male</td>\n",
       "      <td>266.0</td>\n",
       "      <td>0</td>\n",
       "      <td>0</td>\n",
       "      <td>0</td>\n",
       "      <td>0</td>\n",
       "    </tr>\n",
       "  </tbody>\n",
       "</table>\n",
       "</div>"
      ],
      "text/plain": [
       "    userid  age gender  tenure  friends  request  g_likes  r_likes\n",
       "0  2094382   14   male   266.0        0        0        0        0"
      ]
     },
     "execution_count": 29,
     "metadata": {},
     "output_type": "execute_result"
    }
   ],
   "source": [
    "#minimum g_likes\n",
    "df[df['g_likes'] == df['g_likes'].min()].head(1)"
   ]
  },
  {
   "cell_type": "code",
   "execution_count": 30,
   "id": "a631ae32",
   "metadata": {
    "id": "a631ae32"
   },
   "outputs": [
    {
     "data": {
      "text/html": [
       "<div>\n",
       "<style scoped>\n",
       "    .dataframe tbody tr th:only-of-type {\n",
       "        vertical-align: middle;\n",
       "    }\n",
       "\n",
       "    .dataframe tbody tr th {\n",
       "        vertical-align: top;\n",
       "    }\n",
       "\n",
       "    .dataframe thead th {\n",
       "        text-align: right;\n",
       "    }\n",
       "</style>\n",
       "<table border=\"1\" class=\"dataframe\">\n",
       "  <thead>\n",
       "    <tr style=\"text-align: right;\">\n",
       "      <th></th>\n",
       "      <th>userid</th>\n",
       "      <th>age</th>\n",
       "      <th>gender</th>\n",
       "      <th>tenure</th>\n",
       "      <th>friends</th>\n",
       "      <th>request</th>\n",
       "      <th>g_likes</th>\n",
       "      <th>r_likes</th>\n",
       "    </tr>\n",
       "  </thead>\n",
       "  <tbody>\n",
       "    <tr>\n",
       "      <th>96834</th>\n",
       "      <td>1684195</td>\n",
       "      <td>23</td>\n",
       "      <td>male</td>\n",
       "      <td>529.0</td>\n",
       "      <td>1056</td>\n",
       "      <td>665</td>\n",
       "      <td>25111</td>\n",
       "      <td>3447</td>\n",
       "    </tr>\n",
       "  </tbody>\n",
       "</table>\n",
       "</div>"
      ],
      "text/plain": [
       "        userid  age gender  tenure  friends  request  g_likes  r_likes\n",
       "96834  1684195   23   male   529.0     1056      665    25111     3447"
      ]
     },
     "execution_count": 30,
     "metadata": {},
     "output_type": "execute_result"
    }
   ],
   "source": [
    "#maximum g_likes\n",
    "df[df['g_likes'] == df['g_likes'].max()].head(1)"
   ]
  },
  {
   "cell_type": "markdown",
   "id": "b410c5e3",
   "metadata": {
    "id": "b410c5e3"
   },
   "source": [
    "<hr>"
   ]
  },
  {
   "cell_type": "code",
   "execution_count": 31,
   "id": "84eccafd",
   "metadata": {
    "id": "84eccafd"
   },
   "outputs": [
    {
     "data": {
      "text/html": [
       "<div>\n",
       "<style scoped>\n",
       "    .dataframe tbody tr th:only-of-type {\n",
       "        vertical-align: middle;\n",
       "    }\n",
       "\n",
       "    .dataframe tbody tr th {\n",
       "        vertical-align: top;\n",
       "    }\n",
       "\n",
       "    .dataframe thead th {\n",
       "        text-align: right;\n",
       "    }\n",
       "</style>\n",
       "<table border=\"1\" class=\"dataframe\">\n",
       "  <thead>\n",
       "    <tr style=\"text-align: right;\">\n",
       "      <th></th>\n",
       "      <th>userid</th>\n",
       "      <th>age</th>\n",
       "      <th>gender</th>\n",
       "      <th>tenure</th>\n",
       "      <th>friends</th>\n",
       "      <th>request</th>\n",
       "      <th>g_likes</th>\n",
       "      <th>r_likes</th>\n",
       "    </tr>\n",
       "  </thead>\n",
       "  <tbody>\n",
       "    <tr>\n",
       "      <th>0</th>\n",
       "      <td>2094382</td>\n",
       "      <td>14</td>\n",
       "      <td>male</td>\n",
       "      <td>266.0</td>\n",
       "      <td>0</td>\n",
       "      <td>0</td>\n",
       "      <td>0</td>\n",
       "      <td>0</td>\n",
       "    </tr>\n",
       "  </tbody>\n",
       "</table>\n",
       "</div>"
      ],
      "text/plain": [
       "    userid  age gender  tenure  friends  request  g_likes  r_likes\n",
       "0  2094382   14   male   266.0        0        0        0        0"
      ]
     },
     "execution_count": 31,
     "metadata": {},
     "output_type": "execute_result"
    }
   ],
   "source": [
    "#minimum r_likes\n",
    "df[df['r_likes'] == df['r_likes'].min()].head(1)"
   ]
  },
  {
   "cell_type": "code",
   "execution_count": 32,
   "id": "dbc44256",
   "metadata": {
    "id": "dbc44256"
   },
   "outputs": [
    {
     "data": {
      "text/html": [
       "<div>\n",
       "<style scoped>\n",
       "    .dataframe tbody tr th:only-of-type {\n",
       "        vertical-align: middle;\n",
       "    }\n",
       "\n",
       "    .dataframe tbody tr th {\n",
       "        vertical-align: top;\n",
       "    }\n",
       "\n",
       "    .dataframe thead th {\n",
       "        text-align: right;\n",
       "    }\n",
       "</style>\n",
       "<table border=\"1\" class=\"dataframe\">\n",
       "  <thead>\n",
       "    <tr style=\"text-align: right;\">\n",
       "      <th></th>\n",
       "      <th>userid</th>\n",
       "      <th>age</th>\n",
       "      <th>gender</th>\n",
       "      <th>tenure</th>\n",
       "      <th>friends</th>\n",
       "      <th>request</th>\n",
       "      <th>g_likes</th>\n",
       "      <th>r_likes</th>\n",
       "    </tr>\n",
       "  </thead>\n",
       "  <tbody>\n",
       "    <tr>\n",
       "      <th>94735</th>\n",
       "      <td>1674584</td>\n",
       "      <td>17</td>\n",
       "      <td>female</td>\n",
       "      <td>401.0</td>\n",
       "      <td>818</td>\n",
       "      <td>395</td>\n",
       "      <td>1016</td>\n",
       "      <td>261197</td>\n",
       "    </tr>\n",
       "  </tbody>\n",
       "</table>\n",
       "</div>"
      ],
      "text/plain": [
       "        userid  age  gender  tenure  friends  request  g_likes  r_likes\n",
       "94735  1674584   17  female   401.0      818      395     1016   261197"
      ]
     },
     "execution_count": 32,
     "metadata": {},
     "output_type": "execute_result"
    }
   ],
   "source": [
    "#maximum r_likes\n",
    "df[df['r_likes'] == df['r_likes'].max()].head(1)"
   ]
  },
  {
   "cell_type": "markdown",
   "id": "913d1864",
   "metadata": {
    "id": "913d1864"
   },
   "source": [
    "<hr>"
   ]
  },
  {
   "cell_type": "markdown",
   "id": "67e3e32a",
   "metadata": {
    "id": "67e3e32a"
   },
   "source": [
    "## 6. Check Distribution Function"
   ]
  },
  {
   "cell_type": "markdown",
   "id": "acb26042",
   "metadata": {
    "id": "acb26042"
   },
   "source": [
    "In this section, we want to determine whether a distribution of a variable follows a normal distribution. For doing this, I check with two ways, Quantile-Quantile that compares the distribution of the data to a theoretical normal distribution. If the points on the plot form a straight line, then the data is likely normally distributed. the second way is Kolmogorov-Smirnov test that compares the empirical distribution function of the data to the theoretical normal distribution. If the test statistic is small and the p-value is large, then we conclude that the data is normally distributed."
   ]
  },
  {
   "cell_type": "markdown",
   "id": "c1243643",
   "metadata": {
    "id": "c1243643"
   },
   "source": [
    "> ### Q-Q plot"
   ]
  },
  {
   "cell_type": "code",
   "execution_count": 33,
   "id": "8e8103d8",
   "metadata": {
    "id": "8e8103d8"
   },
   "outputs": [],
   "source": [
    "import statsmodels.api as sm\n",
    "\n",
    "def QQ_plot(var):\n",
    "    sm.qqplot(df[var], line='s')\n",
    "    plt.xlabel('Theoretical quantiles')\n",
    "    plt.ylabel('Sample quantiles')\n",
    "    plt.show()"
   ]
  },
  {
   "cell_type": "markdown",
   "id": "11e9ccf9",
   "metadata": {
    "id": "11e9ccf9"
   },
   "source": [
    "I run the function for all numerical variables."
   ]
  },
  {
   "cell_type": "code",
   "execution_count": 34,
   "id": "b977ae91",
   "metadata": {
    "id": "b977ae91"
   },
   "outputs": [
    {
     "data": {
      "image/png": "[encoded data removed]",
      "text/plain": [
       "<Figure size 640x480 with 1 Axes>"
      ]
     },
     "metadata": {},
     "output_type": "display_data"
    }
   ],
   "source": [
    "QQ_plot('age')"
   ]
  },
  {
   "cell_type": "code",
   "execution_count": 35,
   "id": "5d1cdc55",
   "metadata": {
    "id": "5d1cdc55"
   },
   "outputs": [
    {
     "data": {
      "image/png": "[encoded data removed]",
      "text/plain": [
       "<Figure size 640x480 with 1 Axes>"
      ]
     },
     "metadata": {},
     "output_type": "display_data"
    }
   ],
   "source": [
    "QQ_plot('tenure')"
   ]
  },
  {
   "cell_type": "code",
   "execution_count": 36,
   "id": "c27d00da",
   "metadata": {
    "id": "c27d00da"
   },
   "outputs": [
    {
     "data": {
      "image/png": "[encoded data removed]",
      "text/plain": [
       "<Figure size 640x480 with 1 Axes>"
      ]
     },
     "metadata": {},
     "output_type": "display_data"
    }
   ],
   "source": [
    "QQ_plot('friends')"
   ]
  },
  {
   "cell_type": "code",
   "execution_count": 37,
   "id": "b0235e49",
   "metadata": {
    "id": "b0235e49"
   },
   "outputs": [
    {
     "data": {
      "image/png": "[encoded data removed]",
      "text/plain": [
       "<Figure size 640x480 with 1 Axes>"
      ]
     },
     "metadata": {},
     "output_type": "display_data"
    }
   ],
   "source": [
    "QQ_plot('request')"
   ]
  },
  {
   "cell_type": "code",
   "execution_count": 38,
   "id": "9affcc48",
   "metadata": {
    "id": "9affcc48"
   },
   "outputs": [
    {
     "data": {
      "image/png": "[encoded data removed]",
      "text/plain": [
       "<Figure size 640x480 with 1 Axes>"
      ]
     },
     "metadata": {},
     "output_type": "display_data"
    }
   ],
   "source": [
    "QQ_plot('g_likes')"
   ]
  },
  {
   "cell_type": "code",
   "execution_count": 39,
   "id": "0cc81db0",
   "metadata": {
    "id": "0cc81db0"
   },
   "outputs": [
    {
     "data": {
      "image/png": "[encoded data removed]",
      "text/plain": [
       "<Figure size 640x480 with 1 Axes>"
      ]
     },
     "metadata": {},
     "output_type": "display_data"
    }
   ],
   "source": [
    "QQ_plot('r_likes')"
   ]
  },
  {
   "cell_type": "markdown",
   "id": "9f405538",
   "metadata": {
    "id": "9f405538"
   },
   "source": [
    "> ###  Kolmogorov-Smirnov test"
   ]
  },
  {
   "cell_type": "markdown",
   "id": "2b23975d",
   "metadata": {
    "id": "2b23975d"
   },
   "source": [
    "This test measures the maximum vertical distance between the empirical cumulative distribution function of the variable and the cumulative distribution function. The p-value measures the probability of observing a test statistic as extreme as or more extreme than the one observed, assuming the null hypothesis that the data follows the reference distribution. If the p-value is greater than the significance level (e.g. 0.05), then we fail to reject the null hypothesis and conclude that the data follows a normal distribution."
   ]
  },
  {
   "cell_type": "code",
   "execution_count": 40,
   "id": "2c0e209e",
   "metadata": {
    "id": "2c0e209e"
   },
   "outputs": [],
   "source": [
    "from scipy.stats import kstest, norm\n",
    "\n",
    "def KS_test(var):\n",
    "    kstest_result = kstest(df[var], norm.cdf)\n",
    "    \n",
    "    print(f\"test statistic: {kstest_result.statistic:.4f}\")\n",
    "    print(f\"test p-value: {kstest_result.pvalue:.4f}\")"
   ]
  },
  {
   "cell_type": "code",
   "execution_count": 41,
   "id": "17084d8a",
   "metadata": {
    "id": "17084d8a"
   },
   "outputs": [
    {
     "name": "stdout",
     "output_type": "stream",
     "text": [
      "test statistic: 1.0000\n",
      "test p-value: 0.0000\n"
     ]
    }
   ],
   "source": [
    "KS_test('age')"
   ]
  },
  {
   "cell_type": "code",
   "execution_count": 42,
   "id": "087bfa9c",
   "metadata": {
    "id": "087bfa9c"
   },
   "outputs": [
    {
     "name": "stdout",
     "output_type": "stream",
     "text": [
      "test statistic: 0.9971\n",
      "test p-value: 0.0000\n"
     ]
    }
   ],
   "source": [
    "KS_test('tenure')"
   ]
  },
  {
   "cell_type": "code",
   "execution_count": 43,
   "id": "d9e12a12",
   "metadata": {
    "id": "d9e12a12"
   },
   "outputs": [
    {
     "name": "stdout",
     "output_type": "stream",
     "text": [
      "test statistic: 0.9491\n",
      "test p-value: 0.0000\n"
     ]
    }
   ],
   "source": [
    "KS_test('friends')"
   ]
  },
  {
   "cell_type": "code",
   "execution_count": 44,
   "id": "a2d07d23",
   "metadata": {
    "id": "a2d07d23"
   },
   "outputs": [
    {
     "name": "stdout",
     "output_type": "stream",
     "text": [
      "test statistic: 0.9303\n",
      "test p-value: 0.0000\n"
     ]
    }
   ],
   "source": [
    "KS_test('request')"
   ]
  },
  {
   "cell_type": "code",
   "execution_count": 45,
   "id": "b853e163",
   "metadata": {
    "id": "b853e163"
   },
   "outputs": [
    {
     "name": "stdout",
     "output_type": "stream",
     "text": [
      "test statistic: 0.6818\n",
      "test p-value: 0.0000\n"
     ]
    }
   ],
   "source": [
    "KS_test('g_likes')"
   ]
  },
  {
   "cell_type": "code",
   "execution_count": 46,
   "id": "3be3d721",
   "metadata": {
    "id": "3be3d721"
   },
   "outputs": [
    {
     "name": "stdout",
     "output_type": "stream",
     "text": [
      "test statistic: 0.6566\n",
      "test p-value: 0.0000\n"
     ]
    }
   ],
   "source": [
    "KS_test('r_likes')"
   ]
  },
  {
   "cell_type": "markdown",
   "id": "cd501f62",
   "metadata": {
    "id": "cd501f62"
   },
   "source": [
    "<hr>"
   ]
  },
  {
   "cell_type": "markdown",
   "id": "2a9cf4cc",
   "metadata": {
    "id": "2a9cf4cc"
   },
   "source": [
    "## 7. Handle Outliers"
   ]
  },
  {
   "cell_type": "markdown",
   "id": "6f937d6f",
   "metadata": {
    "id": "6f937d6f"
   },
   "source": [
    "In the previous sections, we saw some variables have outliers, and before going further we should handle them. The histogram, distribution and test show they are not normal distribution. So, for handling outlier, we cannot use z-score. Instead, we use MAD (median absolute deviation) technique that is a very robust method for this condition. "
   ]
  },
  {
   "cell_type": "code",
   "execution_count": 47,
   "id": "416647a0",
   "metadata": {
    "executionInfo": {
     "elapsed": 6117,
     "status": "ok",
     "timestamp": 1682901961449,
     "user": {
      "displayName": "Mehrdad M. Dehghan",
      "userId": "08222177611817016206"
     },
     "user_tz": 240
    },
    "id": "416647a0"
   },
   "outputs": [],
   "source": [
    "# find the median of \"tenure\"\n",
    "median = df['r_likes'].median()\n",
    "\n",
    "# create empty column\n",
    "df['Median_Diff'] = 0\n",
    "\n",
    "# calculate difference\n",
    "for i in range(len(df)):\n",
    "    median_diff = abs(df.loc[i, 'r_likes'] - median)\n",
    "    df.loc[i, 'Median_Diff'] = median_diff\n",
    "\n",
    "# calculate the median of \"Median_Diff\"\n",
    "mad = df['Median_Diff'].median()\n",
    "\n",
    "# determine threshold\n",
    "threshold = mad * 3\n",
    "\n",
    "# detect and filter rows based on outlier\n",
    "df = df[~(df['Median_Diff'] > threshold)]\n",
    "\n",
    "# remove the \"Median_Diff\" column\n",
    "df = df.drop(['Median_Diff'], axis=1)\n",
    "\n",
    "df = df.reset_index(drop=True)"
   ]
  },
  {
   "cell_type": "markdown",
   "id": "BLb50fGRzOW4",
   "metadata": {
    "id": "BLb50fGRzOW4"
   },
   "source": [
    "However, the other technique that we should use for dealing with outliers was quartile method."
   ]
  },
  {
   "cell_type": "markdown",
   "id": "abadbdf2",
   "metadata": {
    "id": "abadbdf2"
   },
   "source": [
    "# Check Point"
   ]
  },
  {
   "cell_type": "code",
   "execution_count": 48,
   "id": "81bbcb45",
   "metadata": {
    "executionInfo": {
     "elapsed": 208,
     "status": "ok",
     "timestamp": 1682903054270,
     "user": {
      "displayName": "Mehrdad M. Dehghan",
      "userId": "08222177611817016206"
     },
     "user_tz": 240
    },
    "id": "81bbcb45"
   },
   "outputs": [],
   "source": [
    "import pickle\n",
    "with open('dataset/final_dataset.pickle', 'wb') as file:\n",
    "    pickle.dump(df, file)"
   ]
  },
  {
   "cell_type": "code",
   "execution_count": null,
   "id": "b1464254-8e90-48da-bd15-36d6c0fcbfa6",
   "metadata": {},
   "outputs": [],
   "source": []
  }
 ],
 "metadata": {
  "colab": {
   "provenance": []
  },
  "kernelspec": {
   "display_name": "Python 3 (ipykernel)",
   "language": "python",
   "name": "python3"
  },
  "language_info": {
   "codemirror_mode": {
    "name": "ipython",
    "version": 3
   },
   "file_extension": ".py",
   "mimetype": "text/x-python",
   "name": "python",
   "nbconvert_exporter": "python",
   "pygments_lexer": "ipython3",
   "version": "3.9.13"
  }
 },
 "nbformat": 4,
 "nbformat_minor": 5
}
