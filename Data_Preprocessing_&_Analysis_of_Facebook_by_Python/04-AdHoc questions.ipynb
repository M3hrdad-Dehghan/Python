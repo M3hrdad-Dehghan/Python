{
 "cells": [
  {
   "cell_type": "markdown",
   "id": "d6d159a6",
   "metadata": {
    "id": "d6d159a6"
   },
   "source": [
    "## import packages and dataset"
   ]
  },
  {
   "cell_type": "code",
   "execution_count": 1,
   "id": "3d9811c9",
   "metadata": {
    "executionInfo": {
     "elapsed": 1553,
     "status": "ok",
     "timestamp": 1682904410576,
     "user": {
      "displayName": "Mehrdad M. Dehghan",
      "userId": "08222177611817016206"
     },
     "user_tz": 240
    },
    "id": "3d9811c9"
   },
   "outputs": [],
   "source": [
    "import pandas as pd\n",
    "import numpy as np\n",
    "import pickle\n",
    "\n",
    "import seaborn as sns\n",
    "\n",
    "import matplotlib.pyplot as plt\n",
    "import matplotlib.mlab as mlab\n",
    "import matplotlib\n",
    "plt.style.use('ggplot')\n",
    "from matplotlib.pyplot import figure\n",
    "\n",
    "%matplotlib inline"
   ]
  },
  {
   "cell_type": "code",
   "execution_count": 2,
   "id": "25fa9d62",
   "metadata": {
    "colab": {
     "base_uri": "https://localhost:8080/",
     "height": 112
    },
    "executionInfo": {
     "elapsed": 760,
     "status": "ok",
     "timestamp": 1682904415392,
     "user": {
      "displayName": "Mehrdad M. Dehghan",
      "userId": "08222177611817016206"
     },
     "user_tz": 240
    },
    "id": "25fa9d62",
    "outputId": "4de68ac5-0c24-492b-cb94-e0472b25df79"
   },
   "outputs": [
    {
     "data": {
      "text/html": [
       "<div>\n",
       "<style scoped>\n",
       "    .dataframe tbody tr th:only-of-type {\n",
       "        vertical-align: middle;\n",
       "    }\n",
       "\n",
       "    .dataframe tbody tr th {\n",
       "        vertical-align: top;\n",
       "    }\n",
       "\n",
       "    .dataframe thead th {\n",
       "        text-align: right;\n",
       "    }\n",
       "</style>\n",
       "<table border=\"1\" class=\"dataframe\">\n",
       "  <thead>\n",
       "    <tr style=\"text-align: right;\">\n",
       "      <th></th>\n",
       "      <th>userid</th>\n",
       "      <th>age</th>\n",
       "      <th>gender</th>\n",
       "      <th>tenure</th>\n",
       "      <th>friends</th>\n",
       "      <th>request</th>\n",
       "      <th>g_likes</th>\n",
       "      <th>r_likes</th>\n",
       "    </tr>\n",
       "  </thead>\n",
       "  <tbody>\n",
       "    <tr>\n",
       "      <th>0</th>\n",
       "      <td>2094382</td>\n",
       "      <td>14</td>\n",
       "      <td>male</td>\n",
       "      <td>266.0</td>\n",
       "      <td>0</td>\n",
       "      <td>0</td>\n",
       "      <td>0</td>\n",
       "      <td>0</td>\n",
       "    </tr>\n",
       "    <tr>\n",
       "      <th>1</th>\n",
       "      <td>1192601</td>\n",
       "      <td>14</td>\n",
       "      <td>female</td>\n",
       "      <td>6.0</td>\n",
       "      <td>0</td>\n",
       "      <td>0</td>\n",
       "      <td>0</td>\n",
       "      <td>0</td>\n",
       "    </tr>\n",
       "  </tbody>\n",
       "</table>\n",
       "</div>"
      ],
      "text/plain": [
       "    userid  age  gender  tenure  friends  request  g_likes  r_likes\n",
       "0  2094382   14    male   266.0        0        0        0        0\n",
       "1  1192601   14  female     6.0        0        0        0        0"
      ]
     },
     "execution_count": 2,
     "metadata": {},
     "output_type": "execute_result"
    }
   ],
   "source": [
    "with open('dataset/final_dataset.pickle', 'rb') as file:\n",
    "    df = pickle.load(file)\n",
    "\n",
    "df.head(2)"
   ]
  },
  {
   "cell_type": "markdown",
   "id": "beff313e",
   "metadata": {
    "id": "beff313e"
   },
   "source": [
    "<hr>"
   ]
  },
  {
   "cell_type": "markdown",
   "id": "c749d2f8",
   "metadata": {
    "id": "c749d2f8"
   },
   "source": [
    "In this section we want to analyze data in Python to answer some ad-hoc questions that might be asked in daily-basis business. "
   ]
  },
  {
   "cell_type": "markdown",
   "id": "0066df54",
   "metadata": {
    "id": "0066df54"
   },
   "source": [
    "## 1 - Based on age group, which gender does have more friend?"
   ]
  },
  {
   "cell_type": "markdown",
   "id": "-RSbQ1hgAcae",
   "metadata": {
    "id": "-RSbQ1hgAcae"
   },
   "source": [
    "first we should bin age into some groups."
   ]
  },
  {
   "cell_type": "code",
   "execution_count": 3,
   "id": "9VbUzSvkAjzM",
   "metadata": {
    "executionInfo": {
     "elapsed": 156,
     "status": "ok",
     "timestamp": 1682906200996,
     "user": {
      "displayName": "Mehrdad M. Dehghan",
      "userId": "08222177611817016206"
     },
     "user_tz": 240
    },
    "id": "9VbUzSvkAjzM"
   },
   "outputs": [],
   "source": [
    "labels = ['5-10','11-15','16-20','21-25','26-30', '31-35', '36-40', '41-45', '46-50', '51-55', '56-60']\n",
    "\n",
    "df['age_group'] = pd.cut(df['age'], bins = np.arange(5,61,5), labels = labels, right = True)"
   ]
  },
  {
   "cell_type": "markdown",
   "id": "E946F5bmB3IF",
   "metadata": {
    "id": "E946F5bmB3IF"
   },
   "source": [
    "now let's answer the question:"
   ]
  },
  {
   "cell_type": "code",
   "execution_count": 4,
   "id": "VddGc_mJBspc",
   "metadata": {
    "colab": {
     "base_uri": "https://localhost:8080/",
     "height": 598
    },
    "executionInfo": {
     "elapsed": 571,
     "status": "ok",
     "timestamp": 1682906298100,
     "user": {
      "displayName": "Mehrdad M. Dehghan",
      "userId": "08222177611817016206"
     },
     "user_tz": 240
    },
    "id": "VddGc_mJBspc",
    "outputId": "6691933a-923a-4fb8-92d2-96e54b26d7c3"
   },
   "outputs": [
    {
     "name": "stderr",
     "output_type": "stream",
     "text": [
      "C:\\Users\\Mehrdad\\AppData\\Local\\Temp\\ipykernel_16980\\1685361561.py:3: FutureWarning: \n",
      "\n",
      "The `ci` parameter is deprecated. Use `errorbar=None` for the same effect.\n",
      "\n",
      "  sns.barplot(\n"
     ]
    },
    {
     "data": {
      "image/png": "[encoded data removed]",
      "text/plain": [
       "<Figure size 1200x500 with 1 Axes>"
      ]
     },
     "metadata": {},
     "output_type": "display_data"
    }
   ],
   "source": [
    "fig, ax = plt.subplots(figsize=(12, 5))\n",
    "\n",
    "sns.barplot(\n",
    "    x=df['age_group'],\n",
    "    y=df['friends'],\n",
    "    hue=df['gender'],\n",
    "    ci=None,\n",
    "    ax=ax)\n",
    "\n",
    "#setting of axis\n",
    "plt.ylabel(\"Number of Friends\")\n",
    "plt.xlabel(\"Age Group\")\n",
    "plt.yticks([])\n",
    "\n",
    "#add data lable\n",
    "for container in ax.containers:\n",
    "    ax.bar_label(container, label_type='edge', fontsize = 10, rotation=90)\n",
    "\n",
    "#remove the border\n",
    "for spine in ax.spines.values():\n",
    "    spine.set_visible(False)\n",
    "    \n",
    "plt.show()"
   ]
  },
  {
   "cell_type": "markdown",
   "id": "T4d5fq7M7H5c",
   "metadata": {
    "id": "T4d5fq7M7H5c"
   },
   "source": [
    "## 2 - How many people do not have any friends? (based on gender)"
   ]
  },
  {
   "cell_type": "markdown",
   "id": "8kT6m6M8D1gf",
   "metadata": {
    "id": "8kT6m6M8D1gf"
   },
   "source": [
    "First we calculate the number of people who have friend (at least one) and have no friend."
   ]
  },
  {
   "cell_type": "code",
   "execution_count": 6,
   "id": "1gkTlWWIEA2_",
   "metadata": {
    "colab": {
     "base_uri": "https://localhost:8080/"
    },
    "executionInfo": {
     "elapsed": 147,
     "status": "ok",
     "timestamp": 1682907129124,
     "user": {
      "displayName": "Mehrdad M. Dehghan",
      "userId": "08222177611817016206"
     },
     "user_tz": 240
    },
    "id": "1gkTlWWIEA2_",
    "outputId": "6443be9b-8c5b-4428-987f-d98e17f4efbf"
   },
   "outputs": [],
   "source": [
    "fc = df['friends'] == 0"
   ]
  },
  {
   "cell_type": "markdown",
   "id": "pdLDJPkDEUAC",
   "metadata": {
    "id": "pdLDJPkDEUAC"
   },
   "source": [
    "then we can draw chart:"
   ]
  },
  {
   "cell_type": "code",
   "execution_count": 7,
   "id": "xOqxR8alEVxC",
   "metadata": {
    "colab": {
     "base_uri": "https://localhost:8080/",
     "height": 318
    },
    "executionInfo": {
     "elapsed": 351,
     "status": "ok",
     "timestamp": 1682907142351,
     "user": {
      "displayName": "Mehrdad M. Dehghan",
      "userId": "08222177611817016206"
     },
     "user_tz": 240
    },
    "id": "xOqxR8alEVxC",
    "outputId": "1600bbb7-cb40-480b-c0ae-df2f12b05f09"
   },
   "outputs": [
    {
     "data": {
      "image/png": "[encoded data removed]",
      "text/plain": [
       "<Figure size 1200x300 with 1 Axes>"
      ]
     },
     "metadata": {},
     "output_type": "display_data"
    }
   ],
   "source": [
    "fig, ax = plt.subplots(figsize=(12, 3))\n",
    "\n",
    "sns.countplot(\n",
    "    x = fc, \n",
    "    hue = df['gender'], \n",
    "    ax = ax)\n",
    "\n",
    "#setting of axis\n",
    "plt.ylabel(\"Number of Friends\")\n",
    "plt.xlabel(\"Condition\")\n",
    "ax.set_xticklabels(['Have Friends', 'No Friend'])\n",
    "plt.yticks([])\n",
    "\n",
    "#add data lable\n",
    "for container in ax.containers:\n",
    "    ax.bar_label(container, label_type='edge', fontsize = 10)\n",
    "\n",
    "#remove the border\n",
    "for spine in ax.spines.values():\n",
    "    spine.set_visible(False)\n",
    "    \n",
    "plt.show()"
   ]
  },
  {
   "cell_type": "markdown",
   "id": "RrVpiJ6N7IUG",
   "metadata": {
    "id": "RrVpiJ6N7IUG"
   },
   "source": [
    "## 3 - Who did received the most like from other users?"
   ]
  },
  {
   "cell_type": "markdown",
   "id": "kRveuO7YFfLv",
   "metadata": {
    "id": "kRveuO7YFfLv"
   },
   "source": [
    "to answer this question, we just need to sort the dataframe based on received like:"
   ]
  },
  {
   "cell_type": "code",
   "execution_count": 8,
   "id": "ETzJJrziFjXX",
   "metadata": {
    "colab": {
     "base_uri": "https://localhost:8080/",
     "height": 206
    },
    "executionInfo": {
     "elapsed": 120,
     "status": "ok",
     "timestamp": 1682907225566,
     "user": {
      "displayName": "Mehrdad M. Dehghan",
      "userId": "08222177611817016206"
     },
     "user_tz": 240
    },
    "id": "ETzJJrziFjXX",
    "outputId": "0809c846-616e-4aa1-d751-435300b3edb6"
   },
   "outputs": [
    {
     "data": {
      "text/html": [
       "<div>\n",
       "<style scoped>\n",
       "    .dataframe tbody tr th:only-of-type {\n",
       "        vertical-align: middle;\n",
       "    }\n",
       "\n",
       "    .dataframe tbody tr th {\n",
       "        vertical-align: top;\n",
       "    }\n",
       "\n",
       "    .dataframe thead th {\n",
       "        text-align: right;\n",
       "    }\n",
       "</style>\n",
       "<table border=\"1\" class=\"dataframe\">\n",
       "  <thead>\n",
       "    <tr style=\"text-align: right;\">\n",
       "      <th></th>\n",
       "      <th>userid</th>\n",
       "      <th>age</th>\n",
       "      <th>gender</th>\n",
       "      <th>tenure</th>\n",
       "      <th>friends</th>\n",
       "      <th>request</th>\n",
       "      <th>g_likes</th>\n",
       "      <th>r_likes</th>\n",
       "      <th>age_group</th>\n",
       "    </tr>\n",
       "  </thead>\n",
       "  <tbody>\n",
       "    <tr>\n",
       "      <th>6400</th>\n",
       "      <td>1479994</td>\n",
       "      <td>21</td>\n",
       "      <td>female</td>\n",
       "      <td>245.0</td>\n",
       "      <td>4</td>\n",
       "      <td>2</td>\n",
       "      <td>121</td>\n",
       "      <td>32</td>\n",
       "      <td>21-25</td>\n",
       "    </tr>\n",
       "    <tr>\n",
       "      <th>32788</th>\n",
       "      <td>1651813</td>\n",
       "      <td>14</td>\n",
       "      <td>female</td>\n",
       "      <td>199.0</td>\n",
       "      <td>52</td>\n",
       "      <td>8</td>\n",
       "      <td>0</td>\n",
       "      <td>32</td>\n",
       "      <td>11-15</td>\n",
       "    </tr>\n",
       "    <tr>\n",
       "      <th>32603</th>\n",
       "      <td>1873333</td>\n",
       "      <td>97</td>\n",
       "      <td>female</td>\n",
       "      <td>444.0</td>\n",
       "      <td>51</td>\n",
       "      <td>16</td>\n",
       "      <td>22</td>\n",
       "      <td>32</td>\n",
       "      <td>NaN</td>\n",
       "    </tr>\n",
       "    <tr>\n",
       "      <th>13147</th>\n",
       "      <td>1730006</td>\n",
       "      <td>27</td>\n",
       "      <td>male</td>\n",
       "      <td>158.0</td>\n",
       "      <td>14</td>\n",
       "      <td>9</td>\n",
       "      <td>156</td>\n",
       "      <td>32</td>\n",
       "      <td>26-30</td>\n",
       "    </tr>\n",
       "    <tr>\n",
       "      <th>32640</th>\n",
       "      <td>1386185</td>\n",
       "      <td>54</td>\n",
       "      <td>female</td>\n",
       "      <td>391.0</td>\n",
       "      <td>50</td>\n",
       "      <td>40</td>\n",
       "      <td>31</td>\n",
       "      <td>32</td>\n",
       "      <td>51-55</td>\n",
       "    </tr>\n",
       "  </tbody>\n",
       "</table>\n",
       "</div>"
      ],
      "text/plain": [
       "        userid  age  gender  tenure  friends  request  g_likes  r_likes  \\\n",
       "6400   1479994   21  female   245.0        4        2      121       32   \n",
       "32788  1651813   14  female   199.0       52        8        0       32   \n",
       "32603  1873333   97  female   444.0       51       16       22       32   \n",
       "13147  1730006   27    male   158.0       14        9      156       32   \n",
       "32640  1386185   54  female   391.0       50       40       31       32   \n",
       "\n",
       "      age_group  \n",
       "6400      21-25  \n",
       "32788     11-15  \n",
       "32603       NaN  \n",
       "13147     26-30  \n",
       "32640     51-55  "
      ]
     },
     "execution_count": 8,
     "metadata": {},
     "output_type": "execute_result"
    }
   ],
   "source": [
    "df.sort_values(by = 'r_likes', ascending = False)[:5]"
   ]
  },
  {
   "cell_type": "markdown",
   "id": "AztrLETJ7Ia8",
   "metadata": {
    "id": "AztrLETJ7Ia8"
   },
   "source": [
    "## 4 - For every single user, calculate how many like did they get per day?"
   ]
  },
  {
   "cell_type": "markdown",
   "id": "oK1vAWwfFyri",
   "metadata": {
    "id": "oK1vAWwfFyri"
   },
   "source": [
    "first, we calculate like per day:"
   ]
  },
  {
   "cell_type": "code",
   "execution_count": 9,
   "id": "zOYpAMeDF5By",
   "metadata": {
    "executionInfo": {
     "elapsed": 1,
     "status": "ok",
     "timestamp": 1682907326390,
     "user": {
      "displayName": "Mehrdad M. Dehghan",
      "userId": "08222177611817016206"
     },
     "user_tz": 240
    },
    "id": "zOYpAMeDF5By"
   },
   "outputs": [],
   "source": [
    "df['likes_per_day'] = df['r_likes'] / df['tenure'].where(df['tenure'] > 0)"
   ]
  },
  {
   "cell_type": "markdown",
   "id": "FfaqyNqNGEzi",
   "metadata": {
    "id": "FfaqyNqNGEzi"
   },
   "source": [
    "and then we can sort the data based on like received and then like per day:"
   ]
  },
  {
   "cell_type": "code",
   "execution_count": 10,
   "id": "Y0LEAg6XGG6o",
   "metadata": {
    "colab": {
     "base_uri": "https://localhost:8080/",
     "height": 206
    },
    "executionInfo": {
     "elapsed": 134,
     "status": "ok",
     "timestamp": 1682907368911,
     "user": {
      "displayName": "Mehrdad M. Dehghan",
      "userId": "08222177611817016206"
     },
     "user_tz": 240
    },
    "id": "Y0LEAg6XGG6o",
    "outputId": "09b3c8e3-62bb-4e83-9665-046b114d870a"
   },
   "outputs": [
    {
     "data": {
      "text/html": [
       "<div>\n",
       "<style scoped>\n",
       "    .dataframe tbody tr th:only-of-type {\n",
       "        vertical-align: middle;\n",
       "    }\n",
       "\n",
       "    .dataframe tbody tr th {\n",
       "        vertical-align: top;\n",
       "    }\n",
       "\n",
       "    .dataframe thead th {\n",
       "        text-align: right;\n",
       "    }\n",
       "</style>\n",
       "<table border=\"1\" class=\"dataframe\">\n",
       "  <thead>\n",
       "    <tr style=\"text-align: right;\">\n",
       "      <th></th>\n",
       "      <th>userid</th>\n",
       "      <th>age</th>\n",
       "      <th>gender</th>\n",
       "      <th>tenure</th>\n",
       "      <th>friends</th>\n",
       "      <th>request</th>\n",
       "      <th>g_likes</th>\n",
       "      <th>r_likes</th>\n",
       "      <th>age_group</th>\n",
       "      <th>likes_per_day</th>\n",
       "    </tr>\n",
       "  </thead>\n",
       "  <tbody>\n",
       "    <tr>\n",
       "      <th>18758</th>\n",
       "      <td>1522643</td>\n",
       "      <td>107</td>\n",
       "      <td>male</td>\n",
       "      <td>9.0</td>\n",
       "      <td>22</td>\n",
       "      <td>16</td>\n",
       "      <td>104</td>\n",
       "      <td>32</td>\n",
       "      <td>NaN</td>\n",
       "      <td>3.555556</td>\n",
       "    </tr>\n",
       "    <tr>\n",
       "      <th>13111</th>\n",
       "      <td>1109883</td>\n",
       "      <td>58</td>\n",
       "      <td>male</td>\n",
       "      <td>12.0</td>\n",
       "      <td>13</td>\n",
       "      <td>9</td>\n",
       "      <td>71</td>\n",
       "      <td>32</td>\n",
       "      <td>56-60</td>\n",
       "      <td>2.666667</td>\n",
       "    </tr>\n",
       "    <tr>\n",
       "      <th>28658</th>\n",
       "      <td>1663920</td>\n",
       "      <td>68</td>\n",
       "      <td>female</td>\n",
       "      <td>12.0</td>\n",
       "      <td>41</td>\n",
       "      <td>39</td>\n",
       "      <td>185</td>\n",
       "      <td>32</td>\n",
       "      <td>NaN</td>\n",
       "      <td>2.666667</td>\n",
       "    </tr>\n",
       "    <tr>\n",
       "      <th>21498</th>\n",
       "      <td>1772599</td>\n",
       "      <td>103</td>\n",
       "      <td>female</td>\n",
       "      <td>21.0</td>\n",
       "      <td>28</td>\n",
       "      <td>26</td>\n",
       "      <td>2</td>\n",
       "      <td>32</td>\n",
       "      <td>NaN</td>\n",
       "      <td>1.523810</td>\n",
       "    </tr>\n",
       "    <tr>\n",
       "      <th>27618</th>\n",
       "      <td>1155942</td>\n",
       "      <td>23</td>\n",
       "      <td>male</td>\n",
       "      <td>22.0</td>\n",
       "      <td>39</td>\n",
       "      <td>34</td>\n",
       "      <td>26</td>\n",
       "      <td>32</td>\n",
       "      <td>21-25</td>\n",
       "      <td>1.454545</td>\n",
       "    </tr>\n",
       "  </tbody>\n",
       "</table>\n",
       "</div>"
      ],
      "text/plain": [
       "        userid  age  gender  tenure  friends  request  g_likes  r_likes  \\\n",
       "18758  1522643  107    male     9.0       22       16      104       32   \n",
       "13111  1109883   58    male    12.0       13        9       71       32   \n",
       "28658  1663920   68  female    12.0       41       39      185       32   \n",
       "21498  1772599  103  female    21.0       28       26        2       32   \n",
       "27618  1155942   23    male    22.0       39       34       26       32   \n",
       "\n",
       "      age_group  likes_per_day  \n",
       "18758       NaN       3.555556  \n",
       "13111     56-60       2.666667  \n",
       "28658       NaN       2.666667  \n",
       "21498       NaN       1.523810  \n",
       "27618     21-25       1.454545  "
      ]
     },
     "execution_count": 10,
     "metadata": {},
     "output_type": "execute_result"
    }
   ],
   "source": [
    "famous = df.sort_values(by =['r_likes', 'likes_per_day'], ascending = False)[:5]\n",
    "famous"
   ]
  },
  {
   "cell_type": "code",
   "execution_count": 11,
   "id": "SsMy3O05GNT2",
   "metadata": {
    "colab": {
     "base_uri": "https://localhost:8080/",
     "height": 366
    },
    "executionInfo": {
     "elapsed": 726,
     "status": "ok",
     "timestamp": 1682907399501,
     "user": {
      "displayName": "Mehrdad M. Dehghan",
      "userId": "08222177611817016206"
     },
     "user_tz": 240
    },
    "id": "SsMy3O05GNT2",
    "outputId": "18655db4-2dd3-439c-8cf1-efd7bee06889"
   },
   "outputs": [
    {
     "data": {
      "image/png": "[encoded data removed]",
      "text/plain": [
       "<Figure size 1200x300 with 1 Axes>"
      ]
     },
     "metadata": {},
     "output_type": "display_data"
    }
   ],
   "source": [
    "fig, ax = plt.subplots(figsize=(12, 3))\n",
    "\n",
    "famous.plot(\n",
    "    x='userid',\n",
    "    y='likes_per_day',\n",
    "    kind='bar', \n",
    "    color='red',\n",
    "    ax=ax)\n",
    "\n",
    "#setting of axis\n",
    "plt.ylabel(\"\")\n",
    "plt.xlabel(\"User ID\")\n",
    "plt.yticks([])\n",
    "\n",
    "#add data lable\n",
    "for container in ax.containers:\n",
    "    ax.bar_label(container, label_type='edge', fontsize = 10)\n",
    "\n",
    "#remove the border\n",
    "for spine in ax.spines.values():\n",
    "    spine.set_visible(False)\n",
    "    \n",
    "#remove the legend \n",
    "ax.get_legend().remove()\n",
    "\n",
    "plt.show()"
   ]
  },
  {
   "cell_type": "markdown",
   "id": "lgfay8lO7IjA",
   "metadata": {
    "id": "lgfay8lO7IjA"
   },
   "source": [
    "## 5 - Show the users who are interested in to send friendship request"
   ]
  },
  {
   "cell_type": "markdown",
   "id": "8rOy7k54GZ0p",
   "metadata": {
    "id": "8rOy7k54GZ0p"
   },
   "source": [
    "first we filter dataset based on this condition:"
   ]
  },
  {
   "cell_type": "code",
   "execution_count": 12,
   "id": "qNFuRJu8Gbsv",
   "metadata": {
    "colab": {
     "base_uri": "https://localhost:8080/",
     "height": 206
    },
    "executionInfo": {
     "elapsed": 205,
     "status": "ok",
     "timestamp": 1682907459401,
     "user": {
      "displayName": "Mehrdad M. Dehghan",
      "userId": "08222177611817016206"
     },
     "user_tz": 240
    },
    "id": "qNFuRJu8Gbsv",
    "outputId": "31d511ed-aa8a-4ff6-8bd5-494067a230bb"
   },
   "outputs": [
    {
     "data": {
      "text/html": [
       "<div>\n",
       "<style scoped>\n",
       "    .dataframe tbody tr th:only-of-type {\n",
       "        vertical-align: middle;\n",
       "    }\n",
       "\n",
       "    .dataframe tbody tr th {\n",
       "        vertical-align: top;\n",
       "    }\n",
       "\n",
       "    .dataframe thead th {\n",
       "        text-align: right;\n",
       "    }\n",
       "</style>\n",
       "<table border=\"1\" class=\"dataframe\">\n",
       "  <thead>\n",
       "    <tr style=\"text-align: right;\">\n",
       "      <th></th>\n",
       "      <th>userid</th>\n",
       "      <th>age</th>\n",
       "      <th>gender</th>\n",
       "      <th>tenure</th>\n",
       "      <th>friends</th>\n",
       "      <th>request</th>\n",
       "      <th>g_likes</th>\n",
       "      <th>r_likes</th>\n",
       "      <th>age_group</th>\n",
       "      <th>likes_per_day</th>\n",
       "    </tr>\n",
       "  </thead>\n",
       "  <tbody>\n",
       "    <tr>\n",
       "      <th>66752</th>\n",
       "      <td>1403953</td>\n",
       "      <td>19</td>\n",
       "      <td>male</td>\n",
       "      <td>519.0</td>\n",
       "      <td>3693</td>\n",
       "      <td>3415</td>\n",
       "      <td>170</td>\n",
       "      <td>20</td>\n",
       "      <td>16-20</td>\n",
       "      <td>0.038536</td>\n",
       "    </tr>\n",
       "    <tr>\n",
       "      <th>66707</th>\n",
       "      <td>1531202</td>\n",
       "      <td>23</td>\n",
       "      <td>male</td>\n",
       "      <td>917.0</td>\n",
       "      <td>3328</td>\n",
       "      <td>2817</td>\n",
       "      <td>2</td>\n",
       "      <td>18</td>\n",
       "      <td>21-25</td>\n",
       "      <td>0.019629</td>\n",
       "    </tr>\n",
       "    <tr>\n",
       "      <th>66713</th>\n",
       "      <td>2154556</td>\n",
       "      <td>100</td>\n",
       "      <td>male</td>\n",
       "      <td>2473.0</td>\n",
       "      <td>4765</td>\n",
       "      <td>2668</td>\n",
       "      <td>5</td>\n",
       "      <td>1</td>\n",
       "      <td>NaN</td>\n",
       "      <td>0.000404</td>\n",
       "    </tr>\n",
       "    <tr>\n",
       "      <th>66721</th>\n",
       "      <td>1758362</td>\n",
       "      <td>18</td>\n",
       "      <td>male</td>\n",
       "      <td>565.0</td>\n",
       "      <td>2917</td>\n",
       "      <td>2279</td>\n",
       "      <td>7</td>\n",
       "      <td>13</td>\n",
       "      <td>16-20</td>\n",
       "      <td>0.023009</td>\n",
       "    </tr>\n",
       "    <tr>\n",
       "      <th>66686</th>\n",
       "      <td>1007637</td>\n",
       "      <td>40</td>\n",
       "      <td>male</td>\n",
       "      <td>1278.0</td>\n",
       "      <td>2840</td>\n",
       "      <td>2213</td>\n",
       "      <td>0</td>\n",
       "      <td>6</td>\n",
       "      <td>36-40</td>\n",
       "      <td>0.004695</td>\n",
       "    </tr>\n",
       "  </tbody>\n",
       "</table>\n",
       "</div>"
      ],
      "text/plain": [
       "        userid  age gender  tenure  friends  request  g_likes  r_likes  \\\n",
       "66752  1403953   19   male   519.0     3693     3415      170       20   \n",
       "66707  1531202   23   male   917.0     3328     2817        2       18   \n",
       "66713  2154556  100   male  2473.0     4765     2668        5        1   \n",
       "66721  1758362   18   male   565.0     2917     2279        7       13   \n",
       "66686  1007637   40   male  1278.0     2840     2213        0        6   \n",
       "\n",
       "      age_group  likes_per_day  \n",
       "66752     16-20       0.038536  \n",
       "66707     21-25       0.019629  \n",
       "66713       NaN       0.000404  \n",
       "66721     16-20       0.023009  \n",
       "66686     36-40       0.004695  "
      ]
     },
     "execution_count": 12,
     "metadata": {},
     "output_type": "execute_result"
    }
   ],
   "source": [
    "followers = df.sort_values(by = 'request', ascending = False)[:5]\n",
    "followers"
   ]
  },
  {
   "cell_type": "markdown",
   "id": "XD8ZwOaUGx1M",
   "metadata": {
    "id": "XD8ZwOaUGx1M"
   },
   "source": [
    "Then we can draw the plot."
   ]
  },
  {
   "cell_type": "code",
   "execution_count": 13,
   "id": "xoZwLcljGjU7",
   "metadata": {
    "colab": {
     "base_uri": "https://localhost:8080/",
     "height": 366
    },
    "executionInfo": {
     "elapsed": 323,
     "status": "ok",
     "timestamp": 1682907494394,
     "user": {
      "displayName": "Mehrdad M. Dehghan",
      "userId": "08222177611817016206"
     },
     "user_tz": 240
    },
    "id": "xoZwLcljGjU7",
    "outputId": "338cccc8-983e-4817-8e13-9db74279ed5c"
   },
   "outputs": [
    {
     "data": {
      "image/png": "[encoded data removed]",
      "text/plain": [
       "<Figure size 1200x300 with 1 Axes>"
      ]
     },
     "metadata": {},
     "output_type": "display_data"
    }
   ],
   "source": [
    "fig, ax = plt.subplots(figsize=(12, 3))\n",
    "\n",
    "followers.plot(\n",
    "    x='userid',\n",
    "    y='request',\n",
    "    kind='bar', \n",
    "    color='gray',\n",
    "    ax=ax)\n",
    "\n",
    "#setting of axis\n",
    "plt.ylabel(\"\")\n",
    "plt.xlabel(\"User ID\")\n",
    "plt.yticks([])\n",
    "\n",
    "#add data lable\n",
    "for container in ax.containers:\n",
    "    ax.bar_label(container, label_type='edge', fontsize = 10)\n",
    "\n",
    "#remove the border\n",
    "for spine in ax.spines.values():\n",
    "    spine.set_visible(False)\n",
    "    \n",
    "#remove the legend    \n",
    "ax.get_legend().remove()\n",
    "    \n",
    "plt.show()"
   ]
  }
 ],
 "metadata": {
  "colab": {
   "collapsed_sections": [
    "d6d159a6"
   ],
   "provenance": []
  },
  "kernelspec": {
   "display_name": "Python 3 (ipykernel)",
   "language": "python",
   "name": "python3"
  },
  "language_info": {
   "codemirror_mode": {
    "name": "ipython",
    "version": 3
   },
   "file_extension": ".py",
   "mimetype": "text/x-python",
   "name": "python",
   "nbconvert_exporter": "python",
   "pygments_lexer": "ipython3",
   "version": "3.9.13"
  }
 },
 "nbformat": 4,
 "nbformat_minor": 5
}
