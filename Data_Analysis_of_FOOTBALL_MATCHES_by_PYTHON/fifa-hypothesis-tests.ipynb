{
 "cells": [
  {
   "cell_type": "code",
   "execution_count": 1,
   "metadata": {
    "_cell_guid": "b1076dfc-b9ad-4769-8c92-a6c4dae69d19",
    "_uuid": "8f2839f25d086af736a60e9eeb907d3b93b6e0e5",
    "tags": []
   },
   "outputs": [],
   "source": [
    "import numpy as np\n",
    "import pandas as pd "
   ]
  },
  {
   "cell_type": "markdown",
   "metadata": {},
   "source": [
    "# The Goal"
   ]
  },
  {
   "cell_type": "markdown",
   "metadata": {},
   "source": [
    "In this project, I'd like to answer some questions based on hypothesis tests. For answering each question, we should consider some points that make tha question differenet."
   ]
  },
  {
   "cell_type": "markdown",
   "metadata": {},
   "source": [
    "<hr>"
   ]
  },
  {
   "cell_type": "markdown",
   "metadata": {},
   "source": [
    "# What is data?"
   ]
  },
  {
   "cell_type": "markdown",
   "metadata": {},
   "source": [
    "For doing this, I have two different datasets that contain data from FIFA competitions for women and men. In this dataset, we have these variables:\n",
    "* **date**: ranging from 1800s to 2022\n",
    "* **home_team**: the name of team that was host of the match\n",
    "* **away_team**: the name of team that was guest of the match\n",
    "* **home_score**: the number of goals that the host team could score.\n",
    "* **away_score**: the number of goals that the guest team could score.\n",
    "* **tournament**: the name of the tournament or competitions.\n",
    "\n",
    "Overall, we have 4884 records for women and 44,352 records for men."
   ]
  },
  {
   "cell_type": "code",
   "execution_count": 2,
   "metadata": {
    "tags": []
   },
   "outputs": [],
   "source": [
    "men_df = pd.read_csv('men_results.csv')\n",
    "women_df = pd.read_csv('women_results.csv')"
   ]
  },
  {
   "cell_type": "markdown",
   "metadata": {},
   "source": [
    "Now, I drop the variables that I don't need and also create <b>\"Goal\"</b> variable for both women and men."
   ]
  },
  {
   "cell_type": "code",
   "execution_count": 3,
   "metadata": {
    "tags": []
   },
   "outputs": [],
   "source": [
    "#creat new column\n",
    "men_df['goal'] = men_df['home_score'] + men_df['away_score']\n",
    "women_df['goal'] = women_df['home_score'] + women_df['away_score']\n",
    "\n",
    "#remove un-needed columns\n",
    "men_df = men_df.drop(['Unnamed: 0', 'date', 'home_team' , 'away_team', 'home_score', 'away_score'], axis = 1)\n",
    "women_df = women_df.drop(['Unnamed: 0', 'date', 'home_team' , 'away_team', 'home_score', 'away_score'], axis = 1)"
   ]
  },
  {
   "cell_type": "markdown",
   "metadata": {},
   "source": [
    "<hr>"
   ]
  },
  {
   "cell_type": "markdown",
   "metadata": {},
   "source": [
    "# Test Assumptions"
   ]
  },
  {
   "cell_type": "markdown",
   "metadata": {},
   "source": [
    "For all above test, we must meet these two assumptions:\n",
    "* If I'm using one group (or two groups), that data must obey normal distribution. If the data is not normal, I use a nonparametric test, such as the <i>Mann-Whitney U test</i> or <i>WilCoxin</i>. To check the normality assumtpion, I use plots and statistical test.\n",
    "\n",
    "* If I'm using one two groups, their variance must be the same. Otherwise, I use <i>Welch's t-test</i>. To check the variance equality, I <i>Levene's test</i>."
   ]
  },
  {
   "cell_type": "markdown",
   "metadata": {},
   "source": [
    "> ## Check Normality"
   ]
  },
  {
   "cell_type": "markdown",
   "metadata": {},
   "source": [
    "#### **Shapiro-Wilk**\n",
    "\n",
    "* $Null$ : The the women's goals and men's come from normal distribution.\n",
    "* $Alt$ : The the women's goals and men's <u>do not</u> come from normal distribution."
   ]
  },
  {
   "cell_type": "code",
   "execution_count": 4,
   "metadata": {
    "tags": []
   },
   "outputs": [
    {
     "name": "stdout",
     "output_type": "stream",
     "text": [
      "Shapiro-Wilk test statistic for men: 0.8973918557167053\n",
      "p-value for men: 0.0\n",
      "\n",
      "Shapiro-Wilk test statistic for women: 0.8615658283233643\n",
      "p-value for women: 0.0\n"
     ]
    },
    {
     "name": "stderr",
     "output_type": "stream",
     "text": [
      "C:\\Users\\Mehrdad\\anaconda3\\lib\\site-packages\\scipy\\stats\\_morestats.py:1816: UserWarning: p-value may not be accurate for N > 5000.\n",
      "  warnings.warn(\"p-value may not be accurate for N > 5000.\")\n"
     ]
    }
   ],
   "source": [
    "from scipy.stats import shapiro\n",
    "\n",
    "# declare variables\n",
    "m_goal = men_df['goal']\n",
    "w_goal = women_df['goal']\n",
    "\n",
    "# Conduct the Shapiro-Wilk test for normality for each dataset\n",
    "m_SW, m_SW_pvalue = shapiro(m_goal)\n",
    "w_SW, w_SW_pvalue = shapiro(w_goal)\n",
    "\n",
    "# Print the results of the Shapiro-Wilk test\n",
    "print('Shapiro-Wilk test statistic for men:', m_SW)\n",
    "print('p-value for men:', round(m_SW_pvalue, 4))\n",
    "print()\n",
    "print('Shapiro-Wilk test statistic for women:', w_SW)\n",
    "print('p-value for women:', round(w_SW_pvalue , 4))"
   ]
  },
  {
   "cell_type": "markdown",
   "metadata": {},
   "source": [
    "#### **Q-Q Plot**\n",
    "\n",
    "A Q-Q plot, or quantile-quantile plot, is a graphical method for assessing whether a set of data comes from a particular distribution, such as a normal distribution. If the data are normally distributed, the points on the Q-Q plot should fall along a straight line.\n",
    "\n",
    "* If the points on the Q-Q plot curve upward or downward, it suggests that the data have heavier or lighter tails.\n",
    "* If the points form an S-shaped curve, it suggests that the data have both heavier tails and more extreme values than a normal distribution.\n",
    "\n",
    "It's important to note that the Q-Q plot is a visual tool and can be subjective."
   ]
  },
  {
   "cell_type": "code",
   "execution_count": 5,
   "metadata": {
    "tags": []
   },
   "outputs": [],
   "source": [
    "import statsmodels.api as sm\n",
    "\n",
    "import seaborn as sns\n",
    "import matplotlib.pyplot as plt\n",
    "import matplotlib.mlab as mlab\n",
    "import matplotlib\n",
    "plt.style.use('ggplot')\n",
    "from matplotlib.pyplot import figure\n",
    "%matplotlib inline\n",
    "\n",
    "def QQ_plot(df , var):\n",
    "    sm.qqplot(df[var], line='s')\n",
    "    plt.xlabel('Theoretical quantiles')\n",
    "    plt.ylabel('Sample quantiles')\n",
    "    plt.show()"
   ]
  },
  {
   "cell_type": "code",
   "execution_count": 6,
   "metadata": {
    "tags": []
   },
   "outputs": [
    {
     "data": {
      "image/png": "[encoded data removed]",
      "text/plain": [
       "<Figure size 640x480 with 1 Axes>"
      ]
     },
     "metadata": {},
     "output_type": "display_data"
    }
   ],
   "source": [
    "#men\n",
    "QQ_plot(men_df , 'goal')"
   ]
  },
  {
   "cell_type": "code",
   "execution_count": 7,
   "metadata": {
    "tags": []
   },
   "outputs": [
    {
     "data": {
      "image/png": "[encoded data removed]",
      "text/plain": [
       "<Figure size 640x480 with 1 Axes>"
      ]
     },
     "metadata": {},
     "output_type": "display_data"
    }
   ],
   "source": [
    "#women\n",
    "QQ_plot(women_df , 'goal')"
   ]
  },
  {
   "cell_type": "markdown",
   "metadata": {},
   "source": [
    "#### **Histgoram Distribution**\n",
    "\n",
    "We also can draw the histogram to see the skenwss and differenece between mean and median."
   ]
  },
  {
   "cell_type": "code",
   "execution_count": 8,
   "metadata": {
    "tags": []
   },
   "outputs": [],
   "source": [
    "#create function to draw plot\n",
    "def kde_plot(df, var):  \n",
    "    plt.figure(figsize = (8,3))\n",
    "    sns.distplot(df[var], kde_kws={\"lw\": 2}, hist_kws = {'alpha': 0.25})\n",
    "    sns.despine(left = True)\n",
    "    \n",
    "    mean = df[var].mean()\n",
    "    median = df[var].median()\n",
    "    \n",
    "    plt.axvline(mean, color ='black', linestyle ='dashed')\n",
    "    plt.axvline(median, color ='green', linestyle ='solid')\n",
    "    plt.xlabel('')\n",
    "    plt.ylabel('')\n",
    "    \n",
    "    return plt.show()"
   ]
  },
  {
   "cell_type": "code",
   "execution_count": 9,
   "metadata": {
    "tags": []
   },
   "outputs": [
    {
     "name": "stderr",
     "output_type": "stream",
     "text": [
      "C:\\Users\\Mehrdad\\AppData\\Local\\Temp\\ipykernel_10664\\1849407533.py:4: UserWarning: \n",
      "\n",
      "`distplot` is a deprecated function and will be removed in seaborn v0.14.0.\n",
      "\n",
      "Please adapt your code to use either `displot` (a figure-level function with\n",
      "similar flexibility) or `histplot` (an axes-level function for histograms).\n",
      "\n",
      "For a guide to updating your code to use the new functions, please see\n",
      "https://gist.github.com/mwaskom/de44147ed2974457ad6372750bbe5751\n",
      "\n",
      "  sns.distplot(df[var], kde_kws={\"lw\": 2}, hist_kws = {'alpha': 0.25})\n"
     ]
    },
    {
     "data": {
      "image/png": "[encoded data removed]",
      "text/plain": [
       "<Figure size 800x300 with 1 Axes>"
      ]
     },
     "metadata": {},
     "output_type": "display_data"
    }
   ],
   "source": [
    "#men\n",
    "kde_plot(men_df, 'goal')"
   ]
  },
  {
   "cell_type": "code",
   "execution_count": 10,
   "metadata": {
    "tags": []
   },
   "outputs": [
    {
     "name": "stderr",
     "output_type": "stream",
     "text": [
      "C:\\Users\\Mehrdad\\AppData\\Local\\Temp\\ipykernel_10664\\1849407533.py:4: UserWarning: \n",
      "\n",
      "`distplot` is a deprecated function and will be removed in seaborn v0.14.0.\n",
      "\n",
      "Please adapt your code to use either `displot` (a figure-level function with\n",
      "similar flexibility) or `histplot` (an axes-level function for histograms).\n",
      "\n",
      "For a guide to updating your code to use the new functions, please see\n",
      "https://gist.github.com/mwaskom/de44147ed2974457ad6372750bbe5751\n",
      "\n",
      "  sns.distplot(df[var], kde_kws={\"lw\": 2}, hist_kws = {'alpha': 0.25})\n"
     ]
    },
    {
     "data": {
      "image/png": "[encoded data removed]",
      "text/plain": [
       "<Figure size 800x300 with 1 Axes>"
      ]
     },
     "metadata": {},
     "output_type": "display_data"
    }
   ],
   "source": [
    "#women\n",
    "kde_plot(women_df, 'goal')"
   ]
  },
  {
   "cell_type": "markdown",
   "metadata": {},
   "source": [
    "> ## Check Variance Equality"
   ]
  },
  {
   "cell_type": "markdown",
   "metadata": {},
   "source": [
    "I should compare the variances of the two datasets. For doing this, I use the <i>Levene's test</i>. If the variances are not equal, I need to use a modified t-test, such as the <i>Welch's t-test</i>, which does not assume equal variances.\n",
    "\n",
    "* $Null$ : The variances of the women's goals and men's are <u>not</u> significantly different.\n",
    "* $Alt$ : The variances of the women's goals and men's are significantly different."
   ]
  },
  {
   "cell_type": "code",
   "execution_count": 11,
   "metadata": {
    "tags": []
   },
   "outputs": [
    {
     "name": "stdout",
     "output_type": "stream",
     "text": [
      "Levene test statistic: 309.72582760733775\n",
      "p-value: 4.0829508280646485e-69\n"
     ]
    }
   ],
   "source": [
    "from scipy.stats import levene\n",
    "\n",
    "# declare variable\n",
    "m_goal = men_df['goal']\n",
    "w_goal = women_df['goal']\n",
    "\n",
    "# Conduct the Levene's test to compare the variances of the two datasets\n",
    "statistic, pvalue = levene(m_goal, w_goal)\n",
    "\n",
    "print('Levene test statistic:', statistic)\n",
    "print('p-value:', pvalue)"
   ]
  },
  {
   "cell_type": "markdown",
   "metadata": {},
   "source": [
    "<hr>"
   ]
  },
  {
   "cell_type": "markdown",
   "metadata": {},
   "source": [
    "# Test (1)\n",
    "\n",
    "In this test, we want to analyse these hypothesis:\n",
    "* $H_0$ : The mean of scored goal of men's matches is equal or less than 2.5\n",
    "* $H_a$ : The mean of scored goal of men's matches is greater than 2.5\n",
    "\n",
    "So, we can have the below equations:\n",
    "\n",
    "* $H_0$  :  $\\mu_m \\leq$ 2.5\n",
    "* $H_a$  :  $\\mu_m >$ 2.5"
   ]
  },
  {
   "cell_type": "markdown",
   "metadata": {},
   "source": [
    "For answering this question, we consider this condition:\n",
    "1. We have one sample\n",
    "2. We have large dataset\n",
    "3. We don't know the population variance\n",
    "4. We must test right-tail\n",
    "\n",
    "So, with this condition, I use <b><i>Z-Statistic</i></b>"
   ]
  },
  {
   "cell_type": "markdown",
   "metadata": {},
   "source": [
    "> ## Process"
   ]
  },
  {
   "cell_type": "code",
   "execution_count": 12,
   "metadata": {
    "tags": []
   },
   "outputs": [
    {
     "data": {
      "text/plain": [
       "2.9193515658467297"
      ]
     },
     "execution_count": 12,
     "metadata": {},
     "output_type": "execute_result"
    }
   ],
   "source": [
    "#the null value that question arose\n",
    "Test1_Null_Value = 2.5\n",
    "\n",
    "#the sample mean\n",
    "Test1_Mean = men_df['goal'].mean()\n",
    "Test1_Mean"
   ]
  },
  {
   "cell_type": "code",
   "execution_count": 13,
   "metadata": {
    "tags": []
   },
   "outputs": [],
   "source": [
    "#the sample standard deviation \n",
    "n_bootstraps = 5000\n",
    "\n",
    "# Generate n_bootstraps resamples of the data with replacement\n",
    "Test1_boot = np.zeros(n_bootstraps)\n",
    "for i in range(n_bootstraps):\n",
    "    Test1_boot_sample = men_df['goal'].sample(frac = 1, replace = True)\n",
    "    Test1_boot[i] = Test1_boot_sample.mean()\n",
    "\n",
    "# Calculate the standard deviation of the means\n",
    "Test1_Std = Test1_boot.std()"
   ]
  },
  {
   "cell_type": "markdown",
   "metadata": {},
   "source": [
    "Now, I run z-test:\n",
    "\n",
    "$ \\frac{x - \\mu_m} {SE_m} $"
   ]
  },
  {
   "cell_type": "code",
   "execution_count": 14,
   "metadata": {
    "tags": []
   },
   "outputs": [
    {
     "data": {
      "text/plain": [
       "43.111556984298524"
      ]
     },
     "execution_count": 14,
     "metadata": {},
     "output_type": "execute_result"
    }
   ],
   "source": [
    "#compute z-score\n",
    "Test1_Z = (Test1_Mean - Test1_Null_Value) / (Test1_Std)\n",
    "Test1_Z"
   ]
  },
  {
   "cell_type": "code",
   "execution_count": 15,
   "metadata": {
    "tags": []
   },
   "outputs": [
    {
     "data": {
      "text/plain": [
       "0.0"
      ]
     },
     "execution_count": 15,
     "metadata": {},
     "output_type": "execute_result"
    }
   ],
   "source": [
    "#Convert Z-score to normal standard CDF to find p-value\n",
    "from scipy.stats import norm\n",
    "\n",
    "# Right tailed\n",
    "1 - norm.cdf(Test1_Z, loc = 0, scale = 1)"
   ]
  },
  {
   "cell_type": "markdown",
   "metadata": {},
   "source": [
    "We can conclude the following statement:\n",
    "\n",
    "* $ \\alpha $ = 0.05\n",
    "* $ p $ = 0\n",
    "* $ p $ < $ \\alpha $ , we reject $H_0$ and we can say <i>\" The mean of scored goal of men's matches is greater than 2.5\"</i>"
   ]
  },
  {
   "cell_type": "markdown",
   "metadata": {},
   "source": [
    "<hr>"
   ]
  },
  {
   "cell_type": "markdown",
   "metadata": {},
   "source": [
    "# Test (2)\n",
    "\n",
    "In this test, we want to analyse these hypothesis:\n",
    "* $H_0$: The differences between men's goal with women's is greater or equal than 75%.\n",
    "* $H_a$: The differences between men's goal with women's is less than 75%.\n",
    "\n",
    "So, we can have the below equations:\n",
    "\n",
    "* $H_0$  :  $p_m $ - $p_w$ $\\geq$ 75%\n",
    "* $H_a$  :  $p_m $ - $p_w$ $<$ 75%"
   ]
  },
  {
   "cell_type": "markdown",
   "metadata": {},
   "source": [
    "For answering this question, we consider this condition:\n",
    "1. We have two sample\n",
    "2. We have large dataset\n",
    "3. We don't know the population variance\n",
    "4. We must test left-tail\n",
    "\n",
    "So, with this condition, I use <b><i>T-Statistic</i></b>"
   ]
  },
  {
   "cell_type": "markdown",
   "metadata": {},
   "source": [
    "> ## Process"
   ]
  },
  {
   "cell_type": "markdown",
   "metadata": {},
   "source": [
    "First, I calculate the proportion of goals of women and men match.\n",
    "\n",
    "$ \\frac{\\mu_w} {\\mu_w + \\mu_m} $\n",
    "\n",
    "$ \\frac{\\mu_m} {\\mu_w + \\mu_m} $"
   ]
  },
  {
   "cell_type": "code",
   "execution_count": 16,
   "metadata": {
    "tags": []
   },
   "outputs": [
    {
     "name": "stdout",
     "output_type": "stream",
     "text": [
      "0.8774098242903512 0.12259017570964878\n"
     ]
    }
   ],
   "source": [
    "total_goal = women_df['goal'].sum() + men_df['goal'].sum()\n",
    "p_men = men_df['goal'].sum() / total_goal\n",
    "p_women = women_df['goal'].sum() / total_goal\n",
    "\n",
    "print(p_men , p_women)"
   ]
  },
  {
   "cell_type": "markdown",
   "metadata": {},
   "source": [
    "Now, we compute the standard error for two-sample t test that we don't know the population variance.\n",
    "\n",
    "$ SE = \\sqrt{\\frac{p_m * q_m} {n_m} + \\frac{p_w * q_w} {n_w}} $"
   ]
  },
  {
   "cell_type": "code",
   "execution_count": 17,
   "metadata": {
    "tags": []
   },
   "outputs": [
    {
     "data": {
      "text/plain": [
       "0.004944536009989716"
      ]
     },
     "execution_count": 17,
     "metadata": {},
     "output_type": "execute_result"
    }
   ],
   "source": [
    "n_women = len(women_df)\n",
    "n_men = len(men_df)\n",
    "\n",
    "se = np.sqrt((p_women * (1 - p_women) / n_women) + (p_men * (1 - p_men) / n_men))\n",
    "se"
   ]
  },
  {
   "cell_type": "markdown",
   "metadata": {},
   "source": [
    "Then, we can calculate t-score.\n",
    "\n",
    "$ t.score = \\frac{d - null} {SE} $"
   ]
  },
  {
   "cell_type": "code",
   "execution_count": 18,
   "metadata": {
    "tags": []
   },
   "outputs": [
    {
     "data": {
      "text/plain": [
       "0.9747423359775287"
      ]
     },
     "execution_count": 18,
     "metadata": {},
     "output_type": "execute_result"
    }
   ],
   "source": [
    "Test2_Null_Value = 0.75\n",
    "Differenece = p_men - p_women\n",
    "\n",
    "t_score = (Differenece - Test2_Null_Value) / se\n",
    "t_score"
   ]
  },
  {
   "cell_type": "code",
   "execution_count": 19,
   "metadata": {
    "tags": []
   },
   "outputs": [
    {
     "data": {
      "text/plain": [
       "0.8351535620212998"
      ]
     },
     "execution_count": 19,
     "metadata": {},
     "output_type": "execute_result"
    }
   ],
   "source": [
    "#Convert t-score to t-standard CDF to find p-value\n",
    "from scipy.stats import t\n",
    "\n",
    "degree = n_women + n_men - 2\n",
    "\n",
    "#Left tailed\n",
    "t.cdf(t_score, df = degree)"
   ]
  },
  {
   "cell_type": "markdown",
   "metadata": {},
   "source": [
    "We can conclude the following statement:\n",
    "\n",
    "* $ \\alpha $ = 0.05\n",
    "* $ p $ = 0.835\n",
    "* $ p $ > $ \\alpha $ , we fail to reject $H_0$ and we can say <i>\" The differences between men's goal with women's is greater or equal than 75%\"</i>"
   ]
  },
  {
   "cell_type": "markdown",
   "metadata": {},
   "source": [
    "<hr>"
   ]
  },
  {
   "cell_type": "markdown",
   "metadata": {},
   "source": [
    "# Test (3)\n",
    "\n",
    "In this test, we want to analyse these hypothesis:\n",
    "* $H_0$: The mean number of goals of men's matches in FIFA World Cup is equal to or greater than other tournament.\n",
    "* $H_a$: The mean number of goals of men's matches in FIFA World Cup is less than other tournament.\n",
    "\n",
    "So, we can have the below equations:\n",
    "\n",
    "* $H_0$  :  $\\mu_f $ - $\\mu_o$ $\\geq$ 0\n",
    "* $H_a$  :  $\\mu_f $ - $\\mu_o$ $<$ 0"
   ]
  },
  {
   "cell_type": "markdown",
   "metadata": {},
   "source": [
    "So, with this condition, I use <b><i>ANOVA - Two groups</i></b>"
   ]
  },
  {
   "cell_type": "markdown",
   "metadata": {},
   "source": [
    "> ## Process"
   ]
  },
  {
   "cell_type": "markdown",
   "metadata": {},
   "source": [
    "First we should seperate FIFA matches and other tournament."
   ]
  },
  {
   "cell_type": "code",
   "execution_count": 20,
   "metadata": {
    "tags": []
   },
   "outputs": [],
   "source": [
    "#create new column for FIFA match\n",
    "label_list = []\n",
    "\n",
    "for i in range(men_df.shape[0]):\n",
    "    if men_df.loc[i, 'tournament'] == 'FIFA World Cup':\n",
    "        label_list.append('Yes')\n",
    "    else:\n",
    "        label_list.append('No')\n",
    "        \n",
    "men_df['FIFA'] = label_list"
   ]
  },
  {
   "cell_type": "code",
   "execution_count": 21,
   "metadata": {
    "tags": []
   },
   "outputs": [],
   "source": [
    "#create two different dataframe\n",
    "FIFA_tabel = men_df[men_df['FIFA'] == 'Yes']\n",
    "Other_tabel = men_df[men_df['FIFA'] == 'No']"
   ]
  },
  {
   "cell_type": "code",
   "execution_count": 22,
   "metadata": {
    "tags": []
   },
   "outputs": [
    {
     "name": "stdout",
     "output_type": "stream",
     "text": [
      "2.8215767634854774 2.921523888543179\n"
     ]
    }
   ],
   "source": [
    "#compute the mean\n",
    "mean_fifa = FIFA_tabel['goal'].mean()\n",
    "mean_other = Other_tabel['goal'].mean()\n",
    "\n",
    "print(mean_fifa , mean_other)"
   ]
  },
  {
   "cell_type": "code",
   "execution_count": 23,
   "metadata": {
    "tags": []
   },
   "outputs": [],
   "source": [
    "#create a funcion for finding error standard deviation based on bootstrap\n",
    "def TOUR_SE(df):\n",
    "    n_bootstraps = 5000\n",
    "    boot = np.zeros(n_bootstraps)\n",
    "    \n",
    "    for i in range(n_bootstraps):\n",
    "        boot_sample = df['goal'].sample(frac = 1, replace = True)\n",
    "        boot[i] = boot_sample.mean()\n",
    "    \n",
    "    SE = boot.std()\n",
    "    \n",
    "    return SE"
   ]
  },
  {
   "cell_type": "code",
   "execution_count": 24,
   "metadata": {
    "tags": []
   },
   "outputs": [
    {
     "name": "stdout",
     "output_type": "stream",
     "text": [
      "0.062503683545659 0.01004406832791041\n"
     ]
    }
   ],
   "source": [
    "#compute standard error\n",
    "se_fifa = TOUR_SE(FIFA_tabel)\n",
    "se_other = TOUR_SE(Other_tabel)\n",
    "\n",
    "print(se_fifa ,se_other)"
   ]
  },
  {
   "cell_type": "markdown",
   "metadata": {},
   "source": [
    "Now, we can find the t-score.\n",
    "\n",
    "$ t.score = \\frac{d - null} {\\sqrt{\\frac{S^2} {n_m} + \\frac{S^2} {n_w}}} $"
   ]
  },
  {
   "cell_type": "code",
   "execution_count": 25,
   "metadata": {
    "tags": []
   },
   "outputs": [
    {
     "data": {
      "text/plain": [
       "-49.63392992485147"
      ]
     },
     "execution_count": 25,
     "metadata": {},
     "output_type": "execute_result"
    }
   ],
   "source": [
    "numerator = mean_fifa - mean_other\n",
    "denominator = np.sqrt(se_fifa ** 2 / FIFA_tabel.shape[0] + se_other ** 2 / Other_tabel.shape[0])\n",
    "t_stat = numerator / denominator\n",
    "t_stat"
   ]
  },
  {
   "cell_type": "code",
   "execution_count": 26,
   "metadata": {
    "tags": []
   },
   "outputs": [],
   "source": [
    "#calculate degree of freedom\n",
    "degree = FIFA_tabel.shape[0] + Other_tabel.shape[0] - 2"
   ]
  },
  {
   "cell_type": "code",
   "execution_count": 27,
   "metadata": {
    "tags": []
   },
   "outputs": [
    {
     "data": {
      "text/plain": [
       "0.0"
      ]
     },
     "execution_count": 27,
     "metadata": {},
     "output_type": "execute_result"
    }
   ],
   "source": [
    "#Convert t-score to t-standard CDF to find p-value\n",
    "from scipy.stats import t\n",
    "\n",
    "#Left tailed\n",
    "t.cdf(t_stat, df = degree)"
   ]
  },
  {
   "cell_type": "markdown",
   "metadata": {},
   "source": [
    "We can conclude the following statement:\n",
    "\n",
    "* $ \\alpha $ = 0.05\n",
    "* $ p $ = 0\n",
    "* $ p $ < $ \\alpha $ , we reject $H_0$ and we can say <i>\" The mean number of goals of men's matches in FIFA World Cup is less than other tournament\"</i>"
   ]
  }
 ],
 "metadata": {
  "kernelspec": {
   "display_name": "Python 3 (ipykernel)",
   "language": "python",
   "name": "python3"
  },
  "language_info": {
   "codemirror_mode": {
    "name": "ipython",
    "version": 3
   },
   "file_extension": ".py",
   "mimetype": "text/x-python",
   "name": "python",
   "nbconvert_exporter": "python",
   "pygments_lexer": "ipython3",
   "version": "3.9.13"
  }
 },
 "nbformat": 4,
 "nbformat_minor": 4
}
