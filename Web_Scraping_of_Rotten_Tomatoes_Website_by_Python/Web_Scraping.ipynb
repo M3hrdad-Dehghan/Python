{
 "cells": [
  {
   "cell_type": "markdown",
   "id": "df1401e9-cc74-4a04-8508-f67ec5c88f47",
   "metadata": {},
   "source": [
    "# Setup Environment"
   ]
  },
  {
   "cell_type": "code",
   "execution_count": 1,
   "id": "eb6b39ab-88fd-4f9c-bbc5-a7eaaacf84e9",
   "metadata": {},
   "outputs": [],
   "source": [
    "import requests\n",
    "from bs4 import BeautifulSoup"
   ]
  },
  {
   "cell_type": "markdown",
   "id": "0fd5bc51-95b4-4299-8c31-0884d11023f1",
   "metadata": {},
   "source": [
    "# Connection"
   ]
  },
  {
   "cell_type": "code",
   "execution_count": 2,
   "id": "95b42069-2089-4463-b542-46fe1dd5263b",
   "metadata": {},
   "outputs": [],
   "source": [
    "url = \"https://www.rottentomatoes.com/browse/movies_at_home/sort:popular\""
   ]
  },
  {
   "cell_type": "code",
   "execution_count": 3,
   "id": "38edef94-f6d1-4b07-8b6a-9229a8f504c3",
   "metadata": {},
   "outputs": [],
   "source": [
    "response = requests.get(url)"
   ]
  },
  {
   "cell_type": "code",
   "execution_count": 4,
   "id": "fa061f1a-bfe2-4e90-8a25-900a9f65627c",
   "metadata": {},
   "outputs": [
    {
     "data": {
      "text/plain": [
       "<Response [200]>"
      ]
     },
     "execution_count": 4,
     "metadata": {},
     "output_type": "execute_result"
    }
   ],
   "source": [
    "response"
   ]
  },
  {
   "cell_type": "markdown",
   "id": "f456259e-29f9-4b88-b51c-c01d75666c04",
   "metadata": {},
   "source": [
    "# Active Parser"
   ]
  },
  {
   "cell_type": "code",
   "execution_count": 5,
   "id": "d94a818d-a217-4338-a4dc-79f5bd5f71ed",
   "metadata": {},
   "outputs": [],
   "source": [
    "html = response.content"
   ]
  },
  {
   "cell_type": "code",
   "execution_count": 6,
   "id": "43c15e8a-e9d0-471b-b883-0aea08b6170a",
   "metadata": {},
   "outputs": [],
   "source": [
    "soup = BeautifulSoup(html , 'html.parser')"
   ]
  },
  {
   "cell_type": "code",
   "execution_count": 7,
   "id": "e90e4d37-2002-4020-8207-6c0a3afef2b8",
   "metadata": {},
   "outputs": [],
   "source": [
    "with open('web scraping parser.html', 'wb') as file:\n",
    "    file.write(soup.prettify('utf-8'))"
   ]
  },
  {
   "cell_type": "markdown",
   "id": "ec45e627-d8cd-4d3a-8a81-1aabc2786ac3",
   "metadata": {},
   "source": [
    "# Extract Data"
   ]
  },
  {
   "cell_type": "code",
   "execution_count": 8,
   "id": "6bb5bd05-d119-4402-9395-6ee84fb03c52",
   "metadata": {},
   "outputs": [],
   "source": [
    "div = soup.find_all('div' , {'class':'js-tile-link'})"
   ]
  },
  {
   "cell_type": "markdown",
   "id": "1ab397a8-7a14-4943-a937-a58f4194851e",
   "metadata": {},
   "source": [
    "### title"
   ]
  },
  {
   "cell_type": "code",
   "execution_count": 9,
   "id": "309c0f8c-7d51-45e0-917e-72f9f0f42222",
   "metadata": {},
   "outputs": [],
   "source": [
    "title = [t.find('span', class_ = 'p--small').string for t in div]"
   ]
  },
  {
   "cell_type": "code",
   "execution_count": 10,
   "id": "d11886e4-18dd-49ba-8708-dd1c83de4dee",
   "metadata": {},
   "outputs": [],
   "source": [
    "title = [tc.strip('\\r\\n        ') for tc in title]"
   ]
  },
  {
   "cell_type": "markdown",
   "id": "c7b7ca9d-810c-43c1-a5b5-6bf585d811c5",
   "metadata": {},
   "source": [
    "### date"
   ]
  },
  {
   "cell_type": "code",
   "execution_count": 11,
   "id": "55917ed7-792f-498d-892c-6360952e9b82",
   "metadata": {},
   "outputs": [],
   "source": [
    "date_release = [d.find('span', class_ = 'smaller').string for d in div]"
   ]
  },
  {
   "cell_type": "code",
   "execution_count": 12,
   "id": "b313abb9-cf33-45d4-984e-8226ffc1dce2",
   "metadata": {},
   "outputs": [],
   "source": [
    "date_release = [dc.strip('\\r\\n          ' 'Streaming') for dc in date_release]"
   ]
  },
  {
   "cell_type": "markdown",
   "id": "51383a1f-07ef-4963-ac5a-10094e84b41d",
   "metadata": {},
   "source": [
    "### score"
   ]
  },
  {
   "cell_type": "code",
   "execution_count": 13,
   "id": "15187d11-141c-4081-8979-3538818dc791",
   "metadata": {},
   "outputs": [],
   "source": [
    "score_audienc = [sa.find('score-pairs').get('audiencescore') for sa in div]"
   ]
  },
  {
   "cell_type": "code",
   "execution_count": 14,
   "id": "978a11f3-53cf-4e4b-8ad1-86cc8c327131",
   "metadata": {},
   "outputs": [],
   "source": [
    "score_critic = [sc.find('score-pairs').get('criticsscore') for sc in div]"
   ]
  },
  {
   "cell_type": "markdown",
   "id": "e264e532-231e-4b89-a631-a137cfbcec8c",
   "metadata": {},
   "source": [
    "# Convert to Dataframe"
   ]
  },
  {
   "cell_type": "code",
   "execution_count": 15,
   "id": "094bfcdd-295f-4f79-b56b-c03b74b6cdf7",
   "metadata": {},
   "outputs": [],
   "source": [
    "import pandas as pd\n",
    "\n",
    "data = pd.DataFrame()\n",
    "\n",
    "data['title'] = title\n",
    "data['date_release'] = date_release\n",
    "data['score_audienc'] = score_audienc\n",
    "data['score_critic'] = score_critic"
   ]
  },
  {
   "cell_type": "markdown",
   "id": "448f60de-230d-4750-9b51-4dd26d3b8475",
   "metadata": {},
   "source": [
    "# Export File"
   ]
  },
  {
   "cell_type": "code",
   "execution_count": 16,
   "id": "b5606000-2a5b-461b-b2b5-a4facaad33cf",
   "metadata": {},
   "outputs": [],
   "source": [
    "data.to_csv('Rotten Web Scraping.csv', index=False, header=True)"
   ]
  }
 ],
 "metadata": {
  "kernelspec": {
   "display_name": "Python 3 (ipykernel)",
   "language": "python",
   "name": "python3"
  },
  "language_info": {
   "codemirror_mode": {
    "name": "ipython",
    "version": 3
   },
   "file_extension": ".py",
   "mimetype": "text/x-python",
   "name": "python",
   "nbconvert_exporter": "python",
   "pygments_lexer": "ipython3",
   "version": "3.9.13"
  }
 },
 "nbformat": 4,
 "nbformat_minor": 5
}
